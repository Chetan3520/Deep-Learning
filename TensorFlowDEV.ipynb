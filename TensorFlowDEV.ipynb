{
  "nbformat": 4,
  "nbformat_minor": 0,
  "metadata": {
    "colab": {
      "provenance": [],
      "mount_file_id": "1Gm9Sek2Fav97GntCrNc4VvqbWT544pB7",
      "authorship_tag": "ABX9TyPqVHwXBf0Hrfw8kKkDxItk",
      "include_colab_link": true
    },
    "kernelspec": {
      "name": "python3",
      "display_name": "Python 3"
    },
    "language_info": {
      "name": "python"
    },
    "accelerator": "TPU"
  },
  "cells": [
    {
      "cell_type": "markdown",
      "metadata": {
        "id": "view-in-github",
        "colab_type": "text"
      },
      "source": [
        "<a href=\"https://colab.research.google.com/github/Chetan3520/Deep-Learning/blob/main/TensorFlowDEV.ipynb\" target=\"_parent\"><img src=\"https://colab.research.google.com/assets/colab-badge.svg\" alt=\"Open In Colab\"/></a>"
      ]
    },
    {
      "cell_type": "markdown",
      "source": [
        "## **TensorFlow Devloper Practice**"
      ],
      "metadata": {
        "id": "HFxCr_aDa4Px"
      }
    },
    {
      "cell_type": "code",
      "execution_count": null,
      "metadata": {
        "id": "4i7LBTZnax5T"
      },
      "outputs": [],
      "source": [
        "import tensorflow as tf"
      ]
    },
    {
      "cell_type": "code",
      "source": [],
      "metadata": {
        "id": "ksvdTFw4cDb6"
      },
      "execution_count": null,
      "outputs": []
    },
    {
      "cell_type": "markdown",
      "source": [
        "# Creating the  tensor  with tf.constant()\n",
        "\n",
        "*   Scaler is zero dimentional Tensor\n",
        "*   vector is one dimentional Tensor\n"
      ],
      "metadata": {
        "id": "TGxXINSycEW1"
      }
    },
    {
      "cell_type": "code",
      "source": [
        "T1=tf.constant(12)"
      ],
      "metadata": {
        "id": "jSvvnB53bIQU"
      },
      "execution_count": null,
      "outputs": []
    },
    {
      "cell_type": "code",
      "source": [
        "T1.ndim"
      ],
      "metadata": {
        "colab": {
          "base_uri": "https://localhost:8080/"
        },
        "id": "BU5IGkjdcR0x",
        "outputId": "e7864754-f09a-4a94-e899-360745383fda"
      },
      "execution_count": null,
      "outputs": [
        {
          "output_type": "execute_result",
          "data": {
            "text/plain": [
              "0"
            ]
          },
          "metadata": {},
          "execution_count": 10
        }
      ]
    },
    {
      "cell_type": "code",
      "source": [
        "T2=tf.constant([1,2,4])"
      ],
      "metadata": {
        "id": "KCBJcTRqcVO6"
      },
      "execution_count": null,
      "outputs": []
    },
    {
      "cell_type": "code",
      "source": [
        "T2.ndim"
      ],
      "metadata": {
        "colab": {
          "base_uri": "https://localhost:8080/"
        },
        "id": "-dVgwM9kcwdA",
        "outputId": "a61ba339-897b-4a19-b5f9-99e15b49d46d"
      },
      "execution_count": null,
      "outputs": [
        {
          "output_type": "execute_result",
          "data": {
            "text/plain": [
              "1"
            ]
          },
          "metadata": {},
          "execution_count": 12
        }
      ]
    },
    {
      "cell_type": "code",
      "source": [
        "T3=tf.constant([[1,2,4],\n",
        "               [1,5,3]])"
      ],
      "metadata": {
        "id": "Wh7ooauLc1gP"
      },
      "execution_count": null,
      "outputs": []
    },
    {
      "cell_type": "code",
      "source": [
        "T3.ndim\n",
        "\n"
      ],
      "metadata": {
        "colab": {
          "base_uri": "https://localhost:8080/"
        },
        "id": "2pkv9DUxdHuS",
        "outputId": "4ccb82aa-897a-47a9-c236-0661378098c5"
      },
      "execution_count": null,
      "outputs": [
        {
          "output_type": "execute_result",
          "data": {
            "text/plain": [
              "2"
            ]
          },
          "metadata": {},
          "execution_count": 14
        }
      ]
    },
    {
      "cell_type": "code",
      "source": [
        "# How about a tensor? (more than 2 dimensions, although, all of the above items are also technically tensors)\n",
        "tensor = tf.constant([[[1, 2, 3],\n",
        "                       [4, 5, 6]],\n",
        "                      [[7, 8, 9],\n",
        "                       [10, 11, 12]],\n",
        "                      [[13, 14, 15],\n",
        "                       [16, 17, 18]]])\n",
        "tensor"
      ],
      "metadata": {
        "colab": {
          "base_uri": "https://localhost:8080/"
        },
        "id": "JoShWtWFdt_D",
        "outputId": "ba6af77c-81ec-40aa-f3ea-1be1bc68d960"
      },
      "execution_count": null,
      "outputs": [
        {
          "output_type": "execute_result",
          "data": {
            "text/plain": [
              "<tf.Tensor: shape=(3, 2, 3), dtype=int32, numpy=\n",
              "array([[[ 1,  2,  3],\n",
              "        [ 4,  5,  6]],\n",
              "\n",
              "       [[ 7,  8,  9],\n",
              "        [10, 11, 12]],\n",
              "\n",
              "       [[13, 14, 15],\n",
              "        [16, 17, 18]]], dtype=int32)>"
            ]
          },
          "metadata": {},
          "execution_count": 15
        }
      ]
    },
    {
      "cell_type": "markdown",
      "source": [
        "# **Creating Tensors with tf.Variable()**\n",
        "You can also (although you likely rarely will, because often, when working with data, tensors are created for you automatically) create tensors using tf.Variable().\n",
        "\n",
        "The difference between tf.Variable() and tf.constant() is tensors created with tf.constant() are immutable (can't be changed, can only be used to create a new tensor), where as, tensors created with tf.Variable() are mutable (can be changed)."
      ],
      "metadata": {
        "id": "e3LnPR8Petxv"
      }
    },
    {
      "cell_type": "code",
      "source": [
        "t1=tf.Variable([[1,2,4,5],[3,5,3,3]])\n",
        "t1"
      ],
      "metadata": {
        "colab": {
          "base_uri": "https://localhost:8080/"
        },
        "id": "xnya5w_Xes6q",
        "outputId": "adb5e3b3-e35a-4c37-df92-76a57e7b8784"
      },
      "execution_count": null,
      "outputs": [
        {
          "output_type": "execute_result",
          "data": {
            "text/plain": [
              "<tf.Variable 'Variable:0' shape=(2, 4) dtype=int32, numpy=\n",
              "array([[1, 2, 4, 5],\n",
              "       [3, 5, 3, 3]], dtype=int32)>"
            ]
          },
          "metadata": {},
          "execution_count": 16
        }
      ]
    },
    {
      "cell_type": "code",
      "source": [],
      "metadata": {
        "id": "H6SDHhsrd317"
      },
      "execution_count": null,
      "outputs": []
    },
    {
      "cell_type": "code",
      "source": [
        "t1[1,1].assign(345)"
      ],
      "metadata": {
        "colab": {
          "base_uri": "https://localhost:8080/"
        },
        "id": "-UTKbux5fUWY",
        "outputId": "12fa0627-fce0-4d58-a858-d36eec7b6b32"
      },
      "execution_count": null,
      "outputs": [
        {
          "output_type": "execute_result",
          "data": {
            "text/plain": [
              "<tf.Variable 'UnreadVariable' shape=(2, 4) dtype=int32, numpy=\n",
              "array([[  1,   2,   4,   5],\n",
              "       [  3, 345,   3,   3]], dtype=int32)>"
            ]
          },
          "metadata": {},
          "execution_count": 17
        }
      ]
    },
    {
      "cell_type": "code",
      "source": [],
      "metadata": {
        "id": "iBje38ELf5UP"
      },
      "execution_count": null,
      "outputs": []
    },
    {
      "cell_type": "markdown",
      "source": [
        "# Creating the Random Tensor"
      ],
      "metadata": {
        "id": "BgB_2h4ZUUKU"
      }
    },
    {
      "cell_type": "code",
      "source": [
        "# Create a random number generator\n",
        "\n",
        "random_t=tf.random.Generator.from_seed(42)\n",
        "\n",
        "random_t.normal((3,2))"
      ],
      "metadata": {
        "colab": {
          "base_uri": "https://localhost:8080/"
        },
        "id": "ZDFpt_KPUYgV",
        "outputId": "c06cfa1f-bb44-495b-96fc-cdd5404a0c9f"
      },
      "execution_count": null,
      "outputs": [
        {
          "output_type": "execute_result",
          "data": {
            "text/plain": [
              "<tf.Tensor: shape=(3, 2), dtype=float32, numpy=\n",
              "array([[-0.7565803 , -0.06854702],\n",
              "       [ 0.07595026, -1.2573844 ],\n",
              "       [-0.23193763, -1.8107855 ]], dtype=float32)>"
            ]
          },
          "metadata": {},
          "execution_count": 18
        }
      ]
    },
    {
      "cell_type": "code",
      "source": [
        "generator = tf.random.Generator.from_seed(42)  # You can use any seed value\n",
        "\n",
        "# Generate a random tensor with uniform distribution\n",
        "shape = (2, 3)\n",
        "random_tensor = generator.uniform(shape, minval=0, maxval=1)\n",
        "\n",
        "print(random_tensor)"
      ],
      "metadata": {
        "colab": {
          "base_uri": "https://localhost:8080/"
        },
        "id": "EdB4QGwWXJzv",
        "outputId": "0f17046f-90f1-4af3-c0d9-527a0a7b3a97"
      },
      "execution_count": null,
      "outputs": [
        {
          "output_type": "stream",
          "name": "stdout",
          "text": [
            "tf.Tensor(\n",
            "[[0.7493447  0.73561966 0.45230794]\n",
            " [0.49039817 0.1889317  0.52027524]], shape=(2, 3), dtype=float32)\n"
          ]
        }
      ]
    },
    {
      "cell_type": "code",
      "source": [
        "#Exponential is not present in the Generator.\n",
        "\n",
        "# Create a random number generator\n",
        "generator = tf.random.Generator.from_seed(42)  # You can use any seed value\n",
        "\n",
        "# Generate a random tensor with exponential distribution\n",
        "shape = (2, 3)\n",
        "random_tensor = generator.exponential(shape, 1.0)  # The second parameter is the scale parameter\n",
        "\n",
        "print(random_tensor)"
      ],
      "metadata": {
        "colab": {
          "base_uri": "https://localhost:8080/",
          "height": 262
        },
        "id": "VdCubLtNczFS",
        "outputId": "965d8438-e62f-4dbd-f1c6-905137cdd411"
      },
      "execution_count": null,
      "outputs": [
        {
          "output_type": "error",
          "ename": "AttributeError",
          "evalue": "'Generator' object has no attribute 'exponential'",
          "traceback": [
            "\u001b[0;31m---------------------------------------------------------------------------\u001b[0m",
            "\u001b[0;31mAttributeError\u001b[0m                            Traceback (most recent call last)",
            "\u001b[0;32m<ipython-input-20-6541a2c40d6e>\u001b[0m in \u001b[0;36m<cell line: 8>\u001b[0;34m()\u001b[0m\n\u001b[1;32m      6\u001b[0m \u001b[0;31m# Generate a random tensor with exponential distribution\u001b[0m\u001b[0;34m\u001b[0m\u001b[0;34m\u001b[0m\u001b[0m\n\u001b[1;32m      7\u001b[0m \u001b[0mshape\u001b[0m \u001b[0;34m=\u001b[0m \u001b[0;34m(\u001b[0m\u001b[0;36m2\u001b[0m\u001b[0;34m,\u001b[0m \u001b[0;36m3\u001b[0m\u001b[0;34m)\u001b[0m\u001b[0;34m\u001b[0m\u001b[0;34m\u001b[0m\u001b[0m\n\u001b[0;32m----> 8\u001b[0;31m \u001b[0mrandom_tensor\u001b[0m \u001b[0;34m=\u001b[0m \u001b[0mgenerator\u001b[0m\u001b[0;34m.\u001b[0m\u001b[0mexponential\u001b[0m\u001b[0;34m(\u001b[0m\u001b[0mshape\u001b[0m\u001b[0;34m,\u001b[0m \u001b[0;36m1.0\u001b[0m\u001b[0;34m)\u001b[0m  \u001b[0;31m# The second parameter is the scale parameter\u001b[0m\u001b[0;34m\u001b[0m\u001b[0;34m\u001b[0m\u001b[0m\n\u001b[0m\u001b[1;32m      9\u001b[0m \u001b[0;34m\u001b[0m\u001b[0m\n\u001b[1;32m     10\u001b[0m \u001b[0mprint\u001b[0m\u001b[0;34m(\u001b[0m\u001b[0mrandom_tensor\u001b[0m\u001b[0;34m)\u001b[0m\u001b[0;34m\u001b[0m\u001b[0;34m\u001b[0m\u001b[0m\n",
            "\u001b[0;31mAttributeError\u001b[0m: 'Generator' object has no attribute 'exponential'"
          ]
        }
      ]
    },
    {
      "cell_type": "markdown",
      "source": [
        "# Shuffle the order of the elements in tensor\n",
        "\n",
        "\n",
        "*   To create the Randomness in the data we need to shuffle it sometimes to satisfy asssumption of the indepenedence of the data points\n",
        "\n",
        "tf.radom.shuffle(tensor_to_shuffle)\n"
      ],
      "metadata": {
        "id": "Au8xJbmDidvC"
      }
    },
    {
      "cell_type": "code",
      "source": [
        "not_shuffled=tf.constant([[10,3],[6,4],[9,4]]);not_shuffled"
      ],
      "metadata": {
        "id": "of73q7XNgdbg"
      },
      "execution_count": null,
      "outputs": []
    },
    {
      "cell_type": "code",
      "source": [
        "not_shuffled.ndim"
      ],
      "metadata": {
        "id": "VwML-03ojdis"
      },
      "execution_count": null,
      "outputs": []
    },
    {
      "cell_type": "code",
      "source": [
        "tf.random.shuffle(not_shuffled)"
      ],
      "metadata": {
        "colab": {
          "base_uri": "https://localhost:8080/",
          "height": 175
        },
        "id": "tzkLOKoQjnBG",
        "outputId": "716d3066-6e38-4b5f-d152-25011041d760"
      },
      "execution_count": null,
      "outputs": [
        {
          "output_type": "error",
          "ename": "NameError",
          "evalue": "name 'not_shuffled' is not defined",
          "traceback": [
            "\u001b[0;31m---------------------------------------------------------------------------\u001b[0m",
            "\u001b[0;31mNameError\u001b[0m                                 Traceback (most recent call last)",
            "\u001b[0;32m<ipython-input-21-56b0531bf00c>\u001b[0m in \u001b[0;36m<cell line: 1>\u001b[0;34m()\u001b[0m\n\u001b[0;32m----> 1\u001b[0;31m \u001b[0mtf\u001b[0m\u001b[0;34m.\u001b[0m\u001b[0mrandom\u001b[0m\u001b[0;34m.\u001b[0m\u001b[0mshuffle\u001b[0m\u001b[0;34m(\u001b[0m\u001b[0mnot_shuffled\u001b[0m\u001b[0;34m)\u001b[0m\u001b[0;34m\u001b[0m\u001b[0;34m\u001b[0m\u001b[0m\n\u001b[0m",
            "\u001b[0;31mNameError\u001b[0m: name 'not_shuffled' is not defined"
          ]
        }
      ]
    },
    {
      "cell_type": "code",
      "source": [
        "tf.random.shuffle(not_shuffled,seed=40) #order not fixed"
      ],
      "metadata": {
        "id": "zC0DnoNZm_Nq"
      },
      "execution_count": null,
      "outputs": []
    },
    {
      "cell_type": "code",
      "source": [],
      "metadata": {
        "id": "ZMK9EAH0m_vM"
      },
      "execution_count": null,
      "outputs": []
    },
    {
      "cell_type": "code",
      "source": [
        "#to fix the Random Order\n",
        "tf.random.set_seed(40)\n",
        "tf.random.shuffle(not_shuffled,seed=40)"
      ],
      "metadata": {
        "id": "zTNPbZB2lU7g"
      },
      "execution_count": null,
      "outputs": []
    },
    {
      "cell_type": "code",
      "source": [
        "T2=tf.constant([[1,24,4],[1,23,44]]);T2"
      ],
      "metadata": {
        "id": "vqkS95PZm7eM"
      },
      "execution_count": null,
      "outputs": []
    },
    {
      "cell_type": "code",
      "source": [
        "tf.random.shuffle(T2)"
      ],
      "metadata": {
        "colab": {
          "base_uri": "https://localhost:8080/"
        },
        "id": "DZJtoHnin0-5",
        "outputId": "0273093c-e3ee-4427-b114-2ae06b7a2acf"
      },
      "execution_count": null,
      "outputs": [
        {
          "output_type": "execute_result",
          "data": {
            "text/plain": [
              "<tf.Tensor: shape=(3,), dtype=int32, numpy=array([1, 2, 4], dtype=int32)>"
            ]
          },
          "metadata": {},
          "execution_count": 22
        }
      ]
    },
    {
      "cell_type": "code",
      "source": [],
      "metadata": {
        "id": "ZzyMZ1O4n6ib"
      },
      "execution_count": null,
      "outputs": []
    },
    {
      "cell_type": "markdown",
      "source": [
        "# Other way to make Tensors\n",
        "numpy"
      ],
      "metadata": {
        "id": "IrmSCT9ApqJP"
      }
    },
    {
      "cell_type": "code",
      "source": [
        "#tensor of ones\n",
        "tf.ones(10)"
      ],
      "metadata": {
        "colab": {
          "base_uri": "https://localhost:8080/"
        },
        "id": "golp1Yv2ptLw",
        "outputId": "6b08aeef-1d63-4b0d-d153-18e3b45ed5f4"
      },
      "execution_count": null,
      "outputs": [
        {
          "output_type": "execute_result",
          "data": {
            "text/plain": [
              "<tf.Tensor: shape=(10,), dtype=float32, numpy=array([1., 1., 1., 1., 1., 1., 1., 1., 1., 1.], dtype=float32)>"
            ]
          },
          "metadata": {},
          "execution_count": 23
        }
      ]
    },
    {
      "cell_type": "code",
      "source": [
        "#tensor of zeros\n",
        "tf.zeros(10)"
      ],
      "metadata": {
        "colab": {
          "base_uri": "https://localhost:8080/"
        },
        "id": "z8o3UjBNp06C",
        "outputId": "57c1d288-e4f0-4b02-8108-2a0756198e15"
      },
      "execution_count": null,
      "outputs": [
        {
          "output_type": "execute_result",
          "data": {
            "text/plain": [
              "<tf.Tensor: shape=(10,), dtype=float32, numpy=array([0., 0., 0., 0., 0., 0., 0., 0., 0., 0.], dtype=float32)>"
            ]
          },
          "metadata": {},
          "execution_count": 24
        }
      ]
    },
    {
      "cell_type": "markdown",
      "source": [
        "# **Tensor from Nunpy Array**\n",
        "\n",
        "*   tensorflow tensors can be run on GPU much faster for numerical computting\n",
        "\n"
      ],
      "metadata": {
        "id": "Zzq33TNcqYTf"
      }
    },
    {
      "cell_type": "code",
      "source": [
        "import numpy as np\n",
        "numpy_A=np.arange(1,101,1,'int')"
      ],
      "metadata": {
        "id": "lik6xIOPqR7H"
      },
      "execution_count": null,
      "outputs": []
    },
    {
      "cell_type": "code",
      "source": [
        "T=tf.constant(numpy_A);T"
      ],
      "metadata": {
        "colab": {
          "base_uri": "https://localhost:8080/"
        },
        "id": "Mlj1_TdEs4w-",
        "outputId": "bd9916eb-39ce-48f7-d84c-4e36c6dcb2f2"
      },
      "execution_count": null,
      "outputs": [
        {
          "output_type": "execute_result",
          "data": {
            "text/plain": [
              "<tf.Tensor: shape=(100,), dtype=int64, numpy=\n",
              "array([  1,   2,   3,   4,   5,   6,   7,   8,   9,  10,  11,  12,  13,\n",
              "        14,  15,  16,  17,  18,  19,  20,  21,  22,  23,  24,  25,  26,\n",
              "        27,  28,  29,  30,  31,  32,  33,  34,  35,  36,  37,  38,  39,\n",
              "        40,  41,  42,  43,  44,  45,  46,  47,  48,  49,  50,  51,  52,\n",
              "        53,  54,  55,  56,  57,  58,  59,  60,  61,  62,  63,  64,  65,\n",
              "        66,  67,  68,  69,  70,  71,  72,  73,  74,  75,  76,  77,  78,\n",
              "        79,  80,  81,  82,  83,  84,  85,  86,  87,  88,  89,  90,  91,\n",
              "        92,  93,  94,  95,  96,  97,  98,  99, 100])>"
            ]
          },
          "metadata": {},
          "execution_count": 26
        }
      ]
    },
    {
      "cell_type": "code",
      "source": [
        "T2=tf.constant(numpy_A,shape=(2,5,10));T2"
      ],
      "metadata": {
        "colab": {
          "base_uri": "https://localhost:8080/"
        },
        "id": "ioEiVpmktVY1",
        "outputId": "ac3ca8e0-43b7-4ce0-f8db-ad8c5d19f2b6"
      },
      "execution_count": null,
      "outputs": [
        {
          "output_type": "execute_result",
          "data": {
            "text/plain": [
              "<tf.Tensor: shape=(2, 5, 10), dtype=int64, numpy=\n",
              "array([[[  1,   2,   3,   4,   5,   6,   7,   8,   9,  10],\n",
              "        [ 11,  12,  13,  14,  15,  16,  17,  18,  19,  20],\n",
              "        [ 21,  22,  23,  24,  25,  26,  27,  28,  29,  30],\n",
              "        [ 31,  32,  33,  34,  35,  36,  37,  38,  39,  40],\n",
              "        [ 41,  42,  43,  44,  45,  46,  47,  48,  49,  50]],\n",
              "\n",
              "       [[ 51,  52,  53,  54,  55,  56,  57,  58,  59,  60],\n",
              "        [ 61,  62,  63,  64,  65,  66,  67,  68,  69,  70],\n",
              "        [ 71,  72,  73,  74,  75,  76,  77,  78,  79,  80],\n",
              "        [ 81,  82,  83,  84,  85,  86,  87,  88,  89,  90],\n",
              "        [ 91,  92,  93,  94,  95,  96,  97,  98,  99, 100]]])>"
            ]
          },
          "metadata": {},
          "execution_count": 27
        }
      ]
    },
    {
      "cell_type": "markdown",
      "source": [
        "# Getting Information from Tensors\n",
        "\n",
        "*   shape\n",
        "*   rank\n",
        "*  Axis or dimention\n",
        "*   size\n",
        "\n",
        "\n"
      ],
      "metadata": {
        "id": "oEhcwhwFu8qI"
      }
    },
    {
      "cell_type": "code",
      "source": [
        "T2.shape  #shape"
      ],
      "metadata": {
        "colab": {
          "base_uri": "https://localhost:8080/"
        },
        "id": "SLhxLvI9u7yc",
        "outputId": "293ebf68-c672-4fe2-ecb4-bad7d5030099"
      },
      "execution_count": null,
      "outputs": [
        {
          "output_type": "execute_result",
          "data": {
            "text/plain": [
              "TensorShape([2, 5, 10])"
            ]
          },
          "metadata": {},
          "execution_count": 28
        }
      ]
    },
    {
      "cell_type": "code",
      "source": [
        "T2.ndim #rank"
      ],
      "metadata": {
        "colab": {
          "base_uri": "https://localhost:8080/"
        },
        "id": "f59K5Ry3t8Dj",
        "outputId": "4e1208aa-95a2-4d7b-8423-83635a82a5c4"
      },
      "execution_count": null,
      "outputs": [
        {
          "output_type": "execute_result",
          "data": {
            "text/plain": [
              "3"
            ]
          },
          "metadata": {},
          "execution_count": 29
        }
      ]
    },
    {
      "cell_type": "code",
      "source": [
        "tf.size(T2)"
      ],
      "metadata": {
        "colab": {
          "base_uri": "https://localhost:8080/"
        },
        "id": "YeipT3dAvl7N",
        "outputId": "26854531-db19-44df-dfef-f9ad3fe8c4e7"
      },
      "execution_count": null,
      "outputs": [
        {
          "output_type": "execute_result",
          "data": {
            "text/plain": [
              "<tf.Tensor: shape=(), dtype=int32, numpy=100>"
            ]
          },
          "metadata": {},
          "execution_count": 30
        }
      ]
    },
    {
      "cell_type": "code",
      "source": [
        "T3=tf.zeros(shape=[2,3,4,4]);T3"
      ],
      "metadata": {
        "colab": {
          "base_uri": "https://localhost:8080/"
        },
        "id": "xLG_jpTJv1sH",
        "outputId": "b8178512-0d1e-489e-fc9b-569ce29fb621"
      },
      "execution_count": null,
      "outputs": [
        {
          "output_type": "execute_result",
          "data": {
            "text/plain": [
              "<tf.Tensor: shape=(2, 3, 4, 4), dtype=float32, numpy=\n",
              "array([[[[0., 0., 0., 0.],\n",
              "         [0., 0., 0., 0.],\n",
              "         [0., 0., 0., 0.],\n",
              "         [0., 0., 0., 0.]],\n",
              "\n",
              "        [[0., 0., 0., 0.],\n",
              "         [0., 0., 0., 0.],\n",
              "         [0., 0., 0., 0.],\n",
              "         [0., 0., 0., 0.]],\n",
              "\n",
              "        [[0., 0., 0., 0.],\n",
              "         [0., 0., 0., 0.],\n",
              "         [0., 0., 0., 0.],\n",
              "         [0., 0., 0., 0.]]],\n",
              "\n",
              "\n",
              "       [[[0., 0., 0., 0.],\n",
              "         [0., 0., 0., 0.],\n",
              "         [0., 0., 0., 0.],\n",
              "         [0., 0., 0., 0.]],\n",
              "\n",
              "        [[0., 0., 0., 0.],\n",
              "         [0., 0., 0., 0.],\n",
              "         [0., 0., 0., 0.],\n",
              "         [0., 0., 0., 0.]],\n",
              "\n",
              "        [[0., 0., 0., 0.],\n",
              "         [0., 0., 0., 0.],\n",
              "         [0., 0., 0., 0.],\n",
              "         [0., 0., 0., 0.]]]], dtype=float32)>"
            ]
          },
          "metadata": {},
          "execution_count": 31
        }
      ]
    },
    {
      "cell_type": "code",
      "source": [
        "T3.shape,T3.ndim,tf.size(T3)"
      ],
      "metadata": {
        "colab": {
          "base_uri": "https://localhost:8080/"
        },
        "id": "UTinRmUzxkwv",
        "outputId": "2fe282dd-37bf-414a-ec9d-547eb86a2b74"
      },
      "execution_count": null,
      "outputs": [
        {
          "output_type": "execute_result",
          "data": {
            "text/plain": [
              "(TensorShape([2, 3, 4, 4]), 4, <tf.Tensor: shape=(), dtype=int32, numpy=96>)"
            ]
          },
          "metadata": {},
          "execution_count": 32
        }
      ]
    },
    {
      "cell_type": "code",
      "source": [
        "2*3*4*4"
      ],
      "metadata": {
        "colab": {
          "base_uri": "https://localhost:8080/"
        },
        "id": "FLaLJVoTx7vb",
        "outputId": "fc9b58ba-30f6-4da5-f6d9-a77c30bf43b8"
      },
      "execution_count": null,
      "outputs": [
        {
          "output_type": "execute_result",
          "data": {
            "text/plain": [
              "96"
            ]
          },
          "metadata": {},
          "execution_count": 33
        }
      ]
    },
    {
      "cell_type": "code",
      "source": [
        "print(\"Datatype of the every element:\",T3.dtype)\n",
        "print(\"-----------------------------------------------------\")\n",
        "print(\"Number of the dimention(rank):\",T3.ndim)\n",
        "print(\"-----------------------------------------------------\")\n",
        "print(\"Shape of the Tensor:\",T3.shape)\n",
        "print(\"-----------------------------------------------------\")\n",
        "print(\"Elements along the 0 axis:\",T3.shape[0])\n",
        "print(\"-----------------------------------------------------\")\n",
        "print(\"Elements along the last axis:\",T3[-1])\n",
        "print(\"-----------------------------------------------------\")\n",
        "print(\"Total numner of elments in our tensor:\",tf.size(T3))"
      ],
      "metadata": {
        "colab": {
          "base_uri": "https://localhost:8080/"
        },
        "id": "qmhz4aMUyIVa",
        "outputId": "d7451c68-c83e-4552-c13b-b5a33307be7d"
      },
      "execution_count": null,
      "outputs": [
        {
          "output_type": "stream",
          "name": "stdout",
          "text": [
            "Datatype of the every element: <dtype: 'float32'>\n",
            "-----------------------------------------------------\n",
            "Number of the dimention(rank): 4\n",
            "-----------------------------------------------------\n",
            "Shape of the Tensor: (2, 3, 4, 4)\n",
            "-----------------------------------------------------\n",
            "Elements along the 0 axis: 2\n",
            "-----------------------------------------------------\n",
            "Elements along the last axis: tf.Tensor(\n",
            "[[[0. 0. 0. 0.]\n",
            "  [0. 0. 0. 0.]\n",
            "  [0. 0. 0. 0.]\n",
            "  [0. 0. 0. 0.]]\n",
            "\n",
            " [[0. 0. 0. 0.]\n",
            "  [0. 0. 0. 0.]\n",
            "  [0. 0. 0. 0.]\n",
            "  [0. 0. 0. 0.]]\n",
            "\n",
            " [[0. 0. 0. 0.]\n",
            "  [0. 0. 0. 0.]\n",
            "  [0. 0. 0. 0.]\n",
            "  [0. 0. 0. 0.]]], shape=(3, 4, 4), dtype=float32)\n",
            "-----------------------------------------------------\n",
            "Total numner of elments in our tensor: tf.Tensor(96, shape=(), dtype=int32)\n"
          ]
        }
      ]
    },
    {
      "cell_type": "markdown",
      "source": [],
      "metadata": {
        "id": "GjeQmAjRzj1p"
      }
    },
    {
      "cell_type": "markdown",
      "source": [
        "# Indexing the Tensors"
      ],
      "metadata": {
        "id": "E1fCSlAAzkDv"
      }
    },
    {
      "cell_type": "code",
      "source": [
        "T3"
      ],
      "metadata": {
        "colab": {
          "base_uri": "https://localhost:8080/"
        },
        "id": "4Jf3pfI9ywaJ",
        "outputId": "28210004-f1a7-4979-f8eb-088e6db10d72"
      },
      "execution_count": null,
      "outputs": [
        {
          "output_type": "execute_result",
          "data": {
            "text/plain": [
              "<tf.Tensor: shape=(2, 3, 4, 4), dtype=float32, numpy=\n",
              "array([[[[0., 0., 0., 0.],\n",
              "         [0., 0., 0., 0.],\n",
              "         [0., 0., 0., 0.],\n",
              "         [0., 0., 0., 0.]],\n",
              "\n",
              "        [[0., 0., 0., 0.],\n",
              "         [0., 0., 0., 0.],\n",
              "         [0., 0., 0., 0.],\n",
              "         [0., 0., 0., 0.]],\n",
              "\n",
              "        [[0., 0., 0., 0.],\n",
              "         [0., 0., 0., 0.],\n",
              "         [0., 0., 0., 0.],\n",
              "         [0., 0., 0., 0.]]],\n",
              "\n",
              "\n",
              "       [[[0., 0., 0., 0.],\n",
              "         [0., 0., 0., 0.],\n",
              "         [0., 0., 0., 0.],\n",
              "         [0., 0., 0., 0.]],\n",
              "\n",
              "        [[0., 0., 0., 0.],\n",
              "         [0., 0., 0., 0.],\n",
              "         [0., 0., 0., 0.],\n",
              "         [0., 0., 0., 0.]],\n",
              "\n",
              "        [[0., 0., 0., 0.],\n",
              "         [0., 0., 0., 0.],\n",
              "         [0., 0., 0., 0.],\n",
              "         [0., 0., 0., 0.]]]], dtype=float32)>"
            ]
          },
          "metadata": {},
          "execution_count": 35
        }
      ]
    },
    {
      "cell_type": "code",
      "source": [
        "#Getting first two elments of the each dimentions\n",
        "T3[:2,:2,:2,:2]"
      ],
      "metadata": {
        "colab": {
          "base_uri": "https://localhost:8080/"
        },
        "id": "wzmUn1zS1b-m",
        "outputId": "20424e5a-ed65-4ff1-91a6-6d4f3d882cfc"
      },
      "execution_count": null,
      "outputs": [
        {
          "output_type": "execute_result",
          "data": {
            "text/plain": [
              "<tf.Tensor: shape=(2, 2, 2, 2), dtype=float32, numpy=\n",
              "array([[[[0., 0.],\n",
              "         [0., 0.]],\n",
              "\n",
              "        [[0., 0.],\n",
              "         [0., 0.]]],\n",
              "\n",
              "\n",
              "       [[[0., 0.],\n",
              "         [0., 0.]],\n",
              "\n",
              "        [[0., 0.],\n",
              "         [0., 0.]]]], dtype=float32)>"
            ]
          },
          "metadata": {},
          "execution_count": 36
        }
      ]
    },
    {
      "cell_type": "code",
      "source": [
        "#Get first element from  each dimention from each index except for the final one\n"
      ],
      "metadata": {
        "id": "M_wpHz001qau"
      },
      "execution_count": null,
      "outputs": []
    },
    {
      "cell_type": "code",
      "source": [
        "T3.shape"
      ],
      "metadata": {
        "colab": {
          "base_uri": "https://localhost:8080/"
        },
        "id": "hFTYSr-g2Oqv",
        "outputId": "f29e9095-1ab9-484a-b97f-de1bffa671ee"
      },
      "execution_count": null,
      "outputs": [
        {
          "output_type": "execute_result",
          "data": {
            "text/plain": [
              "TensorShape([2, 3, 4, 4])"
            ]
          },
          "metadata": {},
          "execution_count": 38
        }
      ]
    },
    {
      "cell_type": "code",
      "source": [
        "T3[:1,:1,:1]"
      ],
      "metadata": {
        "colab": {
          "base_uri": "https://localhost:8080/"
        },
        "id": "2UTrdQqK2oMW",
        "outputId": "1dd33a15-f1e6-4bf5-8d27-5d8774471e0c"
      },
      "execution_count": null,
      "outputs": [
        {
          "output_type": "execute_result",
          "data": {
            "text/plain": [
              "<tf.Tensor: shape=(1, 1, 1, 4), dtype=float32, numpy=array([[[[0., 0., 0., 0.]]]], dtype=float32)>"
            ]
          },
          "metadata": {},
          "execution_count": 39
        }
      ]
    },
    {
      "cell_type": "code",
      "source": [
        "#exept second last\n",
        "T3[:1,:1,:,:1]"
      ],
      "metadata": {
        "colab": {
          "base_uri": "https://localhost:8080/"
        },
        "id": "wwrt7j7h2vaU",
        "outputId": "102a99d7-efa5-4d91-ee9c-49f173c36d70"
      },
      "execution_count": null,
      "outputs": [
        {
          "output_type": "execute_result",
          "data": {
            "text/plain": [
              "<tf.Tensor: shape=(1, 1, 4, 1), dtype=float32, numpy=\n",
              "array([[[[0.],\n",
              "         [0.],\n",
              "         [0.],\n",
              "         [0.]]]], dtype=float32)>"
            ]
          },
          "metadata": {},
          "execution_count": 40
        }
      ]
    },
    {
      "cell_type": "code",
      "source": [
        "#rank two tensor\n",
        "rank_2_tens=tf.constant([[1,2,3,4],[3,4,5,6]])"
      ],
      "metadata": {
        "id": "vAfVUZiW25V6"
      },
      "execution_count": null,
      "outputs": []
    },
    {
      "cell_type": "code",
      "source": [
        "rank_2_tens.ndim"
      ],
      "metadata": {
        "colab": {
          "base_uri": "https://localhost:8080/"
        },
        "id": "uzow94eK3xaS",
        "outputId": "a808c18c-45d2-4720-912e-d8c468b1a49d"
      },
      "execution_count": null,
      "outputs": [
        {
          "output_type": "execute_result",
          "data": {
            "text/plain": [
              "2"
            ]
          },
          "metadata": {},
          "execution_count": 42
        }
      ]
    },
    {
      "cell_type": "code",
      "source": [
        "rank_2_tens.shape\n"
      ],
      "metadata": {
        "colab": {
          "base_uri": "https://localhost:8080/"
        },
        "id": "7hNHnFRi4nvj",
        "outputId": "7ab95795-27a2-4845-dbf9-b4b9f1e393b1"
      },
      "execution_count": null,
      "outputs": [
        {
          "output_type": "execute_result",
          "data": {
            "text/plain": [
              "TensorShape([2, 4])"
            ]
          },
          "metadata": {},
          "execution_count": 43
        }
      ]
    },
    {
      "cell_type": "code",
      "source": [
        "rank_2_tens"
      ],
      "metadata": {
        "colab": {
          "base_uri": "https://localhost:8080/"
        },
        "id": "8kMHBmQh5IR8",
        "outputId": "55c37357-8d93-457b-f4cf-ea677c69a600"
      },
      "execution_count": null,
      "outputs": [
        {
          "output_type": "execute_result",
          "data": {
            "text/plain": [
              "<tf.Tensor: shape=(2, 4), dtype=int32, numpy=\n",
              "array([[1, 2, 3, 4],\n",
              "       [3, 4, 5, 6]], dtype=int32)>"
            ]
          },
          "metadata": {},
          "execution_count": 44
        }
      ]
    },
    {
      "cell_type": "code",
      "source": [
        "#get the last element of the each of the row  of rank_2_tens\n",
        "rank_2_tens[:,-1]\n"
      ],
      "metadata": {
        "colab": {
          "base_uri": "https://localhost:8080/"
        },
        "id": "zsC_Sjxm3zov",
        "outputId": "7ca1cf2b-9545-4699-8fb3-59dfa7461ea0"
      },
      "execution_count": null,
      "outputs": [
        {
          "output_type": "execute_result",
          "data": {
            "text/plain": [
              "<tf.Tensor: shape=(2,), dtype=int32, numpy=array([4, 6], dtype=int32)>"
            ]
          },
          "metadata": {},
          "execution_count": 45
        }
      ]
    },
    {
      "cell_type": "markdown",
      "source": [
        "Addding Extra Dimention two rank 2 tensor\n",
        "(Expand Dimention)"
      ],
      "metadata": {
        "id": "GtYT4s-O6Dze"
      }
    },
    {
      "cell_type": "code",
      "source": [
        "rank_3_tensor=rank_2_tens[...,tf.newaxis];rank_3_tensor # '...' indicates previous all axis here axis 1 and 2"
      ],
      "metadata": {
        "colab": {
          "base_uri": "https://localhost:8080/"
        },
        "id": "SviW0INf5_bV",
        "outputId": "cc75c051-e011-4eb7-e7cd-efa15ea5c4c0"
      },
      "execution_count": null,
      "outputs": [
        {
          "output_type": "execute_result",
          "data": {
            "text/plain": [
              "<tf.Tensor: shape=(2, 4, 1), dtype=int32, numpy=\n",
              "array([[[1],\n",
              "        [2],\n",
              "        [3],\n",
              "        [4]],\n",
              "\n",
              "       [[3],\n",
              "        [4],\n",
              "        [5],\n",
              "        [6]]], dtype=int32)>"
            ]
          },
          "metadata": {},
          "execution_count": 46
        }
      ]
    },
    {
      "cell_type": "markdown",
      "source": [
        "# OR"
      ],
      "metadata": {
        "id": "DAbyZURQ8pHg"
      }
    },
    {
      "cell_type": "code",
      "source": [
        "tf.expand_dims(rank_2_tens,axis=-1) #-1 means expand the last axis"
      ],
      "metadata": {
        "colab": {
          "base_uri": "https://localhost:8080/"
        },
        "id": "LzrwKsNx4Q1W",
        "outputId": "2d7c83bf-9ba1-47b3-85e2-c0e4341a1fca"
      },
      "execution_count": null,
      "outputs": [
        {
          "output_type": "execute_result",
          "data": {
            "text/plain": [
              "<tf.Tensor: shape=(2, 4, 1), dtype=int32, numpy=\n",
              "array([[[1],\n",
              "        [2],\n",
              "        [3],\n",
              "        [4]],\n",
              "\n",
              "       [[3],\n",
              "        [4],\n",
              "        [5],\n",
              "        [6]]], dtype=int32)>"
            ]
          },
          "metadata": {},
          "execution_count": 47
        }
      ]
    },
    {
      "cell_type": "markdown",
      "source": [
        "# [Manipulation Tensors]/ Tensor Operations"
      ],
      "metadata": {
        "id": "OVZpGRP39XiT"
      }
    },
    {
      "cell_type": "markdown",
      "source": [
        "**Basic Operations**\n",
        "\n"
      ],
      "metadata": {
        "id": "Xw-Wd7Ii9m3r"
      }
    },
    {
      "cell_type": "code",
      "source": [
        "tensor=tf.constant(np.arange(4),shape=(2,2));tensor"
      ],
      "metadata": {
        "colab": {
          "base_uri": "https://localhost:8080/"
        },
        "id": "2TpbtLQh_QSJ",
        "outputId": "dc9d099f-3c9b-4beb-9c0d-1b0355634036"
      },
      "execution_count": null,
      "outputs": [
        {
          "output_type": "execute_result",
          "data": {
            "text/plain": [
              "<tf.Tensor: shape=(2, 2), dtype=int64, numpy=\n",
              "array([[0, 1],\n",
              "       [2, 3]])>"
            ]
          },
          "metadata": {},
          "execution_count": 48
        }
      ]
    },
    {
      "cell_type": "code",
      "source": [
        "#Adding values to the tensors\n",
        "tensor+10"
      ],
      "metadata": {
        "colab": {
          "base_uri": "https://localhost:8080/"
        },
        "id": "pPUHcYwG8yPu",
        "outputId": "dce7efce-ce63-40ae-e613-86077b08b8cf"
      },
      "execution_count": null,
      "outputs": [
        {
          "output_type": "execute_result",
          "data": {
            "text/plain": [
              "<tf.Tensor: shape=(2, 2), dtype=int64, numpy=\n",
              "array([[10, 11],\n",
              "       [12, 13]])>"
            ]
          },
          "metadata": {},
          "execution_count": 49
        }
      ]
    },
    {
      "cell_type": "code",
      "source": [
        "tensor*2  #mult"
      ],
      "metadata": {
        "colab": {
          "base_uri": "https://localhost:8080/"
        },
        "id": "niPa4Eh0-oxV",
        "outputId": "5fc6d26e-1822-4d02-8610-4a52dccdc552"
      },
      "execution_count": null,
      "outputs": [
        {
          "output_type": "execute_result",
          "data": {
            "text/plain": [
              "<tf.Tensor: shape=(2, 2), dtype=int64, numpy=\n",
              "array([[0, 2],\n",
              "       [4, 6]])>"
            ]
          },
          "metadata": {},
          "execution_count": 50
        }
      ]
    },
    {
      "cell_type": "code",
      "source": [
        "tensor/2 #devide"
      ],
      "metadata": {
        "colab": {
          "base_uri": "https://localhost:8080/"
        },
        "id": "vNQuUf6C_WlW",
        "outputId": "d957610d-56dd-44ae-e6f8-166d99a18c6e"
      },
      "execution_count": null,
      "outputs": [
        {
          "output_type": "execute_result",
          "data": {
            "text/plain": [
              "<tf.Tensor: shape=(2, 2), dtype=float64, numpy=\n",
              "array([[0. , 0.5],\n",
              "       [1. , 1.5]])>"
            ]
          },
          "metadata": {},
          "execution_count": 51
        }
      ]
    },
    {
      "cell_type": "code",
      "source": [
        "tensor-1 #sub\n"
      ],
      "metadata": {
        "colab": {
          "base_uri": "https://localhost:8080/"
        },
        "id": "WnmNecHS-JQh",
        "outputId": "21ff88b1-16aa-46f1-f679-3f271bb9626f"
      },
      "execution_count": null,
      "outputs": [
        {
          "output_type": "execute_result",
          "data": {
            "text/plain": [
              "<tf.Tensor: shape=(2, 2), dtype=int64, numpy=\n",
              "array([[-1,  0],\n",
              "       [ 1,  2]])>"
            ]
          },
          "metadata": {},
          "execution_count": 52
        }
      ]
    },
    {
      "cell_type": "code",
      "source": [
        "tf.multiply(tensor,tensor-1)"
      ],
      "metadata": {
        "colab": {
          "base_uri": "https://localhost:8080/"
        },
        "id": "aqdte05s_YJK",
        "outputId": "da7095b1-f3f1-4f81-b9a6-4f06563d0e5d"
      },
      "execution_count": null,
      "outputs": [
        {
          "output_type": "execute_result",
          "data": {
            "text/plain": [
              "<tf.Tensor: shape=(2, 2), dtype=int64, numpy=\n",
              "array([[0, 0],\n",
              "       [2, 6]])>"
            ]
          },
          "metadata": {},
          "execution_count": 53
        }
      ]
    },
    {
      "cell_type": "markdown",
      "source": [
        "# Matrix Multiplication\n",
        "*   Condition : No of row of one matrix = no of columns of the other matrix (Vice-Versa)\n",
        "\n",
        "\n",
        "Using\n",
        "\n",
        "\n",
        "1.   Element to Element multiplication\n",
        "*   '*'  :  python operator\n",
        "*   multiply  : tensorflow\n",
        "2.   Algebric Multiplication\n",
        "*   tensordot: matmul\n",
        "*   tensordot: tensorflow\n",
        "\n",
        "\n",
        "\n",
        "\n",
        "\n",
        "\n",
        "\n",
        "\n",
        "\n",
        "\n",
        "\n",
        "\n"
      ],
      "metadata": {
        "id": "kxSZMj_4GzYf"
      }
    },
    {
      "cell_type": "code",
      "source": [
        "tensor,tensor+1"
      ],
      "metadata": {
        "colab": {
          "base_uri": "https://localhost:8080/"
        },
        "id": "Htg6yw9fAuhy",
        "outputId": "d5b2a6bf-a005-4e0a-e551-d2636681bb18"
      },
      "execution_count": null,
      "outputs": [
        {
          "output_type": "execute_result",
          "data": {
            "text/plain": [
              "(<tf.Tensor: shape=(2, 2), dtype=int64, numpy=\n",
              " array([[0, 1],\n",
              "        [2, 3]])>,\n",
              " <tf.Tensor: shape=(2, 2), dtype=int64, numpy=\n",
              " array([[1, 2],\n",
              "        [3, 4]])>)"
            ]
          },
          "metadata": {},
          "execution_count": 54
        }
      ]
    },
    {
      "cell_type": "code",
      "source": [
        "tensor*tensor+1 #Element wise"
      ],
      "metadata": {
        "colab": {
          "base_uri": "https://localhost:8080/"
        },
        "id": "w8VeVt-_H-iX",
        "outputId": "a8162cac-0af9-4058-ed1c-86c2fa37df3f"
      },
      "execution_count": null,
      "outputs": [
        {
          "output_type": "execute_result",
          "data": {
            "text/plain": [
              "<tf.Tensor: shape=(2, 2), dtype=int64, numpy=\n",
              "array([[ 1,  2],\n",
              "       [ 5, 10]])>"
            ]
          },
          "metadata": {},
          "execution_count": 55
        }
      ]
    },
    {
      "cell_type": "code",
      "source": [
        "tf.linalg.matmul(tensor,tensor+1\n",
        "                 ) #Actual algebric multiplication of the matrix"
      ],
      "metadata": {
        "colab": {
          "base_uri": "https://localhost:8080/"
        },
        "id": "PD91YS-7HeGF",
        "outputId": "0da3cf0b-670d-43bc-bc30-c0749b3e3da6"
      },
      "execution_count": null,
      "outputs": [
        {
          "output_type": "execute_result",
          "data": {
            "text/plain": [
              "<tf.Tensor: shape=(2, 2), dtype=int64, numpy=\n",
              "array([[ 3,  4],\n",
              "       [11, 16]])>"
            ]
          },
          "metadata": {},
          "execution_count": 56
        }
      ]
    },
    {
      "cell_type": "code",
      "source": [
        "tensor@(tensor+1)   # Multiplication using '@' python operator"
      ],
      "metadata": {
        "colab": {
          "base_uri": "https://localhost:8080/"
        },
        "id": "-KkVdXXfHpCq",
        "outputId": "e568ca35-c0ea-43b6-bda3-79cd400cc206"
      },
      "execution_count": null,
      "outputs": [
        {
          "output_type": "execute_result",
          "data": {
            "text/plain": [
              "<tf.Tensor: shape=(2, 2), dtype=int64, numpy=\n",
              "array([[ 3,  4],\n",
              "       [11, 16]])>"
            ]
          },
          "metadata": {},
          "execution_count": 57
        }
      ]
    },
    {
      "cell_type": "code",
      "source": [
        "tf.matmul(tensor,tensor+1)"
      ],
      "metadata": {
        "colab": {
          "base_uri": "https://localhost:8080/"
        },
        "id": "YtFdDay3Iki4",
        "outputId": "e360be7f-0547-40a9-d8d2-100b2bad505c"
      },
      "execution_count": null,
      "outputs": [
        {
          "output_type": "execute_result",
          "data": {
            "text/plain": [
              "<tf.Tensor: shape=(2, 2), dtype=int64, numpy=\n",
              "array([[ 3,  4],\n",
              "       [11, 16]])>"
            ]
          },
          "metadata": {},
          "execution_count": 58
        }
      ]
    },
    {
      "cell_type": "code",
      "source": [
        "tf.constant(np.random.rand(30),shape=(2,3,5))"
      ],
      "metadata": {
        "colab": {
          "base_uri": "https://localhost:8080/"
        },
        "id": "AbgT0ExdK6Li",
        "outputId": "e7e54801-bb6d-4d46-e6e7-90d69c425413"
      },
      "execution_count": null,
      "outputs": [
        {
          "output_type": "execute_result",
          "data": {
            "text/plain": [
              "<tf.Tensor: shape=(2, 3, 5), dtype=float64, numpy=\n",
              "array([[[0.76649222, 0.05937695, 0.52817535, 0.37988001, 0.25804443],\n",
              "        [0.58931604, 0.5117278 , 0.51023298, 0.19066639, 0.12917857],\n",
              "        [0.44375936, 0.00224579, 0.8890229 , 0.0790903 , 0.47359002]],\n",
              "\n",
              "       [[0.07638649, 0.78422214, 0.522508  , 0.23888516, 0.21614391],\n",
              "        [0.07568447, 0.1257554 , 0.60111324, 0.71593557, 0.15224001],\n",
              "        [0.18465264, 0.62376065, 0.28432235, 0.8834281 , 0.28637561]]])>"
            ]
          },
          "metadata": {},
          "execution_count": 59
        }
      ]
    },
    {
      "cell_type": "code",
      "source": [
        "T23=tf.constant([[1,2,3],[5,2,1]]);T23"
      ],
      "metadata": {
        "colab": {
          "base_uri": "https://localhost:8080/"
        },
        "id": "VoCGhL1RMV89",
        "outputId": "b6e4bbaf-c6b2-4d60-e586-b0cb658c53df"
      },
      "execution_count": null,
      "outputs": [
        {
          "output_type": "execute_result",
          "data": {
            "text/plain": [
              "<tf.Tensor: shape=(2, 3), dtype=int32, numpy=\n",
              "array([[1, 2, 3],\n",
              "       [5, 2, 1]], dtype=int32)>"
            ]
          },
          "metadata": {},
          "execution_count": 60
        }
      ]
    },
    {
      "cell_type": "code",
      "source": [],
      "metadata": {
        "id": "izCJVsnxmXhl"
      },
      "execution_count": null,
      "outputs": []
    },
    {
      "cell_type": "markdown",
      "source": [
        "**Using Reshape and transpose we can do matrix multiplication**\n",
        "\n",
        "\n",
        "*   reshape: resuffling\n",
        "*   transpose: revert the axis\n",
        "\n",
        "\n",
        "> Indented block\n",
        "\n"
      ],
      "metadata": {
        "id": "8k6IvKtqmZLU"
      }
    },
    {
      "cell_type": "code",
      "source": [
        "T23@(tf.reshape(T23,shape=(3,2)))"
      ],
      "metadata": {
        "colab": {
          "base_uri": "https://localhost:8080/"
        },
        "id": "LRmbS6JNiv4R",
        "outputId": "bcf6a46c-698f-415a-bacb-60afa042b0ab"
      },
      "execution_count": null,
      "outputs": [
        {
          "output_type": "execute_result",
          "data": {
            "text/plain": [
              "<tf.Tensor: shape=(2, 2), dtype=int32, numpy=\n",
              "array([[13, 15],\n",
              "       [13, 21]], dtype=int32)>"
            ]
          },
          "metadata": {},
          "execution_count": 61
        }
      ]
    },
    {
      "cell_type": "code",
      "source": [
        "tf.reshape(T23,shape=(3,2))"
      ],
      "metadata": {
        "colab": {
          "base_uri": "https://localhost:8080/"
        },
        "id": "ECs5M-K0i8MF",
        "outputId": "8f885b39-43ec-427c-c689-8b87d735d798"
      },
      "execution_count": null,
      "outputs": [
        {
          "output_type": "execute_result",
          "data": {
            "text/plain": [
              "<tf.Tensor: shape=(3, 2), dtype=int32, numpy=\n",
              "array([[1, 2],\n",
              "       [3, 5],\n",
              "       [2, 1]], dtype=int32)>"
            ]
          },
          "metadata": {},
          "execution_count": 62
        }
      ]
    },
    {
      "cell_type": "code",
      "source": [
        "#we also multiply matrix with it transpose\n",
        "T23 @ tf.transpose(T23)"
      ],
      "metadata": {
        "colab": {
          "base_uri": "https://localhost:8080/"
        },
        "id": "Ehf7dbz3jL_i",
        "outputId": "cda44e53-d2c4-4d70-c5d0-e9db7a7394a8"
      },
      "execution_count": null,
      "outputs": [
        {
          "output_type": "execute_result",
          "data": {
            "text/plain": [
              "<tf.Tensor: shape=(2, 2), dtype=int32, numpy=\n",
              "array([[14, 12],\n",
              "       [12, 30]], dtype=int32)>"
            ]
          },
          "metadata": {},
          "execution_count": 63
        }
      ]
    },
    {
      "cell_type": "code",
      "source": [
        "tf.matmul(T23,tf.transpose(T23))"
      ],
      "metadata": {
        "colab": {
          "base_uri": "https://localhost:8080/"
        },
        "id": "99AzUu4Yk77w",
        "outputId": "468a388d-0024-4179-97de-1e21479d2615"
      },
      "execution_count": null,
      "outputs": [
        {
          "output_type": "execute_result",
          "data": {
            "text/plain": [
              "<tf.Tensor: shape=(2, 2), dtype=int32, numpy=\n",
              "array([[14, 12],\n",
              "       [12, 30]], dtype=int32)>"
            ]
          },
          "metadata": {},
          "execution_count": 64
        }
      ]
    },
    {
      "cell_type": "code",
      "source": [
        "tf.tensordot(T23,tf.transpose(T23),axes=1)"
      ],
      "metadata": {
        "colab": {
          "base_uri": "https://localhost:8080/"
        },
        "id": "MbtyUVGTl-ys",
        "outputId": "88949903-279b-4852-8023-f4f522113b13"
      },
      "execution_count": null,
      "outputs": [
        {
          "output_type": "execute_result",
          "data": {
            "text/plain": [
              "<tf.Tensor: shape=(2, 2), dtype=int32, numpy=\n",
              "array([[14, 12],\n",
              "       [12, 30]], dtype=int32)>"
            ]
          },
          "metadata": {},
          "execution_count": 65
        }
      ]
    },
    {
      "cell_type": "markdown",
      "source": [
        "# Changing Data Types of the Tensor\n",
        "tf.cast()"
      ],
      "metadata": {
        "id": "mEsKmRI8wQfo"
      }
    },
    {
      "cell_type": "code",
      "source": [
        "c=tf.constant([1.7,7.4])"
      ],
      "metadata": {
        "id": "ekvm2ss0rg7S"
      },
      "execution_count": null,
      "outputs": []
    },
    {
      "cell_type": "code",
      "source": [
        "c.dtype"
      ],
      "metadata": {
        "colab": {
          "base_uri": "https://localhost:8080/"
        },
        "id": "wKHu1NdywbK2",
        "outputId": "06b8fba4-2538-43ce-ef9e-7f7b9e775efc"
      },
      "execution_count": null,
      "outputs": [
        {
          "output_type": "execute_result",
          "data": {
            "text/plain": [
              "tf.float32"
            ]
          },
          "metadata": {},
          "execution_count": 67
        }
      ]
    },
    {
      "cell_type": "code",
      "source": [
        "c=tf.cast(c,dtype=tf.int32)  #float to integer\n",
        "c"
      ],
      "metadata": {
        "colab": {
          "base_uri": "https://localhost:8080/"
        },
        "id": "Bq6eMCiexBnd",
        "outputId": "b50908fe-d6f0-46d0-bf90-bd26be06d25b"
      },
      "execution_count": null,
      "outputs": [
        {
          "output_type": "execute_result",
          "data": {
            "text/plain": [
              "<tf.Tensor: shape=(2,), dtype=int32, numpy=array([1, 7], dtype=int32)>"
            ]
          },
          "metadata": {},
          "execution_count": 68
        }
      ]
    },
    {
      "cell_type": "code",
      "source": [
        "c.dtype"
      ],
      "metadata": {
        "colab": {
          "base_uri": "https://localhost:8080/"
        },
        "id": "UeYZJ2JBxhvA",
        "outputId": "b5e23702-cb07-45ba-97b8-dfa3f9a4029f"
      },
      "execution_count": null,
      "outputs": [
        {
          "output_type": "execute_result",
          "data": {
            "text/plain": [
              "tf.int32"
            ]
          },
          "metadata": {},
          "execution_count": 69
        }
      ]
    },
    {
      "cell_type": "code",
      "source": [],
      "metadata": {
        "id": "MCdcjlx1xk1U"
      },
      "execution_count": null,
      "outputs": []
    },
    {
      "cell_type": "markdown",
      "source": [
        "# Finding the min, max, mean, sum (aggregation)\n",
        "You can quickly aggregate (perform a calculation on a whole tensor) tensors to find things like the minimum value, maximum value, mean and sum of all the elements.\n",
        "\n",
        "To do so, aggregation methods typically have the syntax reduce()_[action], such as:\n",
        "\n",
        "\n",
        "*   tf.reduce_min() - find the minimum value in a tensor.\n",
        "*   tf.reduce_max() - find the maximum value in a tensor (helpful for when you want to find the highest prediction probability).\n",
        "*   tf.reduce_mean() - find the mean of all elements in a tensor.\n",
        "*   tf.reduce_sum() - find the sum of all elements in a tensor.\n",
        "\n",
        "\n",
        "\n",
        "\n",
        "\n",
        "\n",
        "\n",
        "*   Note: typically, each of these is under the math module, e.g. tf.math.reduce_min() but you can use the alias tf.reduce_min()."
      ],
      "metadata": {
        "id": "yZE9kNE5ymTD"
      }
    },
    {
      "cell_type": "code",
      "source": [
        "tensor2=tf.constant(np.random.randint(1,1000,50),shape=(2,5,5))\n",
        "tensor2"
      ],
      "metadata": {
        "colab": {
          "base_uri": "https://localhost:8080/"
        },
        "id": "mYKWjNAtynkb",
        "outputId": "a97c4f5d-43e5-49c3-ba92-a40338060a55"
      },
      "execution_count": null,
      "outputs": [
        {
          "output_type": "execute_result",
          "data": {
            "text/plain": [
              "<tf.Tensor: shape=(2, 5, 5), dtype=int64, numpy=\n",
              "array([[[396, 496, 538, 474, 400],\n",
              "        [ 91, 913, 992, 972, 962],\n",
              "        [574, 257, 992, 362, 496],\n",
              "        [486, 241, 635, 565, 937],\n",
              "        [223, 724, 568, 151, 699]],\n",
              "\n",
              "       [[485, 727, 774,  80, 887],\n",
              "        [259, 694, 356, 667, 650],\n",
              "        [455, 198, 675,  53, 829],\n",
              "        [376, 311,   4, 144, 900],\n",
              "        [902, 365, 177,  27, 125]]])>"
            ]
          },
          "metadata": {},
          "execution_count": 70
        }
      ]
    },
    {
      "cell_type": "code",
      "source": [
        "#find minimum\n",
        "tf.reduce_min(tensor2)"
      ],
      "metadata": {
        "colab": {
          "base_uri": "https://localhost:8080/"
        },
        "id": "rZiR0gtuz4Pz",
        "outputId": "5a9123c4-01f2-477a-e352-c056e82a17b4"
      },
      "execution_count": null,
      "outputs": [
        {
          "output_type": "execute_result",
          "data": {
            "text/plain": [
              "<tf.Tensor: shape=(), dtype=int64, numpy=4>"
            ]
          },
          "metadata": {},
          "execution_count": 71
        }
      ]
    },
    {
      "cell_type": "code",
      "source": [
        "#find maximum\n",
        "tf.reduce_max(tensor2)"
      ],
      "metadata": {
        "colab": {
          "base_uri": "https://localhost:8080/"
        },
        "id": "EBOQJzQV0Mww",
        "outputId": "6e8cea2d-1a2e-44a0-edb4-9af846e8f587"
      },
      "execution_count": null,
      "outputs": [
        {
          "output_type": "execute_result",
          "data": {
            "text/plain": [
              "<tf.Tensor: shape=(), dtype=int64, numpy=992>"
            ]
          },
          "metadata": {},
          "execution_count": 72
        }
      ]
    },
    {
      "cell_type": "code",
      "source": [
        "#find the mean\n",
        "tf.reduce_mean(tensor2)"
      ],
      "metadata": {
        "colab": {
          "base_uri": "https://localhost:8080/"
        },
        "id": "tzPXGsBD0RyM",
        "outputId": "0d2e89ab-cdf7-420d-8ed9-0dbfcbf8e994"
      },
      "execution_count": null,
      "outputs": [
        {
          "output_type": "execute_result",
          "data": {
            "text/plain": [
              "<tf.Tensor: shape=(), dtype=int64, numpy=505>"
            ]
          },
          "metadata": {},
          "execution_count": 73
        }
      ]
    },
    {
      "cell_type": "code",
      "source": [
        "#find the sum\n",
        "tf.reduce_sum(tensor2)"
      ],
      "metadata": {
        "colab": {
          "base_uri": "https://localhost:8080/"
        },
        "id": "Ipprz1Ob0fkw",
        "outputId": "d745ae0e-0192-4e93-a3ef-0fe0692aa266"
      },
      "execution_count": null,
      "outputs": [
        {
          "output_type": "execute_result",
          "data": {
            "text/plain": [
              "<tf.Tensor: shape=(), dtype=int64, numpy=25264>"
            ]
          },
          "metadata": {},
          "execution_count": 74
        }
      ]
    },
    {
      "cell_type": "code",
      "source": [],
      "metadata": {
        "id": "KcHsXio80_tP"
      },
      "execution_count": null,
      "outputs": []
    },
    {
      "cell_type": "markdown",
      "source": [
        "# inding the positional maximum and minimum\n",
        "**How about finding the position a tensor where the maximum value occurs?**\n",
        "\n",
        "This is helpful when you want to line up your labels (say ['Green', 'Blue', 'Red']) with your prediction probabilities tensor (e.g. [0.98, 0.01, 0.01]).\n",
        "\n",
        "\n",
        "In this case, the predicted label (the one with the highest prediction probability) would be 'Green'.\n",
        "\n",
        "You can do the same for the minimum (if required) with the following:\n",
        "\n",
        "\n",
        "*   tf.argmax() - find the position of the maximum element in a given tensor.\n",
        "*   tf.argmin() - find the position of the minimum element in a given tensor.\n",
        "\n"
      ],
      "metadata": {
        "id": "di8dEfB31MDG"
      }
    },
    {
      "cell_type": "code",
      "source": [
        "tensor3=tf.constant(np.random.rand(50))\n",
        "tensor3"
      ],
      "metadata": {
        "colab": {
          "base_uri": "https://localhost:8080/"
        },
        "id": "5WOL18Y01W_t",
        "outputId": "d3b7f60e-4abe-43fc-f223-5e8c0223f0cd"
      },
      "execution_count": null,
      "outputs": [
        {
          "output_type": "execute_result",
          "data": {
            "text/plain": [
              "<tf.Tensor: shape=(50,), dtype=float64, numpy=\n",
              "array([0.33007871, 0.3815341 , 0.53034234, 0.0470275 , 0.45404272,\n",
              "       0.28540268, 0.75887579, 0.37873162, 0.54776069, 0.35026589,\n",
              "       0.86442016, 0.87752181, 0.488737  , 0.02386043, 0.71963737,\n",
              "       0.72666492, 0.28194601, 0.25812485, 0.94249315, 0.5084641 ,\n",
              "       0.47305394, 0.55293719, 0.31056465, 0.86289254, 0.68981331,\n",
              "       0.53827143, 0.83985594, 0.91448406, 0.97854935, 0.40793647,\n",
              "       0.78091639, 0.56409409, 0.00757655, 0.36748022, 0.32753193,\n",
              "       0.25921042, 0.25728322, 0.57097148, 0.40976239, 0.98520126,\n",
              "       0.67046775, 0.63325391, 0.46452432, 0.33698347, 0.02055826,\n",
              "       0.0783431 , 0.96758735, 0.34612803, 0.26613169, 0.25743647])>"
            ]
          },
          "metadata": {},
          "execution_count": 75
        }
      ]
    },
    {
      "cell_type": "code",
      "source": [
        "#find the maximum number position in the tensor3\n",
        "tf.argmax(tensor3)"
      ],
      "metadata": {
        "colab": {
          "base_uri": "https://localhost:8080/"
        },
        "id": "pdD10RQn1pMw",
        "outputId": "ff7addb2-e6e2-47d3-df5b-aff8d7bf0c70"
      },
      "execution_count": null,
      "outputs": [
        {
          "output_type": "execute_result",
          "data": {
            "text/plain": [
              "<tf.Tensor: shape=(), dtype=int64, numpy=39>"
            ]
          },
          "metadata": {},
          "execution_count": 76
        }
      ]
    },
    {
      "cell_type": "code",
      "source": [
        "tf.argmin(tensor3)"
      ],
      "metadata": {
        "colab": {
          "base_uri": "https://localhost:8080/"
        },
        "id": "872-SlLk2TzL",
        "outputId": "a3420586-cac5-4d47-829f-1dc81733a64d"
      },
      "execution_count": null,
      "outputs": [
        {
          "output_type": "execute_result",
          "data": {
            "text/plain": [
              "<tf.Tensor: shape=(), dtype=int64, numpy=32>"
            ]
          },
          "metadata": {},
          "execution_count": 77
        }
      ]
    },
    {
      "cell_type": "code",
      "source": [],
      "metadata": {
        "id": "60eZR6g22Waf"
      },
      "execution_count": null,
      "outputs": []
    },
    {
      "cell_type": "markdown",
      "source": [
        "# **Squeezing the Tensor (Removing all the single dimentions)**\n",
        "If you need to remove single-dimensions from a tensor (dimensions with size 1), you can use tf.squeeze().\n",
        "\n"
      ],
      "metadata": {
        "id": "44seDa7n2qx1"
      }
    },
    {
      "cell_type": "code",
      "source": [
        "tensor_squeez=tf.constant(np.random.randint(1,10,20),shape=(1,1,1,1,20))\n",
        "tensor_squeez"
      ],
      "metadata": {
        "colab": {
          "base_uri": "https://localhost:8080/"
        },
        "id": "YxyPkOMn358N",
        "outputId": "ee99854d-c53e-42f2-adc8-8186eca1f91b"
      },
      "execution_count": null,
      "outputs": [
        {
          "output_type": "execute_result",
          "data": {
            "text/plain": [
              "<tf.Tensor: shape=(1, 1, 1, 1, 20), dtype=int64, numpy=array([[[[[3, 8, 3, 3, 5, 6, 4, 1, 7, 1, 9, 1, 6, 2, 3, 2, 6, 3, 4, 7]]]]])>"
            ]
          },
          "metadata": {},
          "execution_count": 78
        }
      ]
    },
    {
      "cell_type": "code",
      "source": [
        "\n",
        "tf.squeeze(tensor_squeez)"
      ],
      "metadata": {
        "colab": {
          "base_uri": "https://localhost:8080/"
        },
        "id": "zcT4boOA2yer",
        "outputId": "c7902810-8d8d-4345-a7e2-eecd16e6ea59"
      },
      "execution_count": null,
      "outputs": [
        {
          "output_type": "execute_result",
          "data": {
            "text/plain": [
              "<tf.Tensor: shape=(20,), dtype=int64, numpy=array([3, 8, 3, 3, 5, 6, 4, 1, 7, 1, 9, 1, 6, 2, 3, 2, 6, 3, 4, 7])>"
            ]
          },
          "metadata": {},
          "execution_count": 79
        }
      ]
    },
    {
      "cell_type": "markdown",
      "source": [
        "## **One Hot Encoding**\n",
        "If you have a tensor of indicies and would like to one-hot encode it, you can use tf.one_hot().\n",
        "\n",
        "You should also specify the depth parameter (the level which you want to one-hot encode to)."
      ],
      "metadata": {
        "id": "fBqdivP14soN"
      }
    },
    {
      "cell_type": "code",
      "source": [
        "friends=[1,2,3,4]\n",
        "#one hot encode them\n",
        "tf.one_hot(friends,depth=4)"
      ],
      "metadata": {
        "colab": {
          "base_uri": "https://localhost:8080/"
        },
        "id": "YmJoGtTy4WRf",
        "outputId": "85415dbb-5155-40e2-9e22-d6820db87def"
      },
      "execution_count": null,
      "outputs": [
        {
          "output_type": "execute_result",
          "data": {
            "text/plain": [
              "<tf.Tensor: shape=(4, 4), dtype=float32, numpy=\n",
              "array([[0., 1., 0., 0.],\n",
              "       [0., 0., 1., 0.],\n",
              "       [0., 0., 0., 1.],\n",
              "       [0., 0., 0., 0.]], dtype=float32)>"
            ]
          },
          "metadata": {},
          "execution_count": 80
        }
      ]
    },
    {
      "cell_type": "code",
      "source": [
        "# Specify custom values for on and off encoding\n",
        "tf.one_hot(friends, depth=4, on_value=\"kinu\", off_value=\"pinu\")"
      ],
      "metadata": {
        "colab": {
          "base_uri": "https://localhost:8080/"
        },
        "id": "EuEunG6X5xp4",
        "outputId": "a202f924-f826-4e39-c32f-370d97b5a850"
      },
      "execution_count": null,
      "outputs": [
        {
          "output_type": "execute_result",
          "data": {
            "text/plain": [
              "<tf.Tensor: shape=(4, 4), dtype=string, numpy=\n",
              "array([[b'pinu', b'kinu', b'pinu', b'pinu'],\n",
              "       [b'pinu', b'pinu', b'kinu', b'pinu'],\n",
              "       [b'pinu', b'pinu', b'pinu', b'kinu'],\n",
              "       [b'pinu', b'pinu', b'pinu', b'pinu']], dtype=object)>"
            ]
          },
          "metadata": {},
          "execution_count": 81
        }
      ]
    },
    {
      "cell_type": "markdown",
      "source": [
        "## **Squaring, log, square root**\n",
        "Many other common mathematical operations you'd like to perform at some stage, probably exist.\n",
        "\n",
        "Let's take a look at:\n",
        "\n",
        "\n",
        "* **tf.square()** - get the square of every value in a tensor.\n",
        "* **tf.sqrt()** - get the squareroot of every value in a tensor (note: the elements need to be floats or this will error).\n",
        "* **tf.math.log()** - get the natural log of every value in a tensor (elements need to floats)\n",
        "\n"
      ],
      "metadata": {
        "id": "fwM7aeZv64kX"
      }
    },
    {
      "cell_type": "code",
      "source": [
        "H=tf.constant(np.arange(1,10))\n"
      ],
      "metadata": {
        "id": "9L_eGz756gjd"
      },
      "execution_count": null,
      "outputs": []
    },
    {
      "cell_type": "code",
      "source": [
        "#Square it\n",
        "tf.square(H)"
      ],
      "metadata": {
        "colab": {
          "base_uri": "https://localhost:8080/"
        },
        "id": "kmxLNPss7UBE",
        "outputId": "bfff5663-75ba-41e6-f1c1-b96621c1118e"
      },
      "execution_count": null,
      "outputs": [
        {
          "output_type": "execute_result",
          "data": {
            "text/plain": [
              "<tf.Tensor: shape=(9,), dtype=int64, numpy=array([ 1,  4,  9, 16, 25, 36, 49, 64, 81])>"
            ]
          },
          "metadata": {},
          "execution_count": 83
        }
      ]
    },
    {
      "cell_type": "code",
      "source": [
        "#Square root of it\n",
        "tf.sqrt(H)"
      ],
      "metadata": {
        "colab": {
          "base_uri": "https://localhost:8080/",
          "height": 442
        },
        "id": "_osOmk6_7XHp",
        "outputId": "9edaf76a-fd73-4104-d379-e77c60fb8d35"
      },
      "execution_count": null,
      "outputs": [
        {
          "output_type": "error",
          "ename": "InvalidArgumentError",
          "evalue": "Value for attr 'T' of int64 is not in the list of allowed values: bfloat16, half, float, double, complex64, complex128\n\t; NodeDef: {{node Sqrt}}; Op<name=Sqrt; signature=x:T -> y:T; attr=T:type,allowed=[DT_BFLOAT16, DT_HALF, DT_FLOAT, DT_DOUBLE, DT_COMPLEX64, DT_COMPLEX128]> [Op:Sqrt]",
          "traceback": [
            "\u001b[0;31m---------------------------------------------------------------------------\u001b[0m",
            "\u001b[0;31mInvalidArgumentError\u001b[0m                      Traceback (most recent call last)",
            "\u001b[0;32m<ipython-input-84-277f1a87c77d>\u001b[0m in \u001b[0;36m<cell line: 2>\u001b[0;34m()\u001b[0m\n\u001b[1;32m      1\u001b[0m \u001b[0;31m#Square root of it\u001b[0m\u001b[0;34m\u001b[0m\u001b[0;34m\u001b[0m\u001b[0m\n\u001b[0;32m----> 2\u001b[0;31m \u001b[0mtf\u001b[0m\u001b[0;34m.\u001b[0m\u001b[0msqrt\u001b[0m\u001b[0;34m(\u001b[0m\u001b[0mH\u001b[0m\u001b[0;34m)\u001b[0m\u001b[0;34m\u001b[0m\u001b[0;34m\u001b[0m\u001b[0m\n\u001b[0m",
            "\u001b[0;32m/usr/local/lib/python3.10/dist-packages/tensorflow/python/util/traceback_utils.py\u001b[0m in \u001b[0;36merror_handler\u001b[0;34m(*args, **kwargs)\u001b[0m\n\u001b[1;32m    151\u001b[0m     \u001b[0;32mexcept\u001b[0m \u001b[0mException\u001b[0m \u001b[0;32mas\u001b[0m \u001b[0me\u001b[0m\u001b[0;34m:\u001b[0m\u001b[0;34m\u001b[0m\u001b[0;34m\u001b[0m\u001b[0m\n\u001b[1;32m    152\u001b[0m       \u001b[0mfiltered_tb\u001b[0m \u001b[0;34m=\u001b[0m \u001b[0m_process_traceback_frames\u001b[0m\u001b[0;34m(\u001b[0m\u001b[0me\u001b[0m\u001b[0;34m.\u001b[0m\u001b[0m__traceback__\u001b[0m\u001b[0;34m)\u001b[0m\u001b[0;34m\u001b[0m\u001b[0;34m\u001b[0m\u001b[0m\n\u001b[0;32m--> 153\u001b[0;31m       \u001b[0;32mraise\u001b[0m \u001b[0me\u001b[0m\u001b[0;34m.\u001b[0m\u001b[0mwith_traceback\u001b[0m\u001b[0;34m(\u001b[0m\u001b[0mfiltered_tb\u001b[0m\u001b[0;34m)\u001b[0m \u001b[0;32mfrom\u001b[0m \u001b[0;32mNone\u001b[0m\u001b[0;34m\u001b[0m\u001b[0;34m\u001b[0m\u001b[0m\n\u001b[0m\u001b[1;32m    154\u001b[0m     \u001b[0;32mfinally\u001b[0m\u001b[0;34m:\u001b[0m\u001b[0;34m\u001b[0m\u001b[0;34m\u001b[0m\u001b[0m\n\u001b[1;32m    155\u001b[0m       \u001b[0;32mdel\u001b[0m \u001b[0mfiltered_tb\u001b[0m\u001b[0;34m\u001b[0m\u001b[0;34m\u001b[0m\u001b[0m\n",
            "\u001b[0;32m/usr/local/lib/python3.10/dist-packages/tensorflow/python/framework/ops.py\u001b[0m in \u001b[0;36mraise_from_not_ok_status\u001b[0;34m(e, name)\u001b[0m\n\u001b[1;32m   7260\u001b[0m \u001b[0;32mdef\u001b[0m \u001b[0mraise_from_not_ok_status\u001b[0m\u001b[0;34m(\u001b[0m\u001b[0me\u001b[0m\u001b[0;34m,\u001b[0m \u001b[0mname\u001b[0m\u001b[0;34m)\u001b[0m\u001b[0;34m:\u001b[0m\u001b[0;34m\u001b[0m\u001b[0;34m\u001b[0m\u001b[0m\n\u001b[1;32m   7261\u001b[0m   \u001b[0me\u001b[0m\u001b[0;34m.\u001b[0m\u001b[0mmessage\u001b[0m \u001b[0;34m+=\u001b[0m \u001b[0;34m(\u001b[0m\u001b[0;34m\" name: \"\u001b[0m \u001b[0;34m+\u001b[0m \u001b[0mname\u001b[0m \u001b[0;32mif\u001b[0m \u001b[0mname\u001b[0m \u001b[0;32mis\u001b[0m \u001b[0;32mnot\u001b[0m \u001b[0;32mNone\u001b[0m \u001b[0;32melse\u001b[0m \u001b[0;34m\"\"\u001b[0m\u001b[0;34m)\u001b[0m\u001b[0;34m\u001b[0m\u001b[0;34m\u001b[0m\u001b[0m\n\u001b[0;32m-> 7262\u001b[0;31m   \u001b[0;32mraise\u001b[0m \u001b[0mcore\u001b[0m\u001b[0;34m.\u001b[0m\u001b[0m_status_to_exception\u001b[0m\u001b[0;34m(\u001b[0m\u001b[0me\u001b[0m\u001b[0;34m)\u001b[0m \u001b[0;32mfrom\u001b[0m \u001b[0;32mNone\u001b[0m  \u001b[0;31m# pylint: disable=protected-access\u001b[0m\u001b[0;34m\u001b[0m\u001b[0;34m\u001b[0m\u001b[0m\n\u001b[0m\u001b[1;32m   7263\u001b[0m \u001b[0;34m\u001b[0m\u001b[0m\n\u001b[1;32m   7264\u001b[0m \u001b[0;34m\u001b[0m\u001b[0m\n",
            "\u001b[0;31mInvalidArgumentError\u001b[0m: Value for attr 'T' of int64 is not in the list of allowed values: bfloat16, half, float, double, complex64, complex128\n\t; NodeDef: {{node Sqrt}}; Op<name=Sqrt; signature=x:T -> y:T; attr=T:type,allowed=[DT_BFLOAT16, DT_HALF, DT_FLOAT, DT_DOUBLE, DT_COMPLEX64, DT_COMPLEX128]> [Op:Sqrt]"
          ]
        }
      ]
    },
    {
      "cell_type": "code",
      "source": [
        "H=tf.cast(H,dtype='float')\n",
        "#Square root of it\n",
        "tf.sqrt(H)"
      ],
      "metadata": {
        "id": "T0Y7O8iQ7hda"
      },
      "execution_count": null,
      "outputs": []
    },
    {
      "cell_type": "code",
      "source": [
        "#finding the log\n",
        "tf.math.log(H)"
      ],
      "metadata": {
        "colab": {
          "base_uri": "https://localhost:8080/",
          "height": 442
        },
        "id": "ffuIOME68D-Q",
        "outputId": "f7d1ca1b-0c5b-449c-c01f-fde6c6e45d05"
      },
      "execution_count": null,
      "outputs": [
        {
          "output_type": "error",
          "ename": "InvalidArgumentError",
          "evalue": "Value for attr 'T' of int64 is not in the list of allowed values: bfloat16, half, float, double, complex64, complex128\n\t; NodeDef: {{node Log}}; Op<name=Log; signature=x:T -> y:T; attr=T:type,allowed=[DT_BFLOAT16, DT_HALF, DT_FLOAT, DT_DOUBLE, DT_COMPLEX64, DT_COMPLEX128]> [Op:Log]",
          "traceback": [
            "\u001b[0;31m---------------------------------------------------------------------------\u001b[0m",
            "\u001b[0;31mInvalidArgumentError\u001b[0m                      Traceback (most recent call last)",
            "\u001b[0;32m<ipython-input-85-9a1977733487>\u001b[0m in \u001b[0;36m<cell line: 2>\u001b[0;34m()\u001b[0m\n\u001b[1;32m      1\u001b[0m \u001b[0;31m#finding the log\u001b[0m\u001b[0;34m\u001b[0m\u001b[0;34m\u001b[0m\u001b[0m\n\u001b[0;32m----> 2\u001b[0;31m \u001b[0mtf\u001b[0m\u001b[0;34m.\u001b[0m\u001b[0mmath\u001b[0m\u001b[0;34m.\u001b[0m\u001b[0mlog\u001b[0m\u001b[0;34m(\u001b[0m\u001b[0mH\u001b[0m\u001b[0;34m)\u001b[0m\u001b[0;34m\u001b[0m\u001b[0;34m\u001b[0m\u001b[0m\n\u001b[0m",
            "\u001b[0;32m/usr/local/lib/python3.10/dist-packages/tensorflow/python/ops/gen_math_ops.py\u001b[0m in \u001b[0;36mlog\u001b[0;34m(x, name)\u001b[0m\n\u001b[1;32m   5468\u001b[0m       \u001b[0;32mreturn\u001b[0m \u001b[0m_result\u001b[0m\u001b[0;34m\u001b[0m\u001b[0;34m\u001b[0m\u001b[0m\n\u001b[1;32m   5469\u001b[0m     \u001b[0;32mexcept\u001b[0m \u001b[0m_core\u001b[0m\u001b[0;34m.\u001b[0m\u001b[0m_NotOkStatusException\u001b[0m \u001b[0;32mas\u001b[0m \u001b[0me\u001b[0m\u001b[0;34m:\u001b[0m\u001b[0;34m\u001b[0m\u001b[0;34m\u001b[0m\u001b[0m\n\u001b[0;32m-> 5470\u001b[0;31m       \u001b[0m_ops\u001b[0m\u001b[0;34m.\u001b[0m\u001b[0mraise_from_not_ok_status\u001b[0m\u001b[0;34m(\u001b[0m\u001b[0me\u001b[0m\u001b[0;34m,\u001b[0m \u001b[0mname\u001b[0m\u001b[0;34m)\u001b[0m\u001b[0;34m\u001b[0m\u001b[0;34m\u001b[0m\u001b[0m\n\u001b[0m\u001b[1;32m   5471\u001b[0m     \u001b[0;32mexcept\u001b[0m \u001b[0m_core\u001b[0m\u001b[0;34m.\u001b[0m\u001b[0m_FallbackException\u001b[0m\u001b[0;34m:\u001b[0m\u001b[0;34m\u001b[0m\u001b[0;34m\u001b[0m\u001b[0m\n\u001b[1;32m   5472\u001b[0m       \u001b[0;32mpass\u001b[0m\u001b[0;34m\u001b[0m\u001b[0;34m\u001b[0m\u001b[0m\n",
            "\u001b[0;32m/usr/local/lib/python3.10/dist-packages/tensorflow/python/framework/ops.py\u001b[0m in \u001b[0;36mraise_from_not_ok_status\u001b[0;34m(e, name)\u001b[0m\n\u001b[1;32m   7260\u001b[0m \u001b[0;32mdef\u001b[0m \u001b[0mraise_from_not_ok_status\u001b[0m\u001b[0;34m(\u001b[0m\u001b[0me\u001b[0m\u001b[0;34m,\u001b[0m \u001b[0mname\u001b[0m\u001b[0;34m)\u001b[0m\u001b[0;34m:\u001b[0m\u001b[0;34m\u001b[0m\u001b[0;34m\u001b[0m\u001b[0m\n\u001b[1;32m   7261\u001b[0m   \u001b[0me\u001b[0m\u001b[0;34m.\u001b[0m\u001b[0mmessage\u001b[0m \u001b[0;34m+=\u001b[0m \u001b[0;34m(\u001b[0m\u001b[0;34m\" name: \"\u001b[0m \u001b[0;34m+\u001b[0m \u001b[0mname\u001b[0m \u001b[0;32mif\u001b[0m \u001b[0mname\u001b[0m \u001b[0;32mis\u001b[0m \u001b[0;32mnot\u001b[0m \u001b[0;32mNone\u001b[0m \u001b[0;32melse\u001b[0m \u001b[0;34m\"\"\u001b[0m\u001b[0;34m)\u001b[0m\u001b[0;34m\u001b[0m\u001b[0;34m\u001b[0m\u001b[0m\n\u001b[0;32m-> 7262\u001b[0;31m   \u001b[0;32mraise\u001b[0m \u001b[0mcore\u001b[0m\u001b[0;34m.\u001b[0m\u001b[0m_status_to_exception\u001b[0m\u001b[0;34m(\u001b[0m\u001b[0me\u001b[0m\u001b[0;34m)\u001b[0m \u001b[0;32mfrom\u001b[0m \u001b[0;32mNone\u001b[0m  \u001b[0;31m# pylint: disable=protected-access\u001b[0m\u001b[0;34m\u001b[0m\u001b[0;34m\u001b[0m\u001b[0m\n\u001b[0m\u001b[1;32m   7263\u001b[0m \u001b[0;34m\u001b[0m\u001b[0m\n\u001b[1;32m   7264\u001b[0m \u001b[0;34m\u001b[0m\u001b[0m\n",
            "\u001b[0;31mInvalidArgumentError\u001b[0m: Value for attr 'T' of int64 is not in the list of allowed values: bfloat16, half, float, double, complex64, complex128\n\t; NodeDef: {{node Log}}; Op<name=Log; signature=x:T -> y:T; attr=T:type,allowed=[DT_BFLOAT16, DT_HALF, DT_FLOAT, DT_DOUBLE, DT_COMPLEX64, DT_COMPLEX128]> [Op:Log]"
          ]
        }
      ]
    },
    {
      "cell_type": "code",
      "source": [],
      "metadata": {
        "id": "CNYK6bwa91ZB"
      },
      "execution_count": null,
      "outputs": []
    },
    {
      "cell_type": "markdown",
      "source": [
        "# **Manipulating tf.varible()**"
      ],
      "metadata": {
        "id": "7y15ubTn-cwI"
      }
    },
    {
      "cell_type": "markdown",
      "source": [
        "Tensors created with tf.Variable() can be changed in place using methods such as:\n",
        "\n",
        "\n",
        "*   .assign() - assign a different value to a particular index of a variable tensor.\n",
        "*  .add_assign() - add to an existing value and reassign it at a particular index of a variable tensor.\n",
        "\n",
        "\n"
      ],
      "metadata": {
        "id": "DfoSTfiV-op6"
      }
    },
    {
      "cell_type": "code",
      "source": [
        "T_=tf.Variable(np.arange(1,6,1));\n",
        "T_\n"
      ],
      "metadata": {
        "colab": {
          "base_uri": "https://localhost:8080/"
        },
        "id": "Bu-b5dHy-kS_",
        "outputId": "a01ed636-71e6-430b-8c38-2ec67b1a46f4"
      },
      "execution_count": null,
      "outputs": [
        {
          "output_type": "execute_result",
          "data": {
            "text/plain": [
              "<tf.Variable 'Variable:0' shape=(5,) dtype=int64, numpy=array([1, 2, 3, 4, 5])>"
            ]
          },
          "metadata": {},
          "execution_count": 86
        }
      ]
    },
    {
      "cell_type": "code",
      "source": [
        "T_[0].assign(50)"
      ],
      "metadata": {
        "colab": {
          "base_uri": "https://localhost:8080/"
        },
        "id": "RwVTnxc0_WyH",
        "outputId": "c92a2f7c-1598-46d5-e75c-0567c4715b1e"
      },
      "execution_count": null,
      "outputs": [
        {
          "output_type": "execute_result",
          "data": {
            "text/plain": [
              "<tf.Variable 'UnreadVariable' shape=(5,) dtype=int64, numpy=array([50,  2,  3,  4,  5])>"
            ]
          },
          "metadata": {},
          "execution_count": 87
        }
      ]
    },
    {
      "cell_type": "code",
      "source": [
        "\n",
        "T_.assign([0,0,0,0,0])\n",
        "T_"
      ],
      "metadata": {
        "colab": {
          "base_uri": "https://localhost:8080/"
        },
        "id": "aQU44FZh_rPb",
        "outputId": "fd9754f1-bf8b-42a4-8e64-797a87879d6d"
      },
      "execution_count": null,
      "outputs": [
        {
          "output_type": "execute_result",
          "data": {
            "text/plain": [
              "<tf.Variable 'Variable:0' shape=(5,) dtype=int64, numpy=array([0, 0, 0, 0, 0])>"
            ]
          },
          "metadata": {},
          "execution_count": 88
        }
      ]
    },
    {
      "cell_type": "code",
      "source": [
        "T_.assign_add([1,10,10,100,1000]) #it assign as well as add"
      ],
      "metadata": {
        "colab": {
          "base_uri": "https://localhost:8080/"
        },
        "id": "IsngBarxAQ85",
        "outputId": "48b62a80-8ebc-4138-ce9c-b76cdf6ef329"
      },
      "execution_count": null,
      "outputs": [
        {
          "output_type": "execute_result",
          "data": {
            "text/plain": [
              "<tf.Variable 'UnreadVariable' shape=(5,) dtype=int64, numpy=array([   1,   10,   10,  100, 1000])>"
            ]
          },
          "metadata": {},
          "execution_count": 89
        }
      ]
    },
    {
      "cell_type": "code",
      "source": [],
      "metadata": {
        "id": "UnsrfkcRA0H_"
      },
      "execution_count": null,
      "outputs": []
    },
    {
      "cell_type": "markdown",
      "source": [
        "# Tensors and Numpy\n",
        "We've seen some examples of tensors interact with NumPy arrays, such as, using NumPy arrays to create tensors.\n",
        "\n",
        "Tensors can also be converted to NumPy arrays using:\n",
        "\n",
        "\n",
        "\n",
        "\n",
        "*   np.array() - pass a tensor to convert to an ndarray (NumPy's main datatype).\n",
        "*   tensor.numpy() - call on a tensor to\n",
        "convert to an ndarray.\n",
        "\n",
        "\n",
        "Doing this is helpful as it makes tensors iterable as well as allows us to use any of NumPy's methods on them."
      ],
      "metadata": {
        "id": "dcCkt7XCBDU3"
      }
    },
    {
      "cell_type": "code",
      "source": [
        "Array=np.array(T_)   #convert tensor to array\n",
        "print('Type of Array',type(Array))"
      ],
      "metadata": {
        "colab": {
          "base_uri": "https://localhost:8080/"
        },
        "id": "BXjbXf9kBKTN",
        "outputId": "b488664d-7630-4146-b6e8-a82abbaf459c"
      },
      "execution_count": null,
      "outputs": [
        {
          "output_type": "stream",
          "name": "stdout",
          "text": [
            "Type of Array <class 'numpy.ndarray'>\n"
          ]
        }
      ]
    },
    {
      "cell_type": "code",
      "source": [],
      "metadata": {
        "id": "VShzNUvBCgjH"
      },
      "execution_count": null,
      "outputs": []
    },
    {
      "cell_type": "markdown",
      "source": [
        "# Using @tf.function\n",
        "In your TensorFlow adventures, you might come across Python functions which have the decorator  @tf.function.\n",
        "\n",
        "If you aren't sure what Python decorators do, read RealPython's guide on them.\n",
        "\n",
        "But in short, decorators modify a function in one way or another.\n",
        "\n",
        "In the @tf.function decorator case, it turns a Python function into a callable TensorFlow graph. Which is a fancy way of saying, if you've written your own Python function, and you decorate it with @tf.function, when you export your code (to potentially run on another device), TensorFlow will attempt to convert it into a fast(er) version of itself (by making it part of a computation graph).\n",
        "\n",
        "For more on this, read the Better performnace with tf.function guide."
      ],
      "metadata": {
        "id": "-Az06XEtDMi5"
      }
    },
    {
      "cell_type": "code",
      "source": [
        "\n",
        "\n",
        "def function(x, y):\n",
        "  return x ** 2 + y\n",
        "\n",
        "x = tf.constant(np.arange(0, 10))\n",
        "y = tf.constant(np.arange(10, 20))\n",
        "\n",
        "function(x, y)\n"
      ],
      "metadata": {
        "colab": {
          "base_uri": "https://localhost:8080/"
        },
        "id": "zK-dWSnkDRTX",
        "outputId": "dc55762a-6921-4a35-aaac-2bf447d762f6"
      },
      "execution_count": null,
      "outputs": [
        {
          "output_type": "execute_result",
          "data": {
            "text/plain": [
              "<tf.Tensor: shape=(10,), dtype=int64, numpy=array([ 10,  12,  16,  22,  30,  40,  52,  66,  82, 100])>"
            ]
          },
          "metadata": {},
          "execution_count": 91
        }
      ]
    },
    {
      "cell_type": "code",
      "source": [
        "# Create the same function and decorate it with tf.function\n",
        "@tf.function\n",
        "def tf_function(x, y):\n",
        "  return x ** 2 + y\n",
        "\n",
        "tf_function(x, y)"
      ],
      "metadata": {
        "colab": {
          "base_uri": "https://localhost:8080/"
        },
        "id": "iAiS2-QfDuMi",
        "outputId": "e9922941-7e84-4ec1-bd3c-e19c34401c56"
      },
      "execution_count": null,
      "outputs": [
        {
          "output_type": "execute_result",
          "data": {
            "text/plain": [
              "<tf.Tensor: shape=(10,), dtype=int64, numpy=array([ 10,  12,  16,  22,  30,  40,  52,  66,  82, 100])>"
            ]
          },
          "metadata": {},
          "execution_count": 92
        }
      ]
    },
    {
      "cell_type": "markdown",
      "source": [
        "# **finding Access to the GPUs**"
      ],
      "metadata": {
        "id": "_lNTUm3Ljx4A"
      }
    },
    {
      "cell_type": "code",
      "source": [
        "import tensorflow as tf\n"
      ],
      "metadata": {
        "id": "6j1hGkAPj4IG"
      },
      "execution_count": null,
      "outputs": []
    },
    {
      "cell_type": "code",
      "source": [
        "tf.config.list_physical_devices()\n"
      ],
      "metadata": {
        "colab": {
          "base_uri": "https://localhost:8080/"
        },
        "id": "MdCX_JeIj4Ws",
        "outputId": "34cff99b-6df3-448e-fcc5-73ad8c7129dc"
      },
      "execution_count": null,
      "outputs": [
        {
          "output_type": "execute_result",
          "data": {
            "text/plain": [
              "[PhysicalDevice(name='/physical_device:CPU:0', device_type='CPU')]"
            ]
          },
          "metadata": {},
          "execution_count": 94
        }
      ]
    },
    {
      "cell_type": "code",
      "source": [
        "!nvidia-smi"
      ],
      "metadata": {
        "colab": {
          "base_uri": "https://localhost:8080/"
        },
        "id": "zm1YtGXimqpv",
        "outputId": "6b215b13-d9db-4df6-bf34-e88011e8bdca"
      },
      "execution_count": null,
      "outputs": [
        {
          "output_type": "stream",
          "name": "stdout",
          "text": [
            "/bin/bash: line 1: nvidia-smi: command not found\n"
          ]
        }
      ]
    },
    {
      "cell_type": "markdown",
      "source": [
        "# **Regression**\n",
        "**Steps for model Building**\n",
        "\n",
        "\n",
        "1.   Get data Ready (Turn into the tensors)\n",
        "\n",
        "2.   Build or pick the pretrain models\n",
        "(To Suit the problem)\n",
        "\n",
        "*   **Creating a model** - piece together the layers of a neural network yourself (using the Functional or Sequential API) or import a previously built model (known as transfer learning).\n",
        "*   **Compiling a model** - defining how a models performance should be measured (loss/metrics) as well as defining how it should improve (optimizer).\n",
        "*  **Fitting a model** - letting the model try to find patterns in the data (how does X get to y)\n",
        "\n",
        "\n",
        "3.  Fit the model to the data and make a prediction\n",
        "\n",
        "4.   Evaluate the model\n",
        "\n",
        "5.   improve through the experimentation\n",
        "\n",
        "6.   Save and reload train model\n",
        "\n"
      ],
      "metadata": {
        "id": "39L7rguMjA17"
      }
    },
    {
      "cell_type": "code",
      "source": [
        "import tensorflow as tf\n",
        "print(tf.__version__) # check the version (should be 2.x+)\"\""
      ],
      "metadata": {
        "id": "ESozNjweFgYe",
        "colab": {
          "base_uri": "https://localhost:8080/"
        },
        "outputId": "62985a84-0ff1-41f0-f865-aaed3073bcbd"
      },
      "execution_count": null,
      "outputs": [
        {
          "output_type": "stream",
          "name": "stdout",
          "text": [
            "2.12.0\n"
          ]
        }
      ]
    },
    {
      "cell_type": "code",
      "source": [
        "import numpy as np\n",
        "import matplotlib.pyplot as plt\n",
        "\n",
        "# Create features (using tensors)\n",
        "X = tf.constant([-7.0, -4.0, -1.0, 2.0, 5.0, 8.0, 11.0, 14.0])\n",
        "\n",
        "# Create labels (using tensors)\n",
        "y = tf.constant([3.0, 6.0, 9.0, 12.0, 15.0, 18.0, 21.0, 24.0])\n",
        "\n",
        "# Visualize it\n",
        "plt.scatter(X, y);"
      ],
      "metadata": {
        "colab": {
          "base_uri": "https://localhost:8080/",
          "height": 435
        },
        "id": "bIiwnkKKjEBn",
        "outputId": "8c94e5da-5922-4508-aaa4-8c90cccc01b1"
      },
      "execution_count": null,
      "outputs": [
        {
          "output_type": "display_data",
          "data": {
            "text/plain": [
              "<Figure size 640x480 with 1 Axes>"
            ],
            "image/png": "[encoded data removed]"
          },
          "metadata": {}
        }
      ]
    },
    {
      "cell_type": "code",
      "source": [
        "X = tf.reshape(X, shape=(-1, 1))"
      ],
      "metadata": {
        "id": "-dw-peo7_kdl"
      },
      "execution_count": null,
      "outputs": []
    },
    {
      "cell_type": "code",
      "source": [
        "#OR method to build the model\n",
        "#model=Sequential()\n",
        "#model.add(tf.keras.layers.Dense(1))\n",
        "#model.add(tf.keras.layers.Dense(1))"
      ],
      "metadata": {
        "id": "B1Y2bng_CekM"
      },
      "execution_count": null,
      "outputs": []
    },
    {
      "cell_type": "markdown",
      "source": [
        "# **Model1**"
      ],
      "metadata": {
        "id": "UCi28dDbs0xZ"
      }
    },
    {
      "cell_type": "code",
      "source": [
        "#set the random seed\n",
        "tf.random.set_seed(42)\n",
        "\n",
        "#1. create the model using sequential API\n",
        "model=tf.keras.Sequential([\n",
        "    tf.keras.layers.Dense(1),\n",
        "\n",
        "])\n",
        "\n",
        "#2. Compile the model\n",
        "model.compile(loss='mae',optimizer='sgd',metrics=['mae'])\n",
        "\n",
        "#3. Fit the model\n",
        "model.fit(X,y,epochs=5)"
      ],
      "metadata": {
        "colab": {
          "base_uri": "https://localhost:8080/"
        },
        "id": "KjJwMePC0T59",
        "outputId": "ab57c1fe-808b-4373-94b5-83c32961559a"
      },
      "execution_count": null,
      "outputs": [
        {
          "output_type": "stream",
          "name": "stdout",
          "text": [
            "Epoch 1/5\n",
            "1/1 [==============================] - 0s 377ms/step - loss: 7.5000 - mae: 7.5000\n",
            "Epoch 2/5\n",
            "1/1 [==============================] - 0s 10ms/step - loss: 7.4944 - mae: 7.4944\n",
            "Epoch 3/5\n",
            "1/1 [==============================] - 0s 10ms/step - loss: 7.4887 - mae: 7.4887\n",
            "Epoch 4/5\n",
            "1/1 [==============================] - 0s 11ms/step - loss: 7.4831 - mae: 7.4831\n",
            "Epoch 5/5\n",
            "1/1 [==============================] - 0s 8ms/step - loss: 7.4775 - mae: 7.4775\n"
          ]
        },
        {
          "output_type": "execute_result",
          "data": {
            "text/plain": [
              "<keras.callbacks.History at 0x7da221166260>"
            ]
          },
          "metadata": {},
          "execution_count": 190
        }
      ]
    },
    {
      "cell_type": "code",
      "source": [
        "y_pre=model.predict([17.0]);y_pre"
      ],
      "metadata": {
        "colab": {
          "base_uri": "https://localhost:8080/"
        },
        "id": "hkTnmclj8gWE",
        "outputId": "37027f70-0952-4944-e914-7024e441fca6"
      },
      "execution_count": null,
      "outputs": [
        {
          "output_type": "stream",
          "name": "stdout",
          "text": [
            "1/1 [==============================] - 0s 69ms/step\n"
          ]
        },
        {
          "output_type": "execute_result",
          "data": {
            "text/plain": [
              "array([[29.207096]], dtype=float32)"
            ]
          },
          "metadata": {},
          "execution_count": 191
        }
      ]
    },
    {
      "cell_type": "code",
      "source": [
        "#evaluate the model\n",
        "model.evaluate(X,y)"
      ],
      "metadata": {
        "colab": {
          "base_uri": "https://localhost:8080/"
        },
        "id": "MOxd8BILIhk0",
        "outputId": "3dfe4c88-ddbe-4798-918d-d12d58394f5e"
      },
      "execution_count": null,
      "outputs": [
        {
          "output_type": "stream",
          "name": "stdout",
          "text": [
            "1/1 [==============================] - 0s 132ms/step - loss: 7.4719 - mae: 7.4719\n"
          ]
        },
        {
          "output_type": "execute_result",
          "data": {
            "text/plain": [
              "[7.471875190734863, 7.471875190734863]"
            ]
          },
          "metadata": {},
          "execution_count": 192
        }
      ]
    },
    {
      "cell_type": "markdown",
      "source": [
        "# **Improving our model**\n",
        "\n",
        "1. **Creating a model**-  Here we might add more layers, increase the number of hidden units (all called neurons)\n",
        "within each of the hidden layers, change the activation function of the each layer\n",
        "2. **Compiling the model-** Here we might change the optimization function or perhaps the **learning rate** of the optimization function.\n",
        "3. **Fitting a model-** Here we might fit a  model for more **epochs** (leave it trainnig for longer) or on more data.\n",
        "(give the model more examples to learn from)"
      ],
      "metadata": {
        "id": "VrSJvSaHLf6N"
      }
    },
    {
      "cell_type": "code",
      "source": [],
      "metadata": {
        "id": "dy_pPnfJs3u2"
      },
      "execution_count": null,
      "outputs": []
    },
    {
      "cell_type": "markdown",
      "source": [
        "# **Model2**\n",
        "**1) Lets Increse the Epochs** **bold text**"
      ],
      "metadata": {
        "id": "rlw8JYjxUmiu"
      }
    },
    {
      "cell_type": "code",
      "source": [
        "#1. Create the model\n",
        "model=tf.keras.Sequential([\n",
        "    tf.keras.layers.Dense(1)\n",
        "])\n",
        "\n",
        "#2. Compile the model\n",
        "model.compile(loss='mae',optimizer='sgd',metrics=['mae'])\n",
        "\n",
        "#3. Fit the model\n",
        "model.fit(X,y,epochs=100)\n"
      ],
      "metadata": {
        "colab": {
          "base_uri": "https://localhost:8080/"
        },
        "id": "0z7efxkqLhD6",
        "outputId": "52c5352d-d085-46df-e04e-5888df6b3f31"
      },
      "execution_count": null,
      "outputs": [
        {
          "output_type": "stream",
          "name": "stdout",
          "text": [
            "Epoch 1/100\n",
            "1/1 [==============================] - 0s 370ms/step - loss: 11.4550 - mae: 11.4550\n",
            "Epoch 2/100\n",
            "1/1 [==============================] - 0s 10ms/step - loss: 11.3225 - mae: 11.3225\n",
            "Epoch 3/100\n",
            "1/1 [==============================] - 0s 10ms/step - loss: 11.1900 - mae: 11.1900\n",
            "Epoch 4/100\n",
            "1/1 [==============================] - 0s 9ms/step - loss: 11.0575 - mae: 11.0575\n",
            "Epoch 5/100\n",
            "1/1 [==============================] - 0s 11ms/step - loss: 10.9250 - mae: 10.9250\n",
            "Epoch 6/100\n",
            "1/1 [==============================] - 0s 11ms/step - loss: 10.7925 - mae: 10.7925\n",
            "Epoch 7/100\n",
            "1/1 [==============================] - 0s 10ms/step - loss: 10.6600 - mae: 10.6600\n",
            "Epoch 8/100\n",
            "1/1 [==============================] - 0s 10ms/step - loss: 10.5275 - mae: 10.5275\n",
            "Epoch 9/100\n",
            "1/1 [==============================] - 0s 9ms/step - loss: 10.3950 - mae: 10.3950\n",
            "Epoch 10/100\n",
            "1/1 [==============================] - 0s 9ms/step - loss: 10.2625 - mae: 10.2625\n",
            "Epoch 11/100\n",
            "1/1 [==============================] - 0s 9ms/step - loss: 10.1300 - mae: 10.1300\n",
            "Epoch 12/100\n",
            "1/1 [==============================] - 0s 10ms/step - loss: 9.9975 - mae: 9.9975\n",
            "Epoch 13/100\n",
            "1/1 [==============================] - 0s 9ms/step - loss: 9.8650 - mae: 9.8650\n",
            "Epoch 14/100\n",
            "1/1 [==============================] - 0s 10ms/step - loss: 9.7325 - mae: 9.7325\n",
            "Epoch 15/100\n",
            "1/1 [==============================] - 0s 10ms/step - loss: 9.6000 - mae: 9.6000\n",
            "Epoch 16/100\n",
            "1/1 [==============================] - 0s 10ms/step - loss: 9.4675 - mae: 9.4675\n",
            "Epoch 17/100\n",
            "1/1 [==============================] - 0s 10ms/step - loss: 9.3350 - mae: 9.3350\n",
            "Epoch 18/100\n",
            "1/1 [==============================] - 0s 11ms/step - loss: 9.2025 - mae: 9.2025\n",
            "Epoch 19/100\n",
            "1/1 [==============================] - 0s 10ms/step - loss: 9.0700 - mae: 9.0700\n",
            "Epoch 20/100\n",
            "1/1 [==============================] - 0s 16ms/step - loss: 8.9375 - mae: 8.9375\n",
            "Epoch 21/100\n",
            "1/1 [==============================] - 0s 13ms/step - loss: 8.8050 - mae: 8.8050\n",
            "Epoch 22/100\n",
            "1/1 [==============================] - 0s 12ms/step - loss: 8.6725 - mae: 8.6725\n",
            "Epoch 23/100\n",
            "1/1 [==============================] - 0s 8ms/step - loss: 8.5400 - mae: 8.5400\n",
            "Epoch 24/100\n",
            "1/1 [==============================] - 0s 9ms/step - loss: 8.4075 - mae: 8.4075\n",
            "Epoch 25/100\n",
            "1/1 [==============================] - 0s 9ms/step - loss: 8.2750 - mae: 8.2750\n",
            "Epoch 26/100\n",
            "1/1 [==============================] - 0s 9ms/step - loss: 8.1425 - mae: 8.1425\n",
            "Epoch 27/100\n",
            "1/1 [==============================] - 0s 9ms/step - loss: 8.0100 - mae: 8.0100\n",
            "Epoch 28/100\n",
            "1/1 [==============================] - 0s 10ms/step - loss: 7.8775 - mae: 7.8775\n",
            "Epoch 29/100\n",
            "1/1 [==============================] - 0s 9ms/step - loss: 7.7450 - mae: 7.7450\n",
            "Epoch 30/100\n",
            "1/1 [==============================] - 0s 9ms/step - loss: 7.6125 - mae: 7.6125\n",
            "Epoch 31/100\n",
            "1/1 [==============================] - 0s 10ms/step - loss: 7.4800 - mae: 7.4800\n",
            "Epoch 32/100\n",
            "1/1 [==============================] - 0s 9ms/step - loss: 7.3475 - mae: 7.3475\n",
            "Epoch 33/100\n",
            "1/1 [==============================] - 0s 11ms/step - loss: 7.2600 - mae: 7.2600\n",
            "Epoch 34/100\n",
            "1/1 [==============================] - 0s 9ms/step - loss: 7.2544 - mae: 7.2544\n",
            "Epoch 35/100\n",
            "1/1 [==============================] - 0s 11ms/step - loss: 7.2487 - mae: 7.2487\n",
            "Epoch 36/100\n",
            "1/1 [==============================] - 0s 8ms/step - loss: 7.2431 - mae: 7.2431\n",
            "Epoch 37/100\n",
            "1/1 [==============================] - 0s 9ms/step - loss: 7.2375 - mae: 7.2375\n",
            "Epoch 38/100\n",
            "1/1 [==============================] - 0s 11ms/step - loss: 7.2319 - mae: 7.2319\n",
            "Epoch 39/100\n",
            "1/1 [==============================] - 0s 8ms/step - loss: 7.2263 - mae: 7.2263\n",
            "Epoch 40/100\n",
            "1/1 [==============================] - 0s 9ms/step - loss: 7.2206 - mae: 7.2206\n",
            "Epoch 41/100\n",
            "1/1 [==============================] - 0s 9ms/step - loss: 7.2150 - mae: 7.2150\n",
            "Epoch 42/100\n",
            "1/1 [==============================] - 0s 9ms/step - loss: 7.2094 - mae: 7.2094\n",
            "Epoch 43/100\n",
            "1/1 [==============================] - 0s 9ms/step - loss: 7.2037 - mae: 7.2037\n",
            "Epoch 44/100\n",
            "1/1 [==============================] - 0s 9ms/step - loss: 7.1981 - mae: 7.1981\n",
            "Epoch 45/100\n",
            "1/1 [==============================] - 0s 9ms/step - loss: 7.1925 - mae: 7.1925\n",
            "Epoch 46/100\n",
            "1/1 [==============================] - 0s 9ms/step - loss: 7.1869 - mae: 7.1869\n",
            "Epoch 47/100\n",
            "1/1 [==============================] - 0s 10ms/step - loss: 7.1813 - mae: 7.1813\n",
            "Epoch 48/100\n",
            "1/1 [==============================] - 0s 12ms/step - loss: 7.1756 - mae: 7.1756\n",
            "Epoch 49/100\n",
            "1/1 [==============================] - 0s 13ms/step - loss: 7.1700 - mae: 7.1700\n",
            "Epoch 50/100\n",
            "1/1 [==============================] - 0s 12ms/step - loss: 7.1644 - mae: 7.1644\n",
            "Epoch 51/100\n",
            "1/1 [==============================] - 0s 16ms/step - loss: 7.1588 - mae: 7.1588\n",
            "Epoch 52/100\n",
            "1/1 [==============================] - 0s 11ms/step - loss: 7.1531 - mae: 7.1531\n",
            "Epoch 53/100\n",
            "1/1 [==============================] - 0s 9ms/step - loss: 7.1475 - mae: 7.1475\n",
            "Epoch 54/100\n",
            "1/1 [==============================] - 0s 11ms/step - loss: 7.1419 - mae: 7.1419\n",
            "Epoch 55/100\n",
            "1/1 [==============================] - 0s 9ms/step - loss: 7.1363 - mae: 7.1363\n",
            "Epoch 56/100\n",
            "1/1 [==============================] - 0s 10ms/step - loss: 7.1306 - mae: 7.1306\n",
            "Epoch 57/100\n",
            "1/1 [==============================] - 0s 10ms/step - loss: 7.1250 - mae: 7.1250\n",
            "Epoch 58/100\n",
            "1/1 [==============================] - 0s 9ms/step - loss: 7.1194 - mae: 7.1194\n",
            "Epoch 59/100\n",
            "1/1 [==============================] - 0s 9ms/step - loss: 7.1138 - mae: 7.1138\n",
            "Epoch 60/100\n",
            "1/1 [==============================] - 0s 10ms/step - loss: 7.1081 - mae: 7.1081\n",
            "Epoch 61/100\n",
            "1/1 [==============================] - 0s 11ms/step - loss: 7.1025 - mae: 7.1025\n",
            "Epoch 62/100\n",
            "1/1 [==============================] - 0s 9ms/step - loss: 7.0969 - mae: 7.0969\n",
            "Epoch 63/100\n",
            "1/1 [==============================] - 0s 9ms/step - loss: 7.0912 - mae: 7.0912\n",
            "Epoch 64/100\n",
            "1/1 [==============================] - 0s 9ms/step - loss: 7.0856 - mae: 7.0856\n",
            "Epoch 65/100\n",
            "1/1 [==============================] - 0s 9ms/step - loss: 7.0800 - mae: 7.0800\n",
            "Epoch 66/100\n",
            "1/1 [==============================] - 0s 9ms/step - loss: 7.0744 - mae: 7.0744\n",
            "Epoch 67/100\n",
            "1/1 [==============================] - 0s 9ms/step - loss: 7.0688 - mae: 7.0688\n",
            "Epoch 68/100\n",
            "1/1 [==============================] - 0s 10ms/step - loss: 7.0631 - mae: 7.0631\n",
            "Epoch 69/100\n",
            "1/1 [==============================] - 0s 11ms/step - loss: 7.0575 - mae: 7.0575\n",
            "Epoch 70/100\n",
            "1/1 [==============================] - 0s 10ms/step - loss: 7.0519 - mae: 7.0519\n",
            "Epoch 71/100\n",
            "1/1 [==============================] - 0s 9ms/step - loss: 7.0463 - mae: 7.0463\n",
            "Epoch 72/100\n",
            "1/1 [==============================] - 0s 9ms/step - loss: 7.0406 - mae: 7.0406\n",
            "Epoch 73/100\n",
            "1/1 [==============================] - 0s 10ms/step - loss: 7.0350 - mae: 7.0350\n",
            "Epoch 74/100\n",
            "1/1 [==============================] - 0s 9ms/step - loss: 7.0294 - mae: 7.0294\n",
            "Epoch 75/100\n",
            "1/1 [==============================] - 0s 9ms/step - loss: 7.0238 - mae: 7.0238\n",
            "Epoch 76/100\n",
            "1/1 [==============================] - 0s 13ms/step - loss: 7.0181 - mae: 7.0181\n",
            "Epoch 77/100\n",
            "1/1 [==============================] - 0s 9ms/step - loss: 7.0125 - mae: 7.0125\n",
            "Epoch 78/100\n",
            "1/1 [==============================] - 0s 9ms/step - loss: 7.0069 - mae: 7.0069\n",
            "Epoch 79/100\n",
            "1/1 [==============================] - 0s 9ms/step - loss: 7.0013 - mae: 7.0013\n",
            "Epoch 80/100\n",
            "1/1 [==============================] - 0s 9ms/step - loss: 6.9956 - mae: 6.9956\n",
            "Epoch 81/100\n",
            "1/1 [==============================] - 0s 9ms/step - loss: 6.9900 - mae: 6.9900\n",
            "Epoch 82/100\n",
            "1/1 [==============================] - 0s 9ms/step - loss: 6.9844 - mae: 6.9844\n",
            "Epoch 83/100\n",
            "1/1 [==============================] - 0s 9ms/step - loss: 6.9788 - mae: 6.9788\n",
            "Epoch 84/100\n",
            "1/1 [==============================] - 0s 9ms/step - loss: 6.9731 - mae: 6.9731\n",
            "Epoch 85/100\n",
            "1/1 [==============================] - 0s 10ms/step - loss: 6.9675 - mae: 6.9675\n",
            "Epoch 86/100\n",
            "1/1 [==============================] - 0s 9ms/step - loss: 6.9619 - mae: 6.9619\n",
            "Epoch 87/100\n",
            "1/1 [==============================] - 0s 9ms/step - loss: 6.9563 - mae: 6.9563\n",
            "Epoch 88/100\n",
            "1/1 [==============================] - 0s 10ms/step - loss: 6.9506 - mae: 6.9506\n",
            "Epoch 89/100\n",
            "1/1 [==============================] - 0s 9ms/step - loss: 6.9450 - mae: 6.9450\n",
            "Epoch 90/100\n",
            "1/1 [==============================] - 0s 9ms/step - loss: 6.9394 - mae: 6.9394\n",
            "Epoch 91/100\n",
            "1/1 [==============================] - 0s 9ms/step - loss: 6.9338 - mae: 6.9338\n",
            "Epoch 92/100\n",
            "1/1 [==============================] - 0s 9ms/step - loss: 6.9281 - mae: 6.9281\n",
            "Epoch 93/100\n",
            "1/1 [==============================] - 0s 9ms/step - loss: 6.9225 - mae: 6.9225\n",
            "Epoch 94/100\n",
            "1/1 [==============================] - 0s 9ms/step - loss: 6.9169 - mae: 6.9169\n",
            "Epoch 95/100\n",
            "1/1 [==============================] - 0s 13ms/step - loss: 6.9113 - mae: 6.9113\n",
            "Epoch 96/100\n",
            "1/1 [==============================] - 0s 12ms/step - loss: 6.9056 - mae: 6.9056\n",
            "Epoch 97/100\n",
            "1/1 [==============================] - 0s 9ms/step - loss: 6.9000 - mae: 6.9000\n",
            "Epoch 98/100\n",
            "1/1 [==============================] - 0s 13ms/step - loss: 6.8944 - mae: 6.8944\n",
            "Epoch 99/100\n",
            "1/1 [==============================] - 0s 11ms/step - loss: 6.8888 - mae: 6.8888\n",
            "Epoch 100/100\n",
            "1/1 [==============================] - 0s 9ms/step - loss: 6.8831 - mae: 6.8831\n"
          ]
        },
        {
          "output_type": "execute_result",
          "data": {
            "text/plain": [
              "<keras.callbacks.History at 0x7da223f0e3e0>"
            ]
          },
          "metadata": {},
          "execution_count": 193
        }
      ]
    },
    {
      "cell_type": "code",
      "source": [
        "#Remind ourselves of the data\n",
        "X,y"
      ],
      "metadata": {
        "colab": {
          "base_uri": "https://localhost:8080/"
        },
        "id": "3TBx-4-iSfHd",
        "outputId": "9a9a50d0-1167-45e7-dffc-880ff5e920d2"
      },
      "execution_count": null,
      "outputs": [
        {
          "output_type": "execute_result",
          "data": {
            "text/plain": [
              "(<tf.Tensor: shape=(8, 1), dtype=float32, numpy=\n",
              " array([[-7.],\n",
              "        [-4.],\n",
              "        [-1.],\n",
              "        [ 2.],\n",
              "        [ 5.],\n",
              "        [ 8.],\n",
              "        [11.],\n",
              "        [14.]], dtype=float32)>,\n",
              " <tf.Tensor: shape=(8,), dtype=float32, numpy=array([ 3.,  6.,  9., 12., 15., 18., 21., 24.], dtype=float32)>)"
            ]
          },
          "metadata": {},
          "execution_count": 194
        }
      ]
    },
    {
      "cell_type": "code",
      "source": [
        "model.predict([17.0])"
      ],
      "metadata": {
        "colab": {
          "base_uri": "https://localhost:8080/"
        },
        "id": "jBK73uYATB7J",
        "outputId": "41b22166-1eeb-44ab-aa1f-67ae7a8cc884"
      },
      "execution_count": null,
      "outputs": [
        {
          "output_type": "stream",
          "name": "stdout",
          "text": [
            "1/1 [==============================] - 0s 73ms/step\n"
          ]
        },
        {
          "output_type": "execute_result",
          "data": {
            "text/plain": [
              "array([[29.802906]], dtype=float32)"
            ]
          },
          "metadata": {},
          "execution_count": 195
        }
      ]
    },
    {
      "cell_type": "markdown",
      "source": [
        "# **model3**\n",
        "###**2)Increse Neurons in Dense Layers**"
      ],
      "metadata": {
        "id": "VTyhLw--U8Ad"
      }
    },
    {
      "cell_type": "code",
      "source": [
        "model=tf.keras.Sequential([\n",
        "    tf.keras.layers.Dense(100,activation='relu'),\n",
        "    tf.keras.layers.Dense(1)\n",
        "])"
      ],
      "metadata": {
        "id": "zLfGr3tHUjwZ"
      },
      "execution_count": null,
      "outputs": []
    },
    {
      "cell_type": "code",
      "source": [],
      "metadata": {
        "id": "TaHTgmXwo6Uo"
      },
      "execution_count": null,
      "outputs": []
    },
    {
      "cell_type": "code",
      "source": [
        "model.compile(loss='mae',optimizer='sgd',metrics=['mae'])"
      ],
      "metadata": {
        "id": "tu_Ap9IeTHFu"
      },
      "execution_count": null,
      "outputs": []
    },
    {
      "cell_type": "code",
      "source": [
        "model.fit(X,y,epochs=100)"
      ],
      "metadata": {
        "colab": {
          "base_uri": "https://localhost:8080/"
        },
        "id": "a91UuhTnVxoF",
        "outputId": "46627270-78d3-4a0f-d9d6-6da95ecbbf19"
      },
      "execution_count": null,
      "outputs": [
        {
          "output_type": "stream",
          "name": "stdout",
          "text": [
            "Epoch 1/100\n",
            "1/1 [==============================] - 1s 752ms/step - loss: 13.2334 - mae: 13.2334\n",
            "Epoch 2/100\n",
            "1/1 [==============================] - 0s 21ms/step - loss: 12.8115 - mae: 12.8115\n",
            "Epoch 3/100\n",
            "1/1 [==============================] - 0s 20ms/step - loss: 12.3923 - mae: 12.3923\n",
            "Epoch 4/100\n",
            "1/1 [==============================] - 0s 16ms/step - loss: 11.9682 - mae: 11.9682\n",
            "Epoch 5/100\n",
            "1/1 [==============================] - 0s 20ms/step - loss: 11.5538 - mae: 11.5538\n",
            "Epoch 6/100\n",
            "1/1 [==============================] - 0s 20ms/step - loss: 11.1649 - mae: 11.1649\n",
            "Epoch 7/100\n",
            "1/1 [==============================] - 0s 20ms/step - loss: 10.7619 - mae: 10.7619\n",
            "Epoch 8/100\n",
            "1/1 [==============================] - 0s 30ms/step - loss: 10.3486 - mae: 10.3486\n",
            "Epoch 9/100\n",
            "1/1 [==============================] - 0s 38ms/step - loss: 9.9052 - mae: 9.9052\n",
            "Epoch 10/100\n",
            "1/1 [==============================] - 0s 50ms/step - loss: 9.4364 - mae: 9.4364\n",
            "Epoch 11/100\n",
            "1/1 [==============================] - 0s 20ms/step - loss: 8.9418 - mae: 8.9418\n",
            "Epoch 12/100\n",
            "1/1 [==============================] - 0s 21ms/step - loss: 8.4118 - mae: 8.4118\n",
            "Epoch 13/100\n",
            "1/1 [==============================] - 0s 17ms/step - loss: 7.8419 - mae: 7.8419\n",
            "Epoch 14/100\n",
            "1/1 [==============================] - 0s 18ms/step - loss: 7.2249 - mae: 7.2249\n",
            "Epoch 15/100\n",
            "1/1 [==============================] - 0s 16ms/step - loss: 6.5547 - mae: 6.5547\n",
            "Epoch 16/100\n",
            "1/1 [==============================] - 0s 16ms/step - loss: 5.8248 - mae: 5.8248\n",
            "Epoch 17/100\n",
            "1/1 [==============================] - 0s 12ms/step - loss: 5.0354 - mae: 5.0354\n",
            "Epoch 18/100\n",
            "1/1 [==============================] - 0s 15ms/step - loss: 4.1862 - mae: 4.1862\n",
            "Epoch 19/100\n",
            "1/1 [==============================] - 0s 12ms/step - loss: 4.0963 - mae: 4.0963\n",
            "Epoch 20/100\n",
            "1/1 [==============================] - 0s 16ms/step - loss: 4.0040 - mae: 4.0040\n",
            "Epoch 21/100\n",
            "1/1 [==============================] - 0s 13ms/step - loss: 3.9092 - mae: 3.9092\n",
            "Epoch 22/100\n",
            "1/1 [==============================] - 0s 13ms/step - loss: 3.9528 - mae: 3.9528\n",
            "Epoch 23/100\n",
            "1/1 [==============================] - 0s 16ms/step - loss: 3.8868 - mae: 3.8868\n",
            "Epoch 24/100\n",
            "1/1 [==============================] - 0s 20ms/step - loss: 3.9551 - mae: 3.9551\n",
            "Epoch 25/100\n",
            "1/1 [==============================] - 0s 14ms/step - loss: 3.8972 - mae: 3.8972\n",
            "Epoch 26/100\n",
            "1/1 [==============================] - 0s 35ms/step - loss: 3.9386 - mae: 3.9386\n",
            "Epoch 27/100\n",
            "1/1 [==============================] - 0s 25ms/step - loss: 3.9082 - mae: 3.9082\n",
            "Epoch 28/100\n",
            "1/1 [==============================] - 0s 21ms/step - loss: 3.9133 - mae: 3.9133\n",
            "Epoch 29/100\n",
            "1/1 [==============================] - 0s 22ms/step - loss: 3.9145 - mae: 3.9145\n",
            "Epoch 30/100\n",
            "1/1 [==============================] - 0s 26ms/step - loss: 3.8880 - mae: 3.8880\n",
            "Epoch 31/100\n",
            "1/1 [==============================] - 0s 27ms/step - loss: 3.9209 - mae: 3.9209\n",
            "Epoch 32/100\n",
            "1/1 [==============================] - 0s 26ms/step - loss: 3.8625 - mae: 3.8625\n",
            "Epoch 33/100\n",
            "1/1 [==============================] - 0s 28ms/step - loss: 3.9306 - mae: 3.9306\n",
            "Epoch 34/100\n",
            "1/1 [==============================] - 0s 23ms/step - loss: 3.8710 - mae: 3.8710\n",
            "Epoch 35/100\n",
            "1/1 [==============================] - 0s 22ms/step - loss: 3.9164 - mae: 3.9164\n",
            "Epoch 36/100\n",
            "1/1 [==============================] - 0s 25ms/step - loss: 3.8775 - mae: 3.8775\n",
            "Epoch 37/100\n",
            "1/1 [==============================] - 0s 21ms/step - loss: 3.8908 - mae: 3.8908\n",
            "Epoch 38/100\n",
            "1/1 [==============================] - 0s 23ms/step - loss: 3.8840 - mae: 3.8840\n",
            "Epoch 39/100\n",
            "1/1 [==============================] - 0s 23ms/step - loss: 3.8652 - mae: 3.8652\n",
            "Epoch 40/100\n",
            "1/1 [==============================] - 0s 22ms/step - loss: 3.8907 - mae: 3.8907\n",
            "Epoch 41/100\n",
            "1/1 [==============================] - 0s 22ms/step - loss: 3.8420 - mae: 3.8420\n",
            "Epoch 42/100\n",
            "1/1 [==============================] - 0s 20ms/step - loss: 3.9066 - mae: 3.9066\n",
            "Epoch 43/100\n",
            "1/1 [==============================] - 0s 18ms/step - loss: 3.8415 - mae: 3.8415\n",
            "Epoch 44/100\n",
            "1/1 [==============================] - 0s 25ms/step - loss: 3.8926 - mae: 3.8926\n",
            "Epoch 45/100\n",
            "1/1 [==============================] - 0s 21ms/step - loss: 3.8482 - mae: 3.8482\n",
            "Epoch 46/100\n",
            "1/1 [==============================] - 0s 24ms/step - loss: 3.8668 - mae: 3.8668\n",
            "Epoch 47/100\n",
            "1/1 [==============================] - 0s 22ms/step - loss: 3.8550 - mae: 3.8550\n",
            "Epoch 48/100\n",
            "1/1 [==============================] - 0s 25ms/step - loss: 3.8409 - mae: 3.8409\n",
            "Epoch 49/100\n",
            "1/1 [==============================] - 0s 28ms/step - loss: 3.8633 - mae: 3.8633\n",
            "Epoch 50/100\n",
            "1/1 [==============================] - 0s 26ms/step - loss: 3.8232 - mae: 3.8232\n",
            "Epoch 51/100\n",
            "1/1 [==============================] - 0s 20ms/step - loss: 3.8779 - mae: 3.8779\n",
            "Epoch 52/100\n",
            "1/1 [==============================] - 0s 20ms/step - loss: 3.8131 - mae: 3.8131\n",
            "Epoch 53/100\n",
            "1/1 [==============================] - 0s 25ms/step - loss: 3.8675 - mae: 3.8675\n",
            "Epoch 54/100\n",
            "1/1 [==============================] - 0s 21ms/step - loss: 3.8200 - mae: 3.8200\n",
            "Epoch 55/100\n",
            "1/1 [==============================] - 0s 18ms/step - loss: 3.8413 - mae: 3.8413\n",
            "Epoch 56/100\n",
            "1/1 [==============================] - 0s 20ms/step - loss: 3.8271 - mae: 3.8271\n",
            "Epoch 57/100\n",
            "1/1 [==============================] - 0s 20ms/step - loss: 3.8161 - mae: 3.8161\n",
            "Epoch 58/100\n",
            "1/1 [==============================] - 0s 24ms/step - loss: 3.8433 - mae: 3.8433\n",
            "Epoch 59/100\n",
            "1/1 [==============================] - 0s 24ms/step - loss: 3.7971 - mae: 3.7971\n",
            "Epoch 60/100\n",
            "1/1 [==============================] - 0s 19ms/step - loss: 3.8503 - mae: 3.8503\n",
            "Epoch 61/100\n",
            "1/1 [==============================] - 0s 16ms/step - loss: 3.7859 - mae: 3.7859\n",
            "Epoch 62/100\n",
            "1/1 [==============================] - 0s 14ms/step - loss: 3.8410 - mae: 3.8410\n",
            "Epoch 63/100\n",
            "1/1 [==============================] - 0s 17ms/step - loss: 3.7930 - mae: 3.7930\n",
            "Epoch 64/100\n",
            "1/1 [==============================] - 0s 19ms/step - loss: 3.8146 - mae: 3.8146\n",
            "Epoch 65/100\n",
            "1/1 [==============================] - 0s 27ms/step - loss: 3.8005 - mae: 3.8005\n",
            "Epoch 66/100\n",
            "1/1 [==============================] - 0s 20ms/step - loss: 3.7965 - mae: 3.7965\n",
            "Epoch 67/100\n",
            "1/1 [==============================] - 0s 16ms/step - loss: 3.8166 - mae: 3.8166\n",
            "Epoch 68/100\n",
            "1/1 [==============================] - 0s 16ms/step - loss: 3.7697 - mae: 3.7697\n",
            "Epoch 69/100\n",
            "1/1 [==============================] - 0s 20ms/step - loss: 3.8238 - mae: 3.8238\n",
            "Epoch 70/100\n",
            "1/1 [==============================] - 0s 19ms/step - loss: 3.7597 - mae: 3.7597\n",
            "Epoch 71/100\n",
            "1/1 [==============================] - 0s 18ms/step - loss: 3.8133 - mae: 3.8133\n",
            "Epoch 72/100\n",
            "1/1 [==============================] - 0s 33ms/step - loss: 3.7671 - mae: 3.7671\n",
            "Epoch 73/100\n",
            "1/1 [==============================] - 0s 39ms/step - loss: 3.7866 - mae: 3.7866\n",
            "Epoch 74/100\n",
            "1/1 [==============================] - 0s 30ms/step - loss: 3.7827 - mae: 3.7827\n",
            "Epoch 75/100\n",
            "1/1 [==============================] - 0s 25ms/step - loss: 3.7681 - mae: 3.7681\n",
            "Epoch 76/100\n",
            "1/1 [==============================] - 0s 27ms/step - loss: 3.7911 - mae: 3.7911\n",
            "Epoch 77/100\n",
            "1/1 [==============================] - 0s 25ms/step - loss: 3.7409 - mae: 3.7409\n",
            "Epoch 78/100\n",
            "1/1 [==============================] - 0s 22ms/step - loss: 3.7985 - mae: 3.7985\n",
            "Epoch 79/100\n",
            "1/1 [==============================] - 0s 19ms/step - loss: 3.7347 - mae: 3.7347\n",
            "Epoch 80/100\n",
            "1/1 [==============================] - 0s 18ms/step - loss: 3.7841 - mae: 3.7841\n",
            "Epoch 81/100\n",
            "1/1 [==============================] - 0s 21ms/step - loss: 3.7423 - mae: 3.7423\n",
            "Epoch 82/100\n",
            "1/1 [==============================] - 0s 25ms/step - loss: 3.7649 - mae: 3.7649\n",
            "Epoch 83/100\n",
            "1/1 [==============================] - 0s 51ms/step - loss: 3.7589 - mae: 3.7589\n",
            "Epoch 84/100\n",
            "1/1 [==============================] - 0s 26ms/step - loss: 3.7383 - mae: 3.7383\n",
            "Epoch 85/100\n",
            "1/1 [==============================] - 0s 13ms/step - loss: 3.7665 - mae: 3.7665\n",
            "Epoch 86/100\n",
            "1/1 [==============================] - 0s 31ms/step - loss: 3.7108 - mae: 3.7108\n",
            "Epoch 87/100\n",
            "1/1 [==============================] - 0s 21ms/step - loss: 3.7741 - mae: 3.7741\n",
            "Epoch 88/100\n",
            "1/1 [==============================] - 0s 18ms/step - loss: 3.7106 - mae: 3.7106\n",
            "Epoch 89/100\n",
            "1/1 [==============================] - 0s 28ms/step - loss: 3.7538 - mae: 3.7538\n",
            "Epoch 90/100\n",
            "1/1 [==============================] - 0s 18ms/step - loss: 3.7251 - mae: 3.7251\n",
            "Epoch 91/100\n",
            "1/1 [==============================] - 0s 19ms/step - loss: 3.7348 - mae: 3.7348\n",
            "Epoch 92/100\n",
            "1/1 [==============================] - 0s 17ms/step - loss: 3.7351 - mae: 3.7351\n",
            "Epoch 93/100\n",
            "1/1 [==============================] - 0s 19ms/step - loss: 3.7072 - mae: 3.7072\n",
            "Epoch 94/100\n",
            "1/1 [==============================] - 0s 13ms/step - loss: 3.7428 - mae: 3.7428\n",
            "Epoch 95/100\n",
            "1/1 [==============================] - 0s 33ms/step - loss: 3.6798 - mae: 3.6798\n",
            "Epoch 96/100\n",
            "1/1 [==============================] - 0s 22ms/step - loss: 3.7495 - mae: 3.7495\n",
            "Epoch 97/100\n",
            "1/1 [==============================] - 0s 16ms/step - loss: 3.6876 - mae: 3.6876\n",
            "Epoch 98/100\n",
            "1/1 [==============================] - 0s 18ms/step - loss: 3.7282 - mae: 3.7282\n",
            "Epoch 99/100\n",
            "1/1 [==============================] - 0s 21ms/step - loss: 3.7046 - mae: 3.7046\n",
            "Epoch 100/100\n",
            "1/1 [==============================] - 0s 25ms/step - loss: 3.7026 - mae: 3.7026\n"
          ]
        },
        {
          "output_type": "execute_result",
          "data": {
            "text/plain": [
              "<keras.callbacks.History at 0x7da223fbe4a0>"
            ]
          },
          "metadata": {},
          "execution_count": 198
        }
      ]
    },
    {
      "cell_type": "code",
      "source": [
        "#Lets reming ourself of the data\n",
        "X,y"
      ],
      "metadata": {
        "colab": {
          "base_uri": "https://localhost:8080/"
        },
        "id": "__hpt0tkV0X8",
        "outputId": "9ffba554-80ac-4126-bf7a-83d7ed50a123"
      },
      "execution_count": null,
      "outputs": [
        {
          "output_type": "execute_result",
          "data": {
            "text/plain": [
              "(<tf.Tensor: shape=(8, 1), dtype=float32, numpy=\n",
              " array([[-7.],\n",
              "        [-4.],\n",
              "        [-1.],\n",
              "        [ 2.],\n",
              "        [ 5.],\n",
              "        [ 8.],\n",
              "        [11.],\n",
              "        [14.]], dtype=float32)>,\n",
              " <tf.Tensor: shape=(8,), dtype=float32, numpy=array([ 3.,  6.,  9., 12., 15., 18., 21., 24.], dtype=float32)>)"
            ]
          },
          "metadata": {},
          "execution_count": 199
        }
      ]
    },
    {
      "cell_type": "code",
      "source": [
        "model.predict([17.0]) #model is overfitted"
      ],
      "metadata": {
        "colab": {
          "base_uri": "https://localhost:8080/"
        },
        "id": "UGavcRiCmS4y",
        "outputId": "8514d620-c458-4f4e-8c66-4cb3adaa1b02"
      },
      "execution_count": null,
      "outputs": [
        {
          "output_type": "stream",
          "name": "stdout",
          "text": [
            "1/1 [==============================] - 0s 368ms/step\n"
          ]
        },
        {
          "output_type": "execute_result",
          "data": {
            "text/plain": [
              "array([[32.59477]], dtype=float32)"
            ]
          },
          "metadata": {},
          "execution_count": 200
        }
      ]
    },
    {
      "cell_type": "code",
      "source": [],
      "metadata": {
        "id": "oKZV2NLLma6B"
      },
      "execution_count": null,
      "outputs": []
    },
    {
      "cell_type": "markdown",
      "source": [
        "# **Model4**\n",
        "\n",
        "1.   **Lets Decrease the Number of Neurons in the layer**\n",
        "2.   **and and change the Activation Function**\n",
        "3.  **Change the optimization Function**\n",
        "4.   **Learning Rate**\n",
        "\n",
        "\n",
        "\n"
      ],
      "metadata": {
        "id": "M0DNDpS9pLNK"
      }
    },
    {
      "cell_type": "code",
      "source": [],
      "metadata": {
        "id": "7kbOmup9opgH"
      },
      "execution_count": null,
      "outputs": []
    },
    {
      "cell_type": "code",
      "source": [
        "model=tf.keras.Sequential([\n",
        "    tf.keras.layers.Dense(50,activation=None),\n",
        "    tf.keras.layers.Dense(1)\n",
        "])"
      ],
      "metadata": {
        "id": "sksMJ7GArBuU"
      },
      "execution_count": null,
      "outputs": []
    },
    {
      "cell_type": "code",
      "source": [],
      "metadata": {
        "id": "zwI6KbyYrBug"
      },
      "execution_count": null,
      "outputs": []
    },
    {
      "cell_type": "code",
      "source": [
        "model.compile(loss='mae',optimizer=tf.keras.optimizers.Adam(learning_rate=0.01),metrics=['mae'])"
      ],
      "metadata": {
        "id": "rrAXq_eHrBug"
      },
      "execution_count": null,
      "outputs": []
    },
    {
      "cell_type": "code",
      "source": [
        "\n",
        "model.fit(X,y,epochs=100)"
      ],
      "metadata": {
        "colab": {
          "base_uri": "https://localhost:8080/"
        },
        "outputId": "744d8c2a-a978-4afb-a439-ff35fba9e80d",
        "id": "LUi1dCTnrBug"
      },
      "execution_count": null,
      "outputs": [
        {
          "output_type": "stream",
          "name": "stdout",
          "text": [
            "Epoch 1/100\n",
            "1/1 [==============================] - 2s 2s/step - loss: 11.7949 - mae: 11.7949\n",
            "Epoch 2/100\n",
            "1/1 [==============================] - 0s 25ms/step - loss: 11.0623 - mae: 11.0623\n",
            "Epoch 3/100\n",
            "1/1 [==============================] - 0s 47ms/step - loss: 10.3272 - mae: 10.3272\n",
            "Epoch 4/100\n",
            "1/1 [==============================] - 0s 20ms/step - loss: 9.5868 - mae: 9.5868\n",
            "Epoch 5/100\n",
            "1/1 [==============================] - 0s 16ms/step - loss: 8.8387 - mae: 8.8387\n",
            "Epoch 6/100\n",
            "1/1 [==============================] - 0s 18ms/step - loss: 8.0795 - mae: 8.0795\n",
            "Epoch 7/100\n",
            "1/1 [==============================] - 0s 28ms/step - loss: 7.3054 - mae: 7.3054\n",
            "Epoch 8/100\n",
            "1/1 [==============================] - 0s 12ms/step - loss: 6.9673 - mae: 6.9673\n",
            "Epoch 9/100\n",
            "1/1 [==============================] - 0s 27ms/step - loss: 7.2513 - mae: 7.2513\n",
            "Epoch 10/100\n",
            "1/1 [==============================] - 0s 37ms/step - loss: 7.5238 - mae: 7.5238\n",
            "Epoch 11/100\n",
            "1/1 [==============================] - 0s 27ms/step - loss: 7.7464 - mae: 7.7464\n",
            "Epoch 12/100\n",
            "1/1 [==============================] - 0s 24ms/step - loss: 7.7771 - mae: 7.7771\n",
            "Epoch 13/100\n",
            "1/1 [==============================] - 0s 18ms/step - loss: 7.6079 - mae: 7.6079\n",
            "Epoch 14/100\n",
            "1/1 [==============================] - 0s 12ms/step - loss: 7.3224 - mae: 7.3224\n",
            "Epoch 15/100\n",
            "1/1 [==============================] - 0s 22ms/step - loss: 7.0854 - mae: 7.0854\n",
            "Epoch 16/100\n",
            "1/1 [==============================] - 0s 27ms/step - loss: 6.8242 - mae: 6.8242\n",
            "Epoch 17/100\n",
            "1/1 [==============================] - 0s 18ms/step - loss: 6.5443 - mae: 6.5443\n",
            "Epoch 18/100\n",
            "1/1 [==============================] - 0s 16ms/step - loss: 6.3504 - mae: 6.3504\n",
            "Epoch 19/100\n",
            "1/1 [==============================] - 0s 22ms/step - loss: 6.3016 - mae: 6.3016\n",
            "Epoch 20/100\n",
            "1/1 [==============================] - 0s 23ms/step - loss: 6.3236 - mae: 6.3236\n",
            "Epoch 21/100\n",
            "1/1 [==============================] - 0s 15ms/step - loss: 6.3923 - mae: 6.3923\n",
            "Epoch 22/100\n",
            "1/1 [==============================] - 0s 21ms/step - loss: 6.3566 - mae: 6.3566\n",
            "Epoch 23/100\n",
            "1/1 [==============================] - 0s 18ms/step - loss: 6.2302 - mae: 6.2302\n",
            "Epoch 24/100\n",
            "1/1 [==============================] - 0s 31ms/step - loss: 6.0231 - mae: 6.0231\n",
            "Epoch 25/100\n",
            "1/1 [==============================] - 0s 20ms/step - loss: 5.8586 - mae: 5.8586\n",
            "Epoch 26/100\n",
            "1/1 [==============================] - 0s 18ms/step - loss: 5.7618 - mae: 5.7618\n",
            "Epoch 27/100\n",
            "1/1 [==============================] - 0s 16ms/step - loss: 5.6621 - mae: 5.6621\n",
            "Epoch 28/100\n",
            "1/1 [==============================] - 0s 20ms/step - loss: 5.6571 - mae: 5.6571\n",
            "Epoch 29/100\n",
            "1/1 [==============================] - 0s 18ms/step - loss: 5.6396 - mae: 5.6396\n",
            "Epoch 30/100\n",
            "1/1 [==============================] - 0s 15ms/step - loss: 5.5744 - mae: 5.5744\n",
            "Epoch 31/100\n",
            "1/1 [==============================] - 0s 16ms/step - loss: 5.4655 - mae: 5.4655\n",
            "Epoch 32/100\n",
            "1/1 [==============================] - 0s 20ms/step - loss: 5.3167 - mae: 5.3167\n",
            "Epoch 33/100\n",
            "1/1 [==============================] - 0s 18ms/step - loss: 5.1312 - mae: 5.1312\n",
            "Epoch 34/100\n",
            "1/1 [==============================] - 0s 25ms/step - loss: 5.0058 - mae: 5.0058\n",
            "Epoch 35/100\n",
            "1/1 [==============================] - 0s 16ms/step - loss: 4.9126 - mae: 4.9126\n",
            "Epoch 36/100\n",
            "1/1 [==============================] - 0s 19ms/step - loss: 4.8126 - mae: 4.8126\n",
            "Epoch 37/100\n",
            "1/1 [==============================] - 0s 22ms/step - loss: 4.7693 - mae: 4.7693\n",
            "Epoch 38/100\n",
            "1/1 [==============================] - 0s 20ms/step - loss: 4.6520 - mae: 4.6520\n",
            "Epoch 39/100\n",
            "1/1 [==============================] - 0s 20ms/step - loss: 4.4468 - mae: 4.4468\n",
            "Epoch 40/100\n",
            "1/1 [==============================] - 0s 28ms/step - loss: 4.3039 - mae: 4.3039\n",
            "Epoch 41/100\n",
            "1/1 [==============================] - 0s 36ms/step - loss: 4.1546 - mae: 4.1546\n",
            "Epoch 42/100\n",
            "1/1 [==============================] - 0s 18ms/step - loss: 3.9984 - mae: 3.9984\n",
            "Epoch 43/100\n",
            "1/1 [==============================] - 0s 18ms/step - loss: 3.8961 - mae: 3.8961\n",
            "Epoch 44/100\n",
            "1/1 [==============================] - 0s 17ms/step - loss: 3.7660 - mae: 3.7660\n",
            "Epoch 45/100\n",
            "1/1 [==============================] - 0s 15ms/step - loss: 3.5785 - mae: 3.5785\n",
            "Epoch 46/100\n",
            "1/1 [==============================] - 0s 22ms/step - loss: 3.3591 - mae: 3.3591\n",
            "Epoch 47/100\n",
            "1/1 [==============================] - 0s 24ms/step - loss: 3.1921 - mae: 3.1921\n",
            "Epoch 48/100\n",
            "1/1 [==============================] - 0s 12ms/step - loss: 3.0152 - mae: 3.0152\n",
            "Epoch 49/100\n",
            "1/1 [==============================] - 0s 11ms/step - loss: 2.8281 - mae: 2.8281\n",
            "Epoch 50/100\n",
            "1/1 [==============================] - 0s 11ms/step - loss: 2.6642 - mae: 2.6642\n",
            "Epoch 51/100\n",
            "1/1 [==============================] - 0s 13ms/step - loss: 2.4129 - mae: 2.4129\n",
            "Epoch 52/100\n",
            "1/1 [==============================] - 0s 21ms/step - loss: 2.1855 - mae: 2.1855\n",
            "Epoch 53/100\n",
            "1/1 [==============================] - 0s 15ms/step - loss: 2.0091 - mae: 2.0091\n",
            "Epoch 54/100\n",
            "1/1 [==============================] - 0s 16ms/step - loss: 1.7869 - mae: 1.7869\n",
            "Epoch 55/100\n",
            "1/1 [==============================] - 0s 13ms/step - loss: 1.4884 - mae: 1.4884\n",
            "Epoch 56/100\n",
            "1/1 [==============================] - 0s 13ms/step - loss: 1.2906 - mae: 1.2906\n",
            "Epoch 57/100\n",
            "1/1 [==============================] - 0s 16ms/step - loss: 1.0479 - mae: 1.0479\n",
            "Epoch 58/100\n",
            "1/1 [==============================] - 0s 23ms/step - loss: 0.7163 - mae: 0.7163\n",
            "Epoch 59/100\n",
            "1/1 [==============================] - 0s 21ms/step - loss: 0.4812 - mae: 0.4812\n",
            "Epoch 60/100\n",
            "1/1 [==============================] - 0s 15ms/step - loss: 0.2017 - mae: 0.2017\n",
            "Epoch 61/100\n",
            "1/1 [==============================] - 0s 19ms/step - loss: 0.1495 - mae: 0.1495\n",
            "Epoch 62/100\n",
            "1/1 [==============================] - 0s 14ms/step - loss: 0.4723 - mae: 0.4723\n",
            "Epoch 63/100\n",
            "1/1 [==============================] - 0s 15ms/step - loss: 0.5750 - mae: 0.5750\n",
            "Epoch 64/100\n",
            "1/1 [==============================] - 0s 13ms/step - loss: 0.7336 - mae: 0.7336\n",
            "Epoch 65/100\n",
            "1/1 [==============================] - 0s 15ms/step - loss: 0.7884 - mae: 0.7884\n",
            "Epoch 66/100\n",
            "1/1 [==============================] - 0s 16ms/step - loss: 0.7387 - mae: 0.7387\n",
            "Epoch 67/100\n",
            "1/1 [==============================] - 0s 19ms/step - loss: 0.8804 - mae: 0.8804\n",
            "Epoch 68/100\n",
            "1/1 [==============================] - 0s 11ms/step - loss: 0.8020 - mae: 0.8020\n",
            "Epoch 69/100\n",
            "1/1 [==============================] - 0s 18ms/step - loss: 0.5887 - mae: 0.5887\n",
            "Epoch 70/100\n",
            "1/1 [==============================] - 0s 23ms/step - loss: 0.5313 - mae: 0.5313\n",
            "Epoch 71/100\n",
            "1/1 [==============================] - 0s 14ms/step - loss: 0.3887 - mae: 0.3887\n",
            "Epoch 72/100\n",
            "1/1 [==============================] - 0s 15ms/step - loss: 0.2476 - mae: 0.2476\n",
            "Epoch 73/100\n",
            "1/1 [==============================] - 0s 16ms/step - loss: 0.0474 - mae: 0.0474\n",
            "Epoch 74/100\n",
            "1/1 [==============================] - 0s 15ms/step - loss: 0.1846 - mae: 0.1846\n",
            "Epoch 75/100\n",
            "1/1 [==============================] - 0s 22ms/step - loss: 0.2639 - mae: 0.2639\n",
            "Epoch 76/100\n",
            "1/1 [==============================] - 0s 27ms/step - loss: 0.3405 - mae: 0.3405\n",
            "Epoch 77/100\n",
            "1/1 [==============================] - 0s 39ms/step - loss: 0.4197 - mae: 0.4197\n",
            "Epoch 78/100\n",
            "1/1 [==============================] - 0s 20ms/step - loss: 0.3867 - mae: 0.3867\n",
            "Epoch 79/100\n",
            "1/1 [==============================] - 0s 18ms/step - loss: 0.4020 - mae: 0.4020\n",
            "Epoch 80/100\n",
            "1/1 [==============================] - 0s 15ms/step - loss: 0.3450 - mae: 0.3450\n",
            "Epoch 81/100\n",
            "1/1 [==============================] - 0s 17ms/step - loss: 0.2771 - mae: 0.2771\n",
            "Epoch 82/100\n",
            "1/1 [==============================] - 0s 36ms/step - loss: 0.1554 - mae: 0.1554\n",
            "Epoch 83/100\n",
            "1/1 [==============================] - 0s 17ms/step - loss: 0.0643 - mae: 0.0643\n",
            "Epoch 84/100\n",
            "1/1 [==============================] - 0s 22ms/step - loss: 0.1761 - mae: 0.1761\n",
            "Epoch 85/100\n",
            "1/1 [==============================] - 0s 22ms/step - loss: 0.2124 - mae: 0.2124\n",
            "Epoch 86/100\n",
            "1/1 [==============================] - 0s 23ms/step - loss: 0.3812 - mae: 0.3812\n",
            "Epoch 87/100\n",
            "1/1 [==============================] - 0s 15ms/step - loss: 0.3457 - mae: 0.3457\n",
            "Epoch 88/100\n",
            "1/1 [==============================] - 0s 14ms/step - loss: 0.3289 - mae: 0.3289\n",
            "Epoch 89/100\n",
            "1/1 [==============================] - 0s 15ms/step - loss: 0.3305 - mae: 0.3305\n",
            "Epoch 90/100\n",
            "1/1 [==============================] - 0s 16ms/step - loss: 0.1601 - mae: 0.1601\n",
            "Epoch 91/100\n",
            "1/1 [==============================] - 0s 15ms/step - loss: 0.4010 - mae: 0.4010\n",
            "Epoch 92/100\n",
            "1/1 [==============================] - 0s 15ms/step - loss: 0.3549 - mae: 0.3549\n",
            "Epoch 93/100\n",
            "1/1 [==============================] - 0s 13ms/step - loss: 0.0973 - mae: 0.0973\n",
            "Epoch 94/100\n",
            "1/1 [==============================] - 0s 20ms/step - loss: 0.3983 - mae: 0.3983\n",
            "Epoch 95/100\n",
            "1/1 [==============================] - 0s 18ms/step - loss: 0.4144 - mae: 0.4144\n",
            "Epoch 96/100\n",
            "1/1 [==============================] - 0s 21ms/step - loss: 0.1860 - mae: 0.1860\n",
            "Epoch 97/100\n",
            "1/1 [==============================] - 0s 18ms/step - loss: 0.3668 - mae: 0.3668\n",
            "Epoch 98/100\n",
            "1/1 [==============================] - 0s 35ms/step - loss: 0.4076 - mae: 0.4076\n",
            "Epoch 99/100\n",
            "1/1 [==============================] - 0s 17ms/step - loss: 0.1991 - mae: 0.1991\n",
            "Epoch 100/100\n",
            "1/1 [==============================] - 0s 21ms/step - loss: 0.2961 - mae: 0.2961\n"
          ]
        },
        {
          "output_type": "execute_result",
          "data": {
            "text/plain": [
              "<keras.callbacks.History at 0x7da223e83fd0>"
            ]
          },
          "metadata": {},
          "execution_count": 203
        }
      ]
    },
    {
      "cell_type": "code",
      "source": [
        "model.summary()"
      ],
      "metadata": {
        "colab": {
          "base_uri": "https://localhost:8080/"
        },
        "id": "MXFtP4gaQsQY",
        "outputId": "b2637aca-a087-4728-99d6-8cb4c829f257"
      },
      "execution_count": null,
      "outputs": [
        {
          "output_type": "stream",
          "name": "stdout",
          "text": [
            "Model: \"sequential_13\"\n",
            "_________________________________________________________________\n",
            " Layer (type)                Output Shape              Param #   \n",
            "=================================================================\n",
            " dense_18 (Dense)            (None, 50)                100       \n",
            "                                                                 \n",
            " dense_19 (Dense)            (None, 1)                 51        \n",
            "                                                                 \n",
            "=================================================================\n",
            "Total params: 151\n",
            "Trainable params: 151\n",
            "Non-trainable params: 0\n",
            "_________________________________________________________________\n"
          ]
        }
      ]
    },
    {
      "cell_type": "code",
      "source": [
        "model.predict([17.0]) #Now Our Prediction is Perfect"
      ],
      "metadata": {
        "colab": {
          "base_uri": "https://localhost:8080/"
        },
        "id": "pE0kv6KwrQGF",
        "outputId": "0632cfa7-afec-487f-9b57-da31aec31253"
      },
      "execution_count": null,
      "outputs": [
        {
          "output_type": "stream",
          "name": "stdout",
          "text": [
            "1/1 [==============================] - 0s 162ms/step\n"
          ]
        },
        {
          "output_type": "execute_result",
          "data": {
            "text/plain": [
              "array([[28.021164]], dtype=float32)"
            ]
          },
          "metadata": {},
          "execution_count": 205
        }
      ]
    },
    {
      "cell_type": "code",
      "source": [],
      "metadata": {
        "id": "Lti8Js0HwknA"
      },
      "execution_count": null,
      "outputs": []
    },
    {
      "cell_type": "markdown",
      "source": [
        "# **Evaluating The Model**\n",
        "\n",
        "In practice, a typical workflow you will go through when building neural retwork is:\n",
        "*Build a Model->fit it ->evaluate it->tweak a model->fit it-> evaluate it-> tweak a model...*\n",
        "\n",
        "\n",
        "**When comes model trainig**\n",
        "# Experiment Experiment Experiment\n",
        "\n",
        "**When comes to evaluation  there are 3 words you should memorize**\n",
        "# \"Vizualize, Vizualize,Vizualize\"\n",
        "Its good idea to vizualise:\n",
        "\n",
        "\n",
        "* The data-what data are we working with? what does it look like?\n",
        "* The model itself- what does out model look like\n",
        "* The trainning of the model how does model perform when it learns?\n",
        "* The predictions of the model- how do the predictions of a model line up against the ground truth (The original labels?)"
      ],
      "metadata": {
        "id": "KLd8LqvuxtTl"
      }
    },
    {
      "cell_type": "code",
      "source": [
        "# Make a bigger dataset\n",
        "X1=tf.range(-100,100,4)\n",
        "#Make labels for dataset\n",
        "y1=X1+10\n"
      ],
      "metadata": {
        "id": "-LBHf3nhxwJm"
      },
      "execution_count": null,
      "outputs": []
    },
    {
      "cell_type": "code",
      "source": [
        "#Lets Visualize the data\n",
        "import matplotlib.pyplot as plt\n",
        "plt.scatter(X1,y1)"
      ],
      "metadata": {
        "colab": {
          "base_uri": "https://localhost:8080/",
          "height": 447
        },
        "id": "JnbEpQLf1Jpv",
        "outputId": "e39c4435-c33a-4516-947e-638fc2e30035"
      },
      "execution_count": null,
      "outputs": [
        {
          "output_type": "execute_result",
          "data": {
            "text/plain": [
              "<matplotlib.collections.PathCollection at 0x7da223dd1720>"
            ]
          },
          "metadata": {},
          "execution_count": 207
        },
        {
          "output_type": "display_data",
          "data": {
            "text/plain": [
              "<Figure size 640x480 with 1 Axes>"
            ],
            "image/png": "[encoded data removed]"
          },
          "metadata": {}
        }
      ]
    },
    {
      "cell_type": "markdown",
      "source": [
        "### The 3 sets\n",
        "* **Training set-** The model learns from this data, which is typically 70-80 % of the total data you have available\n",
        "* **validataion set**- The model get tuned on this data, which is tipically 10-15 % of the data available\n",
        "* **Test set** - the model get evaluate on this data to test what is has learnd, this set is typically 10-15 % of the total data available\n"
      ],
      "metadata": {
        "id": "XC1gGEIF2wOM"
      }
    },
    {
      "cell_type": "code",
      "source": [
        "len(X1)"
      ],
      "metadata": {
        "colab": {
          "base_uri": "https://localhost:8080/"
        },
        "id": "B4EYg9b31bR3",
        "outputId": "00c11cf5-5dff-4242-a894-3c5ed9dfd5fc"
      },
      "execution_count": null,
      "outputs": [
        {
          "output_type": "execute_result",
          "data": {
            "text/plain": [
              "50"
            ]
          },
          "metadata": {},
          "execution_count": 208
        }
      ]
    },
    {
      "cell_type": "code",
      "source": [
        "#Split the data into train and test dataset\n",
        "X_train=X1[:40] #first 40 are trainning samples (80% of the data)\n",
        "y_train=y1[:40]\n",
        "X_test=X1[40: ] #last 10 are testing samples (20% of the data)\n",
        "y_test=y1[40:]\n",
        "\n",
        "len(X_train),len(X_test)"
      ],
      "metadata": {
        "colab": {
          "base_uri": "https://localhost:8080/"
        },
        "id": "stVN2MoE4z-F",
        "outputId": "6a6b1a57-8559-48be-852d-0a9f4fe4517d"
      },
      "execution_count": null,
      "outputs": [
        {
          "output_type": "execute_result",
          "data": {
            "text/plain": [
              "(40, 10)"
            ]
          },
          "metadata": {},
          "execution_count": 230
        }
      ]
    },
    {
      "cell_type": "code",
      "source": [
        "y_test"
      ],
      "metadata": {
        "colab": {
          "base_uri": "https://localhost:8080/"
        },
        "id": "BMi2UywaRhQC",
        "outputId": "51a0f747-8903-46e4-c210-5ffe2a67ad46"
      },
      "execution_count": null,
      "outputs": [
        {
          "output_type": "execute_result",
          "data": {
            "text/plain": [
              "<tf.Tensor: shape=(10,), dtype=int32, numpy=array([ 70,  74,  78,  82,  86,  90,  94,  98, 102, 106], dtype=int32)>"
            ]
          },
          "metadata": {},
          "execution_count": 231
        }
      ]
    },
    {
      "cell_type": "markdown",
      "source": [
        "# **#Visualize the data**\n",
        "**now we have got our data in training and test sets... let's visualize it.**"
      ],
      "metadata": {
        "id": "sD3pDUd56tQo"
      }
    },
    {
      "cell_type": "code",
      "source": [
        "plt.figure(figsize=(10,7))\n",
        "#plot training data in blue\n",
        "plt.scatter(X_train,y_train,color='b',label='Training Data')\n",
        "#plot test data in green\n",
        "plt.scatter(X_test,y_test,color='g',label='Test Data')\n",
        "plt.legend();"
      ],
      "metadata": {
        "colab": {
          "base_uri": "https://localhost:8080/",
          "height": 467
        },
        "id": "Pvj1wY-d55M8",
        "outputId": "9e3c5f08-c6a0-4ed0-95d1-4b6a58652a20"
      },
      "execution_count": null,
      "outputs": [
        {
          "output_type": "display_data",
          "data": {
            "text/plain": [
              "<Figure size 1000x700 with 1 Axes>"
            ],
            "image/png": "[encoded data removed]"
          },
          "metadata": {}
        }
      ]
    },
    {
      "cell_type": "code",
      "source": [],
      "metadata": {
        "id": "GB0xkDoj6p3E"
      },
      "execution_count": null,
      "outputs": []
    },
    {
      "cell_type": "code",
      "source": [
        "#Create the model\n",
        "model=tf.keras.Sequential([\n",
        "    tf.keras.layers.Dense(50,activation=None),\n",
        "    tf.keras.layers.Dense(1)\n",
        "])\n",
        "\n",
        "#compile the model\n",
        "model.compile(loss='mae',optimizer=tf.keras.optimizers.Adam(learning_rate=0.01),metrics=['mae'])\n",
        "\n",
        "#fit the model\n",
        "#model.fit(X_train,y_train,epochs=100)"
      ],
      "metadata": {
        "id": "39z5xGAl-Ncj"
      },
      "execution_count": null,
      "outputs": []
    },
    {
      "cell_type": "markdown",
      "source": [
        "# **Visualize the model**"
      ],
      "metadata": {
        "id": "M9MR2ceABXBI"
      }
    },
    {
      "cell_type": "code",
      "source": [
        "model.summary()"
      ],
      "metadata": {
        "colab": {
          "base_uri": "https://localhost:8080/",
          "height": 331
        },
        "id": "-02Fb_uW-Nck",
        "outputId": "25ba17b9-fe48-44be-a033-371d85a92588"
      },
      "execution_count": null,
      "outputs": [
        {
          "output_type": "error",
          "ename": "ValueError",
          "evalue": "This model has not yet been built. Build the model first by calling `build()` or by calling the model on a batch of data.",
          "traceback": [
            "\u001b[0;31m---------------------------------------------------------------------------\u001b[0m",
            "\u001b[0;31mValueError\u001b[0m                                Traceback (most recent call last)",
            "\u001b[0;32m<ipython-input-213-5f15418b3570>\u001b[0m in \u001b[0;36m<cell line: 1>\u001b[0;34m()\u001b[0m\n\u001b[0;32m----> 1\u001b[0;31m \u001b[0mmodel\u001b[0m\u001b[0;34m.\u001b[0m\u001b[0msummary\u001b[0m\u001b[0;34m(\u001b[0m\u001b[0;34m)\u001b[0m\u001b[0;34m\u001b[0m\u001b[0;34m\u001b[0m\u001b[0m\n\u001b[0m",
            "\u001b[0;32m/usr/local/lib/python3.10/dist-packages/keras/engine/training.py\u001b[0m in \u001b[0;36msummary\u001b[0;34m(self, line_length, positions, print_fn, expand_nested, show_trainable, layer_range)\u001b[0m\n\u001b[1;32m   3227\u001b[0m         \"\"\"\n\u001b[1;32m   3228\u001b[0m         \u001b[0;32mif\u001b[0m \u001b[0;32mnot\u001b[0m \u001b[0mself\u001b[0m\u001b[0;34m.\u001b[0m\u001b[0mbuilt\u001b[0m\u001b[0;34m:\u001b[0m\u001b[0;34m\u001b[0m\u001b[0;34m\u001b[0m\u001b[0m\n\u001b[0;32m-> 3229\u001b[0;31m             raise ValueError(\n\u001b[0m\u001b[1;32m   3230\u001b[0m                 \u001b[0;34m\"This model has not yet been built. \"\u001b[0m\u001b[0;34m\u001b[0m\u001b[0;34m\u001b[0m\u001b[0m\n\u001b[1;32m   3231\u001b[0m                 \u001b[0;34m\"Build the model first by calling `build()` or by calling \"\u001b[0m\u001b[0;34m\u001b[0m\u001b[0;34m\u001b[0m\u001b[0m\n",
            "\u001b[0;31mValueError\u001b[0m: This model has not yet been built. Build the model first by calling `build()` or by calling the model on a batch of data."
          ]
        }
      ]
    },
    {
      "cell_type": "markdown",
      "source": [
        "#Lets' create a model which builds automatically by defining the input_shape argument in the first layer"
      ],
      "metadata": {
        "id": "sUyJS5WMD46V"
      }
    },
    {
      "cell_type": "code",
      "source": [
        "X1[0].shape"
      ],
      "metadata": {
        "colab": {
          "base_uri": "https://localhost:8080/"
        },
        "id": "c59tCHLRBuQe",
        "outputId": "1dc5dc2d-d28a-4bb5-9aca-2875f24e7463"
      },
      "execution_count": null,
      "outputs": [
        {
          "output_type": "execute_result",
          "data": {
            "text/plain": [
              "TensorShape([])"
            ]
          },
          "metadata": {},
          "execution_count": 233
        }
      ]
    },
    {
      "cell_type": "code",
      "source": [
        "\n",
        "tf.random.set_seed(42)\n",
        "#Create the model\n",
        "\n",
        "model=tf.keras.Sequential([\n",
        "    tf.keras.layers.Dense(1,input_shape=[1])  #input_shape=no of features in your dataset\n",
        "\n",
        "])\n",
        "\n",
        "#compile the model\n",
        "model.compile(loss='mae',optimizer=tf.keras.optimizers.SGD(),metrics=['mae'])\n",
        "\n",
        "#fit the model\n",
        "#model.fit(X_train,y_train,epochs=100)\n"
      ],
      "metadata": {
        "id": "SZaLRrJw-Nck"
      },
      "execution_count": null,
      "outputs": []
    },
    {
      "cell_type": "code",
      "source": [
        "model.summary()    #Dense: Fully connected means"
      ],
      "metadata": {
        "colab": {
          "base_uri": "https://localhost:8080/"
        },
        "outputId": "03bd93b1-ce00-45ef-ba39-1b54c629fe8f",
        "id": "vnxfKeKn-Nck"
      },
      "execution_count": null,
      "outputs": [
        {
          "output_type": "stream",
          "name": "stdout",
          "text": [
            "Model: \"sequential_16\"\n",
            "_________________________________________________________________\n",
            " Layer (type)                Output Shape              Param #   \n",
            "=================================================================\n",
            " dense_23 (Dense)            (None, 1)                 2         \n",
            "                                                                 \n",
            "=================================================================\n",
            "Total params: 2\n",
            "Trainable params: 2\n",
            "Non-trainable params: 0\n",
            "_________________________________________________________________\n"
          ]
        }
      ]
    },
    {
      "cell_type": "markdown",
      "source": [
        "* **Total param:** total number of the  parameters in the model\n",
        "* **Trainable parameters**- thes are the parameters (patterns) the model can update as it trains.\n",
        "* **Non-trainable params** - these parameters aren't updated during training  (This are typical when you bring in already learn patterns or parametes from other model during transfer learning.)\n"
      ],
      "metadata": {
        "id": "4rOi-KgZJTxZ"
      }
    },
    {
      "cell_type": "code",
      "source": [
        "#lets fit our model to training data\n",
        "model.fit(X_train,y_train,epochs=100,verbose=0) #verbose=0 will not print output"
      ],
      "metadata": {
        "colab": {
          "base_uri": "https://localhost:8080/"
        },
        "id": "NIT6VJ1rAZ8r",
        "outputId": "dbce3b84-516c-4f35-bb5a-e21d2940209f"
      },
      "execution_count": null,
      "outputs": [
        {
          "output_type": "execute_result",
          "data": {
            "text/plain": [
              "<keras.callbacks.History at 0x7da223aa3ca0>"
            ]
          },
          "metadata": {},
          "execution_count": 236
        }
      ]
    },
    {
      "cell_type": "code",
      "source": [
        "\n",
        "model.summary()"
      ],
      "metadata": {
        "colab": {
          "base_uri": "https://localhost:8080/"
        },
        "id": "k5eIKIUGM5Iw",
        "outputId": "f3ef4a46-7e31-4bbb-ebe3-b831ff227580"
      },
      "execution_count": null,
      "outputs": [
        {
          "output_type": "stream",
          "name": "stdout",
          "text": [
            "Model: \"sequential_16\"\n",
            "_________________________________________________________________\n",
            " Layer (type)                Output Shape              Param #   \n",
            "=================================================================\n",
            " dense_23 (Dense)            (None, 1)                 2         \n",
            "                                                                 \n",
            "=================================================================\n",
            "Total params: 2\n",
            "Trainable params: 2\n",
            "Non-trainable params: 0\n",
            "_________________________________________________________________\n"
          ]
        }
      ]
    },
    {
      "cell_type": "code",
      "source": [
        "from tensorflow.keras.utils import plot_model\n",
        "plot_model(model,show_shapes=True)"
      ],
      "metadata": {
        "colab": {
          "base_uri": "https://localhost:8080/",
          "height": 201
        },
        "id": "JE4q7YyIwIh4",
        "outputId": "05a03e40-5267-4a93-eaa1-cfb44ee5353d"
      },
      "execution_count": null,
      "outputs": [
        {
          "output_type": "execute_result",
          "data": {
            "image/png": "[encoded data removed]",
            "text/plain": [
              "<IPython.core.display.Image object>"
            ]
          },
          "metadata": {},
          "execution_count": 238
        }
      ]
    },
    {
      "cell_type": "code",
      "source": [
        "tf.random.set_seed(42)\n",
        "model=tf.keras.Sequential([\n",
        "    tf.keras.layers.Dense(3,input_shape=[1],name='Input_Layer'),\n",
        "    tf.keras.layers.Dense(1,name='output_layer')\n",
        "],name='my_model')\n",
        "\n",
        "#compile the model (save the model)\n",
        "model.compile(loss='mae',optimizer='sgd',metrics='mae')\n"
      ],
      "metadata": {
        "id": "s2vBoIgLI0JP"
      },
      "execution_count": null,
      "outputs": []
    },
    {
      "cell_type": "code",
      "source": [
        "model.summary()"
      ],
      "metadata": {
        "colab": {
          "base_uri": "https://localhost:8080/"
        },
        "id": "B0f4bimHL9Xq",
        "outputId": "92f5273f-a69b-40e0-b282-1ebe6d3fdf76"
      },
      "execution_count": null,
      "outputs": [
        {
          "output_type": "stream",
          "name": "stdout",
          "text": [
            "Model: \"my_model\"\n",
            "_________________________________________________________________\n",
            " Layer (type)                Output Shape              Param #   \n",
            "=================================================================\n",
            " Input_Layer (Dense)         (None, 3)                 6         \n",
            "                                                                 \n",
            " output_layer (Dense)        (None, 1)                 4         \n",
            "                                                                 \n",
            "=================================================================\n",
            "Total params: 10\n",
            "Trainable params: 10\n",
            "Non-trainable params: 0\n",
            "_________________________________________________________________\n"
          ]
        }
      ]
    },
    {
      "cell_type": "code",
      "source": [
        "from tensorflow.keras.utils import plot_model\n",
        "plot_model(model,show_shapes=True)"
      ],
      "metadata": {
        "colab": {
          "base_uri": "https://localhost:8080/",
          "height": 312
        },
        "id": "6FNZxPnhMTav",
        "outputId": "fa0770c6-eae4-4565-db96-dde8c5716f5c"
      },
      "execution_count": null,
      "outputs": [
        {
          "output_type": "execute_result",
          "data": {
            "image/png": "[encoded data removed]",
            "text/plain": [
              "<IPython.core.display.Image object>"
            ]
          },
          "metadata": {},
          "execution_count": 244
        }
      ]
    },
    {
      "cell_type": "code",
      "source": [
        "\n"
      ],
      "metadata": {
        "id": "c9wKxdx7TNiG"
      },
      "execution_count": null,
      "outputs": []
    },
    {
      "cell_type": "code",
      "source": [],
      "metadata": {
        "id": "4e8-eaOETeJG"
      },
      "execution_count": null,
      "outputs": []
    },
    {
      "cell_type": "markdown",
      "source": [
        "# Visualizing our model prediction\n",
        "To visualize predictions, it's a good idea to plot them against the gournd truth labels.\n",
        "Often you will see in the form of y_test, y_pred (ground truth vs model prediction)"
      ],
      "metadata": {
        "id": "ldluOFNPNjAi"
      }
    },
    {
      "cell_type": "code",
      "source": [
        "#make some prediction\n",
        "y_pred=model.predict(X_test)\n",
        "y_pred\n",
        "\n"
      ],
      "metadata": {
        "colab": {
          "base_uri": "https://localhost:8080/"
        },
        "id": "Za0nWC0ZM65V",
        "outputId": "031a44b9-48a3-459b-d0c2-c84a56985b24"
      },
      "execution_count": null,
      "outputs": [
        {
          "output_type": "stream",
          "name": "stdout",
          "text": [
            "1/1 [==============================] - 0s 97ms/step\n"
          ]
        },
        {
          "output_type": "execute_result",
          "data": {
            "text/plain": [
              "array([[-2.8779473],\n",
              "       [-3.0698109],\n",
              "       [-3.2616746],\n",
              "       [-3.4535384],\n",
              "       [-3.6454058],\n",
              "       [-3.8372655],\n",
              "       [-4.029129 ],\n",
              "       [-4.2210007],\n",
              "       [-4.4128566],\n",
              "       [-4.60472  ]], dtype=float32)"
            ]
          },
          "metadata": {},
          "execution_count": 245
        }
      ]
    },
    {
      "cell_type": "code",
      "source": [
        "y_test"
      ],
      "metadata": {
        "colab": {
          "base_uri": "https://localhost:8080/"
        },
        "id": "7n2X-_75OKmf",
        "outputId": "fbbedfe1-05a6-48cd-df1c-94a404b8c69d"
      },
      "execution_count": null,
      "outputs": [
        {
          "output_type": "execute_result",
          "data": {
            "text/plain": [
              "<tf.Tensor: shape=(10,), dtype=int32, numpy=array([ 70,  74,  78,  82,  86,  90,  94,  98, 102, 106], dtype=int32)>"
            ]
          },
          "metadata": {},
          "execution_count": 246
        }
      ]
    },
    {
      "cell_type": "code",
      "source": [
        "#Let's create the plotting function\n",
        "def plot_predictions(train_data=X_train,\n",
        "                    train_labels=y_train,\n",
        "                    test_data=X_test,\n",
        "                    test_labels=y_test,\n",
        "                    prediction=y_pred):\n",
        "  plt.figure(figsize=(10,7))\n",
        "  #plot training data in blue\n",
        "  plt.scatter(train_data,train_labels,c='b',label='Training data')\n",
        "  #plot testing data in green\n",
        "  plt.scatter(test_data,test_labels,c='g',label='Testing data')\n",
        "  #plot model's predictions in red\n",
        "  plt.scatter(test_data,prediction,c='r',label='Predictions')\n",
        "  #show the legend\n",
        "  plt.legend();\n",
        "\n"
      ],
      "metadata": {
        "id": "q_sdyPR-OMeL",
        "colab": {
          "base_uri": "https://localhost:8080/",
          "height": 245
        },
        "outputId": "8cee1047-f7ba-40a2-e4d8-dbe779313e36"
      },
      "execution_count": null,
      "outputs": [
        {
          "output_type": "error",
          "ename": "NameError",
          "evalue": "name 'y_pred' is not defined",
          "traceback": [
            "\u001b[0;31m---------------------------------------------------------------------------\u001b[0m",
            "\u001b[0;31mNameError\u001b[0m                                 Traceback (most recent call last)",
            "\u001b[0;32m<ipython-input-33-28b312198707>\u001b[0m in \u001b[0;36m<cell line: 2>\u001b[0;34m()\u001b[0m\n\u001b[1;32m      4\u001b[0m                     \u001b[0mtest_data\u001b[0m\u001b[0;34m=\u001b[0m\u001b[0mX_test\u001b[0m\u001b[0;34m,\u001b[0m\u001b[0;34m\u001b[0m\u001b[0;34m\u001b[0m\u001b[0m\n\u001b[1;32m      5\u001b[0m                     \u001b[0mtest_labels\u001b[0m\u001b[0;34m=\u001b[0m\u001b[0my_test\u001b[0m\u001b[0;34m,\u001b[0m\u001b[0;34m\u001b[0m\u001b[0;34m\u001b[0m\u001b[0m\n\u001b[0;32m----> 6\u001b[0;31m                     prediction=y_pred):\n\u001b[0m\u001b[1;32m      7\u001b[0m   \u001b[0mplt\u001b[0m\u001b[0;34m.\u001b[0m\u001b[0mfigure\u001b[0m\u001b[0;34m(\u001b[0m\u001b[0mfigsize\u001b[0m\u001b[0;34m=\u001b[0m\u001b[0;34m(\u001b[0m\u001b[0;36m10\u001b[0m\u001b[0;34m,\u001b[0m\u001b[0;36m7\u001b[0m\u001b[0;34m)\u001b[0m\u001b[0;34m)\u001b[0m\u001b[0;34m\u001b[0m\u001b[0;34m\u001b[0m\u001b[0m\n\u001b[1;32m      8\u001b[0m   \u001b[0;31m#plot training data in blue\u001b[0m\u001b[0;34m\u001b[0m\u001b[0;34m\u001b[0m\u001b[0m\n",
            "\u001b[0;31mNameError\u001b[0m: name 'y_pred' is not defined"
          ]
        }
      ]
    },
    {
      "cell_type": "code",
      "source": [
        "plot_predictions()"
      ],
      "metadata": {
        "colab": {
          "base_uri": "https://localhost:8080/",
          "height": 467
        },
        "id": "XuO7E2khPUzw",
        "outputId": "f3fe1baf-6e0c-4b67-9b67-332b58ea8fdd"
      },
      "execution_count": null,
      "outputs": [
        {
          "output_type": "display_data",
          "data": {
            "text/plain": [
              "<Figure size 1000x700 with 1 Axes>"
            ],
            "image/png": "[encoded data removed]"
          },
          "metadata": {}
        }
      ]
    },
    {
      "cell_type": "code",
      "source": [
        "#Evaluate the model on test\n",
        "model.evaluate(X_test,y_test)"
      ],
      "metadata": {
        "colab": {
          "base_uri": "https://localhost:8080/"
        },
        "id": "rFq7wd4DQxb3",
        "outputId": "fab886b7-6e16-4da9-b455-d5d2f07c31d0"
      },
      "execution_count": null,
      "outputs": [
        {
          "output_type": "stream",
          "name": "stdout",
          "text": [
            "1/1 [==============================] - 0s 213ms/step - loss: 91.7413 - mae: 91.7413\n"
          ]
        },
        {
          "output_type": "execute_result",
          "data": {
            "text/plain": [
              "[91.7413330078125, 91.7413330078125]"
            ]
          },
          "metadata": {},
          "execution_count": 249
        }
      ]
    },
    {
      "cell_type": "code",
      "source": [
        "#calculate mean absolute error\n",
        "tf.metrics.mean_absolute_error(y_test,y_pred)   #Dimention not matching"
      ],
      "metadata": {
        "colab": {
          "base_uri": "https://localhost:8080/"
        },
        "id": "G6dqsoUoTyQN",
        "outputId": "902628c6-1bee-4b46-9ebc-d0709c9b59bb"
      },
      "execution_count": null,
      "outputs": [
        {
          "output_type": "execute_result",
          "data": {
            "text/plain": [
              "<tf.Tensor: shape=(10,), dtype=float32, numpy=\n",
              "array([90.877945, 91.06981 , 91.26167 , 91.45354 , 91.64541 , 91.837265,\n",
              "       92.02913 , 92.221   , 92.41286 , 92.60472 ], dtype=float32)>"
            ]
          },
          "metadata": {},
          "execution_count": 250
        }
      ]
    },
    {
      "cell_type": "code",
      "source": [
        "tf.constant(y_pred)"
      ],
      "metadata": {
        "colab": {
          "base_uri": "https://localhost:8080/"
        },
        "id": "JCq6l8ZtU4X4",
        "outputId": "3fd0a4f5-59d0-46d7-cc78-dfb63de6deda"
      },
      "execution_count": null,
      "outputs": [
        {
          "output_type": "execute_result",
          "data": {
            "text/plain": [
              "<tf.Tensor: shape=(10, 1), dtype=float32, numpy=\n",
              "array([[56.42109 ],\n",
              "       [60.09912 ],\n",
              "       [63.777153],\n",
              "       [67.455185],\n",
              "       [71.13322 ],\n",
              "       [74.81125 ],\n",
              "       [78.48927 ],\n",
              "       [82.167305],\n",
              "       [85.84534 ],\n",
              "       [89.52337 ]], dtype=float32)>"
            ]
          },
          "metadata": {},
          "execution_count": 229
        }
      ]
    },
    {
      "cell_type": "code",
      "source": [
        "tf.squeeze(y_pred)  #conver to (10,) from (10,1)"
      ],
      "metadata": {
        "colab": {
          "base_uri": "https://localhost:8080/"
        },
        "id": "HxhfbIazVC6d",
        "outputId": "3464f73d-9f73-4ca8-d2ca-dc4cdb55cc1d"
      },
      "execution_count": null,
      "outputs": [
        {
          "output_type": "execute_result",
          "data": {
            "text/plain": [
              "<tf.Tensor: shape=(10,), dtype=float32, numpy=\n",
              "array([56.42109 , 60.09912 , 63.777153, 67.455185, 71.13322 , 74.81125 ,\n",
              "       78.48927 , 82.167305, 85.84534 , 89.52337 ], dtype=float32)>"
            ]
          },
          "metadata": {},
          "execution_count": 135
        }
      ]
    },
    {
      "cell_type": "code",
      "source": [
        "#calculate mean absolute error\n",
        "tf.metrics.mean_absolute_error(y_test,tf.squeeze(y_pred))"
      ],
      "metadata": {
        "colab": {
          "base_uri": "https://localhost:8080/"
        },
        "id": "a8MfvY0uVOss",
        "outputId": "4f78a3e4-4dff-4ec8-88a8-c241c1eab615"
      },
      "execution_count": null,
      "outputs": [
        {
          "output_type": "execute_result",
          "data": {
            "text/plain": [
              "<tf.Tensor: shape=(), dtype=float32, numpy=15.027771>"
            ]
          },
          "metadata": {},
          "execution_count": 136
        }
      ]
    },
    {
      "cell_type": "code",
      "source": [
        "#calculate mean square erroe\n",
        "tf.metrics.mean_squared_error(y_test,tf.squeeze(y_pred))"
      ],
      "metadata": {
        "colab": {
          "base_uri": "https://localhost:8080/"
        },
        "id": "UctqnoIvVfXJ",
        "outputId": "608a5e90-6c86-49cd-de18-1063db6b6e74"
      },
      "execution_count": null,
      "outputs": [
        {
          "output_type": "execute_result",
          "data": {
            "text/plain": [
              "<tf.Tensor: shape=(), dtype=float32, numpy=226.68912>"
            ]
          },
          "metadata": {},
          "execution_count": 137
        }
      ]
    },
    {
      "cell_type": "code",
      "source": [
        "#Let's create the plotting function\n",
        "def mae(y_train,y_pred):\n",
        "  y_pred=tf.squeeze(y_pred)\n",
        "  return(tf.metrics.mean_absolute_error(y_true=y_train,y_pred=y_pred))\n",
        "def mse(y_train,y_pred):\n",
        "  y_pred=tf.squeeze(y_pred)\n",
        "  return(tf.metrics.mean_squared_error(y_true=y_train,y_pred=y_pred))"
      ],
      "metadata": {
        "id": "BTRLqMGsVzz8"
      },
      "execution_count": null,
      "outputs": []
    },
    {
      "cell_type": "markdown",
      "source": [
        "# **Running Experiments to improve our Model**\n",
        "\n",
        "\n",
        "\n",
        "---\n",
        "Build it > fit it > evaluate it> tweak it> fit it > evaluate it> tweak it> fit it> evaluate it....\n",
        "\n",
        "\n",
        "**When comes model trainig**\n",
        "# Experiment Experiment Experiment\n",
        "\n",
        "\n",
        "1.   Get more data\n",
        "2.   Make your model larger (Increase complexity of the model)\n",
        "3. Train for longer (increase epochs)\n",
        "\n",
        "Lets do 3 modelling Experimets.\n",
        "1. 'Model_1'-same as the orignal model, 1 layer, train for 100 ecpochs\n",
        "2. 'Model_2' -2 layers, trian for 100 epochs\n",
        "3. 'Model_3 - 2 layers,train for 500 epochs\n"
      ],
      "metadata": {
        "id": "HFaD0po8Va4u"
      }
    },
    {
      "cell_type": "markdown",
      "source": [
        "# **Build Model1**"
      ],
      "metadata": {
        "id": "_HxtCVi5YrnY"
      }
    },
    {
      "cell_type": "code",
      "source": [
        "#set the random seed\n",
        "tf.random.set_seed(42)\n",
        "\n",
        "\n",
        "#1. Create the model\n",
        "model1=tf.keras.Sequential([\n",
        "    tf.keras.layers.Dense(1,input_shape=[1])\n",
        "])\n",
        "\n",
        "#2. compile the model\n",
        "model1.compile(loss='mae',optimizer='sgd',metrics='mae')\n",
        "\n",
        "#3. fit the model\n",
        "model1.fit(X_train,y_train,epochs=100)\n"
      ],
      "metadata": {
        "colab": {
          "base_uri": "https://localhost:8080/"
        },
        "id": "udvP6annVgDO",
        "outputId": "6f2d3990-ccec-48e5-954f-6f042f9e9a59"
      },
      "execution_count": null,
      "outputs": [
        {
          "output_type": "stream",
          "name": "stdout",
          "text": [
            "Epoch 1/100\n",
            "2/2 [==============================] - 0s 13ms/step - loss: 46.3277 - mae: 46.3277\n",
            "Epoch 2/100\n",
            "2/2 [==============================] - 0s 8ms/step - loss: 15.2914 - mae: 15.2914\n",
            "Epoch 3/100\n",
            "2/2 [==============================] - 0s 10ms/step - loss: 14.5410 - mae: 14.5410\n",
            "Epoch 4/100\n",
            "2/2 [==============================] - 0s 9ms/step - loss: 7.8178 - mae: 7.8178\n",
            "Epoch 5/100\n",
            "2/2 [==============================] - 0s 8ms/step - loss: 9.6921 - mae: 9.6921\n",
            "Epoch 6/100\n",
            "2/2 [==============================] - 0s 8ms/step - loss: 9.0328 - mae: 9.0328\n",
            "Epoch 7/100\n",
            "2/2 [==============================] - 0s 12ms/step - loss: 9.4457 - mae: 9.4457\n",
            "Epoch 8/100\n",
            "2/2 [==============================] - 0s 9ms/step - loss: 9.3057 - mae: 9.3057\n",
            "Epoch 9/100\n",
            "2/2 [==============================] - 0s 8ms/step - loss: 7.5327 - mae: 7.5327\n",
            "Epoch 10/100\n",
            "2/2 [==============================] - 0s 8ms/step - loss: 12.5583 - mae: 12.5583\n",
            "Epoch 11/100\n",
            "2/2 [==============================] - 0s 8ms/step - loss: 10.2962 - mae: 10.2962\n",
            "Epoch 12/100\n",
            "2/2 [==============================] - 0s 8ms/step - loss: 18.5981 - mae: 18.5981\n",
            "Epoch 13/100\n",
            "2/2 [==============================] - 0s 8ms/step - loss: 9.7303 - mae: 9.7303\n",
            "Epoch 14/100\n",
            "2/2 [==============================] - 0s 8ms/step - loss: 15.6589 - mae: 15.6589\n",
            "Epoch 15/100\n",
            "2/2 [==============================] - 0s 8ms/step - loss: 11.2679 - mae: 11.2679\n",
            "Epoch 16/100\n",
            "2/2 [==============================] - 0s 8ms/step - loss: 8.5911 - mae: 8.5911\n",
            "Epoch 17/100\n",
            "2/2 [==============================] - 0s 10ms/step - loss: 13.7448 - mae: 13.7448\n",
            "Epoch 18/100\n",
            "2/2 [==============================] - 0s 9ms/step - loss: 11.5980 - mae: 11.5980\n",
            "Epoch 19/100\n",
            "2/2 [==============================] - 0s 9ms/step - loss: 17.7691 - mae: 17.7691\n",
            "Epoch 20/100\n",
            "2/2 [==============================] - 0s 10ms/step - loss: 14.9048 - mae: 14.9048\n",
            "Epoch 21/100\n",
            "2/2 [==============================] - 0s 10ms/step - loss: 10.8023 - mae: 10.8023\n",
            "Epoch 22/100\n",
            "2/2 [==============================] - 0s 10ms/step - loss: 8.5476 - mae: 8.5476\n",
            "Epoch 23/100\n",
            "2/2 [==============================] - 0s 8ms/step - loss: 9.7634 - mae: 9.7634\n",
            "Epoch 24/100\n",
            "2/2 [==============================] - 0s 8ms/step - loss: 10.9073 - mae: 10.9073\n",
            "Epoch 25/100\n",
            "2/2 [==============================] - 0s 9ms/step - loss: 9.1454 - mae: 9.1454\n",
            "Epoch 26/100\n",
            "2/2 [==============================] - 0s 12ms/step - loss: 13.1406 - mae: 13.1406\n",
            "Epoch 27/100\n",
            "2/2 [==============================] - 0s 10ms/step - loss: 10.4492 - mae: 10.4492\n",
            "Epoch 28/100\n",
            "2/2 [==============================] - 0s 9ms/step - loss: 13.4845 - mae: 13.4845\n",
            "Epoch 29/100\n",
            "2/2 [==============================] - 0s 7ms/step - loss: 10.0086 - mae: 10.0086\n",
            "Epoch 30/100\n",
            "2/2 [==============================] - 0s 8ms/step - loss: 16.0096 - mae: 16.0096\n",
            "Epoch 31/100\n",
            "2/2 [==============================] - 0s 8ms/step - loss: 23.9492 - mae: 23.9492\n",
            "Epoch 32/100\n",
            "2/2 [==============================] - 0s 8ms/step - loss: 8.0176 - mae: 8.0176\n",
            "Epoch 33/100\n",
            "2/2 [==============================] - 0s 9ms/step - loss: 9.7345 - mae: 9.7345\n",
            "Epoch 34/100\n",
            "2/2 [==============================] - 0s 9ms/step - loss: 12.0974 - mae: 12.0974\n",
            "Epoch 35/100\n",
            "2/2 [==============================] - 0s 10ms/step - loss: 11.5418 - mae: 11.5418\n",
            "Epoch 36/100\n",
            "2/2 [==============================] - 0s 9ms/step - loss: 12.7304 - mae: 12.7304\n",
            "Epoch 37/100\n",
            "2/2 [==============================] - 0s 8ms/step - loss: 9.4879 - mae: 9.4879\n",
            "Epoch 38/100\n",
            "2/2 [==============================] - 0s 10ms/step - loss: 10.1534 - mae: 10.1534\n",
            "Epoch 39/100\n",
            "2/2 [==============================] - 0s 9ms/step - loss: 10.1726 - mae: 10.1726\n",
            "Epoch 40/100\n",
            "2/2 [==============================] - 0s 9ms/step - loss: 10.9028 - mae: 10.9028\n",
            "Epoch 41/100\n",
            "2/2 [==============================] - 0s 10ms/step - loss: 7.8989 - mae: 7.8989\n",
            "Epoch 42/100\n",
            "2/2 [==============================] - 0s 9ms/step - loss: 10.1048 - mae: 10.1048\n",
            "Epoch 43/100\n",
            "2/2 [==============================] - 0s 9ms/step - loss: 8.7084 - mae: 8.7084\n",
            "Epoch 44/100\n",
            "2/2 [==============================] - 0s 12ms/step - loss: 12.2254 - mae: 12.2254\n",
            "Epoch 45/100\n",
            "2/2 [==============================] - 0s 9ms/step - loss: 13.7827 - mae: 13.7827\n",
            "Epoch 46/100\n",
            "2/2 [==============================] - 0s 9ms/step - loss: 8.4607 - mae: 8.4607\n",
            "Epoch 47/100\n",
            "2/2 [==============================] - 0s 9ms/step - loss: 9.1449 - mae: 9.1449\n",
            "Epoch 48/100\n",
            "2/2 [==============================] - 0s 9ms/step - loss: 10.6350 - mae: 10.6350\n",
            "Epoch 49/100\n",
            "2/2 [==============================] - 0s 9ms/step - loss: 7.7610 - mae: 7.7610\n",
            "Epoch 50/100\n",
            "2/2 [==============================] - 0s 9ms/step - loss: 9.5555 - mae: 9.5555\n",
            "Epoch 51/100\n",
            "2/2 [==============================] - 0s 9ms/step - loss: 9.1647 - mae: 9.1647\n",
            "Epoch 52/100\n",
            "2/2 [==============================] - 0s 10ms/step - loss: 16.3881 - mae: 16.3881\n",
            "Epoch 53/100\n",
            "2/2 [==============================] - 0s 9ms/step - loss: 14.1223 - mae: 14.1223\n",
            "Epoch 54/100\n",
            "2/2 [==============================] - 0s 9ms/step - loss: 21.1002 - mae: 21.1002\n",
            "Epoch 55/100\n",
            "2/2 [==============================] - 0s 9ms/step - loss: 16.4197 - mae: 16.4197\n",
            "Epoch 56/100\n",
            "2/2 [==============================] - 0s 9ms/step - loss: 9.9227 - mae: 9.9227\n",
            "Epoch 57/100\n",
            "2/2 [==============================] - 0s 9ms/step - loss: 9.6274 - mae: 9.6274\n",
            "Epoch 58/100\n",
            "2/2 [==============================] - 0s 12ms/step - loss: 8.9577 - mae: 8.9577\n",
            "Epoch 59/100\n",
            "2/2 [==============================] - 0s 9ms/step - loss: 10.1480 - mae: 10.1480\n",
            "Epoch 60/100\n",
            "2/2 [==============================] - 0s 9ms/step - loss: 8.4500 - mae: 8.4500\n",
            "Epoch 61/100\n",
            "2/2 [==============================] - 0s 10ms/step - loss: 9.3018 - mae: 9.3018\n",
            "Epoch 62/100\n",
            "2/2 [==============================] - 0s 10ms/step - loss: 7.0772 - mae: 7.0772\n",
            "Epoch 63/100\n",
            "2/2 [==============================] - 0s 9ms/step - loss: 8.6331 - mae: 8.6331\n",
            "Epoch 64/100\n",
            "2/2 [==============================] - 0s 9ms/step - loss: 9.2120 - mae: 9.2120\n",
            "Epoch 65/100\n",
            "2/2 [==============================] - 0s 9ms/step - loss: 10.4514 - mae: 10.4514\n",
            "Epoch 66/100\n",
            "2/2 [==============================] - 0s 9ms/step - loss: 15.6914 - mae: 15.6914\n",
            "Epoch 67/100\n",
            "2/2 [==============================] - 0s 11ms/step - loss: 10.0748 - mae: 10.0748\n",
            "Epoch 68/100\n",
            "2/2 [==============================] - 0s 9ms/step - loss: 9.0384 - mae: 9.0384\n",
            "Epoch 69/100\n",
            "2/2 [==============================] - 0s 9ms/step - loss: 12.5627 - mae: 12.5627\n",
            "Epoch 70/100\n",
            "2/2 [==============================] - 0s 12ms/step - loss: 8.9624 - mae: 8.9624\n",
            "Epoch 71/100\n",
            "2/2 [==============================] - 0s 9ms/step - loss: 9.9375 - mae: 9.9375\n",
            "Epoch 72/100\n",
            "2/2 [==============================] - 0s 9ms/step - loss: 9.9762 - mae: 9.9762\n",
            "Epoch 73/100\n",
            "2/2 [==============================] - 0s 7ms/step - loss: 12.4441 - mae: 12.4441\n",
            "Epoch 74/100\n",
            "2/2 [==============================] - 0s 7ms/step - loss: 10.5771 - mae: 10.5771\n",
            "Epoch 75/100\n",
            "2/2 [==============================] - 0s 6ms/step - loss: 9.6351 - mae: 9.6351\n",
            "Epoch 76/100\n",
            "2/2 [==============================] - 0s 6ms/step - loss: 11.1013 - mae: 11.1013\n",
            "Epoch 77/100\n",
            "2/2 [==============================] - 0s 7ms/step - loss: 8.2833 - mae: 8.2833\n",
            "Epoch 78/100\n",
            "2/2 [==============================] - 0s 7ms/step - loss: 8.9744 - mae: 8.9744\n",
            "Epoch 79/100\n",
            "2/2 [==============================] - 0s 8ms/step - loss: 19.7886 - mae: 19.7886\n",
            "Epoch 80/100\n",
            "2/2 [==============================] - 0s 8ms/step - loss: 17.8217 - mae: 17.8217\n",
            "Epoch 81/100\n",
            "2/2 [==============================] - 0s 9ms/step - loss: 7.0828 - mae: 7.0828\n",
            "Epoch 82/100\n",
            "2/2 [==============================] - 0s 9ms/step - loss: 10.4129 - mae: 10.4129\n",
            "Epoch 83/100\n",
            "2/2 [==============================] - 0s 8ms/step - loss: 9.8366 - mae: 9.8366\n",
            "Epoch 84/100\n",
            "2/2 [==============================] - 0s 8ms/step - loss: 7.9408 - mae: 7.9408\n",
            "Epoch 85/100\n",
            "2/2 [==============================] - 0s 8ms/step - loss: 9.4493 - mae: 9.4493\n",
            "Epoch 86/100\n",
            "2/2 [==============================] - 0s 8ms/step - loss: 9.4939 - mae: 9.4939\n",
            "Epoch 87/100\n",
            "2/2 [==============================] - 0s 7ms/step - loss: 11.4372 - mae: 11.4372\n",
            "Epoch 88/100\n",
            "2/2 [==============================] - 0s 9ms/step - loss: 9.9364 - mae: 9.9364\n",
            "Epoch 89/100\n",
            "2/2 [==============================] - 0s 8ms/step - loss: 7.2565 - mae: 7.2565\n",
            "Epoch 90/100\n",
            "2/2 [==============================] - 0s 12ms/step - loss: 12.6955 - mae: 12.6955\n",
            "Epoch 91/100\n",
            "2/2 [==============================] - 0s 10ms/step - loss: 7.3149 - mae: 7.3149\n",
            "Epoch 92/100\n",
            "2/2 [==============================] - 0s 9ms/step - loss: 7.6782 - mae: 7.6782\n",
            "Epoch 93/100\n",
            "2/2 [==============================] - 0s 11ms/step - loss: 7.1227 - mae: 7.1227\n",
            "Epoch 94/100\n",
            "2/2 [==============================] - 0s 16ms/step - loss: 12.5437 - mae: 12.5437\n",
            "Epoch 95/100\n",
            "2/2 [==============================] - 0s 13ms/step - loss: 9.9201 - mae: 9.9201\n",
            "Epoch 96/100\n",
            "2/2 [==============================] - 0s 14ms/step - loss: 9.1464 - mae: 9.1464\n",
            "Epoch 97/100\n",
            "2/2 [==============================] - 0s 10ms/step - loss: 12.0942 - mae: 12.0942\n",
            "Epoch 98/100\n",
            "2/2 [==============================] - 0s 9ms/step - loss: 9.0659 - mae: 9.0659\n",
            "Epoch 99/100\n",
            "2/2 [==============================] - 0s 9ms/step - loss: 8.5030 - mae: 8.5030\n",
            "Epoch 100/100\n",
            "2/2 [==============================] - 0s 13ms/step - loss: 14.4696 - mae: 14.4696\n"
          ]
        },
        {
          "output_type": "execute_result",
          "data": {
            "text/plain": [
              "<keras.callbacks.History at 0x7da21f9a57b0>"
            ]
          },
          "metadata": {},
          "execution_count": 306
        }
      ]
    },
    {
      "cell_type": "code",
      "source": [
        "#make and plot prediction for model_1\n",
        "y_preds1=model1.predict(X_test)\n",
        "plot_predictions(prediction=y_preds1)    #we already create the plotting function"
      ],
      "metadata": {
        "colab": {
          "base_uri": "https://localhost:8080/",
          "height": 485
        },
        "id": "YMuk0KlYZu7q",
        "outputId": "cb29211b-2846-4f5b-9224-aad871878747"
      },
      "execution_count": null,
      "outputs": [
        {
          "output_type": "stream",
          "name": "stdout",
          "text": [
            "1/1 [==============================] - 0s 81ms/step\n"
          ]
        },
        {
          "output_type": "display_data",
          "data": {
            "text/plain": [
              "<Figure size 1000x700 with 1 Axes>"
            ],
            "image/png": "[encoded data removed]"
          },
          "metadata": {}
        }
      ]
    },
    {
      "cell_type": "code",
      "source": [
        "y_preds1=model1.predict(X_test);y_preds1\n",
        "y_preds1=tf.squeeze(y_preds1,1);y_preds1"
      ],
      "metadata": {
        "colab": {
          "base_uri": "https://localhost:8080/"
        },
        "id": "uRlk3e-gcriI",
        "outputId": "78951678-06c8-496b-9ae3-7f51b1600000"
      },
      "execution_count": null,
      "outputs": [
        {
          "output_type": "stream",
          "name": "stdout",
          "text": [
            "1/1 [==============================] - 0s 39ms/step\n"
          ]
        },
        {
          "output_type": "execute_result",
          "data": {
            "text/plain": [
              "<tf.Tensor: shape=(10,), dtype=float32, numpy=\n",
              "array([44.456085, 47.333614, 50.211143, 53.088676, 55.966206, 58.84374 ,\n",
              "       61.721268, 64.59879 , 67.476326, 70.35385 ], dtype=float32)>"
            ]
          },
          "metadata": {},
          "execution_count": 308
        }
      ]
    },
    {
      "cell_type": "code",
      "source": [
        "y_test"
      ],
      "metadata": {
        "colab": {
          "base_uri": "https://localhost:8080/"
        },
        "id": "NO8MVG5VdGNr",
        "outputId": "5b778f3b-483a-45aa-b608-f2584757a28c"
      },
      "execution_count": null,
      "outputs": [
        {
          "output_type": "execute_result",
          "data": {
            "text/plain": [
              "<tf.Tensor: shape=(10,), dtype=int32, numpy=array([ 70,  74,  78,  82,  86,  90,  94,  98, 102, 106], dtype=int32)>"
            ]
          },
          "metadata": {},
          "execution_count": 309
        }
      ]
    },
    {
      "cell_type": "code",
      "source": [
        "#calculate model_1 Evaluation metrics\n",
        "mae_1=mae(y_test,y_preds1)\n",
        "mse_1=mse(y_test,y_preds1)\n",
        "mae_1,mse_1"
      ],
      "metadata": {
        "colab": {
          "base_uri": "https://localhost:8080/"
        },
        "id": "K4X-uSbVaWiy",
        "outputId": "623a45c1-769f-42c7-c887-a2837b5c82f0"
      },
      "execution_count": null,
      "outputs": [
        {
          "output_type": "execute_result",
          "data": {
            "text/plain": [
              "(<tf.Tensor: shape=(), dtype=float32, numpy=30.595028>,\n",
              " <tf.Tensor: shape=(), dtype=float32, numpy=946.4503>)"
            ]
          },
          "metadata": {},
          "execution_count": 310
        }
      ]
    },
    {
      "cell_type": "code",
      "source": [],
      "metadata": {
        "id": "A94bVaj2ayFB"
      },
      "execution_count": null,
      "outputs": []
    },
    {
      "cell_type": "markdown",
      "source": [
        "# **Build Model2**"
      ],
      "metadata": {
        "id": "y1ZhjxJkxBYs"
      }
    },
    {
      "cell_type": "code",
      "source": [
        "#Set the random seed\n",
        "tf.random.set_seed(42)\n",
        "\n",
        "#1. Create the model\n",
        "model2=tf.keras.Sequential([\n",
        "    tf.keras.layers.Dense(10,input_shape=[1]),\n",
        "    tf.keras.layers.Dense(1)\n",
        "\n",
        "])\n",
        "\n",
        "#2. Compile the model\n",
        "model2.compile(loss='mae',optimizer='sgd',metrics=['mse'])\n",
        "\n",
        "#3. fit the model\n",
        "model2.fit(X_train,y_train,epochs=100)"
      ],
      "metadata": {
        "colab": {
          "base_uri": "https://localhost:8080/"
        },
        "id": "Z4QdazWFxChe",
        "outputId": "5965b406-d306-4b08-8eda-af9aff2fe746"
      },
      "execution_count": null,
      "outputs": [
        {
          "output_type": "stream",
          "name": "stdout",
          "text": [
            "Epoch 1/100\n",
            "2/2 [==============================] - 1s 26ms/step - loss: 23.4733 - mse: 870.5861\n",
            "Epoch 2/100\n",
            "2/2 [==============================] - 0s 10ms/step - loss: 22.9994 - mse: 683.1337\n",
            "Epoch 3/100\n",
            "2/2 [==============================] - 0s 10ms/step - loss: 28.1834 - mse: 1185.8781\n",
            "Epoch 4/100\n",
            "2/2 [==============================] - 0s 12ms/step - loss: 27.8925 - mse: 1152.6670\n",
            "Epoch 5/100\n",
            "2/2 [==============================] - 0s 12ms/step - loss: 13.6026 - mse: 225.2310\n",
            "Epoch 6/100\n",
            "2/2 [==============================] - 0s 11ms/step - loss: 10.9432 - mse: 131.8854\n",
            "Epoch 7/100\n",
            "2/2 [==============================] - 0s 10ms/step - loss: 11.9236 - mse: 177.2061\n",
            "Epoch 8/100\n",
            "2/2 [==============================] - 0s 12ms/step - loss: 10.8234 - mse: 130.0415\n",
            "Epoch 9/100\n",
            "2/2 [==============================] - 0s 12ms/step - loss: 37.0436 - mse: 2104.4910\n",
            "Epoch 10/100\n",
            "2/2 [==============================] - 0s 12ms/step - loss: 24.7804 - mse: 860.4821\n",
            "Epoch 11/100\n",
            "2/2 [==============================] - 0s 9ms/step - loss: 11.0348 - mse: 180.1629\n",
            "Epoch 12/100\n",
            "2/2 [==============================] - 0s 10ms/step - loss: 24.4534 - mse: 839.2518\n",
            "Epoch 13/100\n",
            "2/2 [==============================] - 0s 8ms/step - loss: 19.1925 - mse: 517.7670\n",
            "Epoch 14/100\n",
            "2/2 [==============================] - 0s 9ms/step - loss: 23.3871 - mse: 837.3876\n",
            "Epoch 15/100\n",
            "2/2 [==============================] - 0s 13ms/step - loss: 15.2126 - mse: 311.4883\n",
            "Epoch 16/100\n",
            "2/2 [==============================] - 0s 11ms/step - loss: 11.3357 - mse: 148.8557\n",
            "Epoch 17/100\n",
            "2/2 [==============================] - 0s 9ms/step - loss: 23.1195 - mse: 747.6495\n",
            "Epoch 18/100\n",
            "2/2 [==============================] - 0s 8ms/step - loss: 11.7484 - mse: 210.8121\n",
            "Epoch 19/100\n",
            "2/2 [==============================] - 0s 9ms/step - loss: 16.4052 - mse: 431.7766\n",
            "Epoch 20/100\n",
            "2/2 [==============================] - 0s 12ms/step - loss: 8.2485 - mse: 93.4225\n",
            "Epoch 21/100\n",
            "2/2 [==============================] - 0s 12ms/step - loss: 14.4519 - mse: 289.3905\n",
            "Epoch 22/100\n",
            "2/2 [==============================] - 0s 18ms/step - loss: 12.8703 - mse: 246.5487\n",
            "Epoch 23/100\n",
            "2/2 [==============================] - 0s 9ms/step - loss: 15.5040 - mse: 315.5202\n",
            "Epoch 24/100\n",
            "2/2 [==============================] - 0s 9ms/step - loss: 15.2956 - mse: 316.8130\n",
            "Epoch 25/100\n",
            "2/2 [==============================] - 0s 12ms/step - loss: 14.3593 - mse: 273.0343\n",
            "Epoch 26/100\n",
            "2/2 [==============================] - 0s 10ms/step - loss: 19.3826 - mse: 570.0192\n",
            "Epoch 27/100\n",
            "2/2 [==============================] - 0s 10ms/step - loss: 11.4346 - mse: 167.4869\n",
            "Epoch 28/100\n",
            "2/2 [==============================] - 0s 11ms/step - loss: 28.9723 - mse: 1363.8308\n",
            "Epoch 29/100\n",
            "2/2 [==============================] - 0s 9ms/step - loss: 9.2517 - mse: 94.8659\n",
            "Epoch 30/100\n",
            "2/2 [==============================] - 0s 8ms/step - loss: 29.7320 - mse: 1598.2332\n",
            "Epoch 31/100\n",
            "2/2 [==============================] - 0s 8ms/step - loss: 53.9351 - mse: 5210.6807\n",
            "Epoch 32/100\n",
            "2/2 [==============================] - 0s 9ms/step - loss: 9.5462 - mse: 100.9544\n",
            "Epoch 33/100\n",
            "2/2 [==============================] - 0s 8ms/step - loss: 12.1335 - mse: 179.1288\n",
            "Epoch 34/100\n",
            "2/2 [==============================] - 0s 11ms/step - loss: 23.7693 - mse: 855.5248\n",
            "Epoch 35/100\n",
            "2/2 [==============================] - 0s 11ms/step - loss: 12.6429 - mse: 241.8530\n",
            "Epoch 36/100\n",
            "2/2 [==============================] - 0s 10ms/step - loss: 21.5824 - mse: 664.3088\n",
            "Epoch 37/100\n",
            "2/2 [==============================] - 0s 10ms/step - loss: 11.3356 - mse: 149.1178\n",
            "Epoch 38/100\n",
            "2/2 [==============================] - 0s 8ms/step - loss: 13.3877 - mse: 265.3268\n",
            "Epoch 39/100\n",
            "2/2 [==============================] - 0s 10ms/step - loss: 10.7527 - mse: 137.2699\n",
            "Epoch 40/100\n",
            "2/2 [==============================] - 0s 11ms/step - loss: 16.4824 - mse: 394.5804\n",
            "Epoch 41/100\n",
            "2/2 [==============================] - 0s 11ms/step - loss: 10.9152 - mse: 180.0835\n",
            "Epoch 42/100\n",
            "2/2 [==============================] - 0s 11ms/step - loss: 9.2556 - mse: 115.6803\n",
            "Epoch 43/100\n",
            "2/2 [==============================] - 0s 8ms/step - loss: 9.5796 - mse: 111.7410\n",
            "Epoch 44/100\n",
            "2/2 [==============================] - 0s 8ms/step - loss: 27.8048 - mse: 1238.6052\n",
            "Epoch 45/100\n",
            "2/2 [==============================] - 0s 8ms/step - loss: 11.2349 - mse: 145.4088\n",
            "Epoch 46/100\n",
            "2/2 [==============================] - 0s 9ms/step - loss: 13.7933 - mse: 277.7278\n",
            "Epoch 47/100\n",
            "2/2 [==============================] - 0s 9ms/step - loss: 11.9456 - mse: 212.2817\n",
            "Epoch 48/100\n",
            "2/2 [==============================] - 0s 11ms/step - loss: 16.9962 - mse: 391.2455\n",
            "Epoch 49/100\n",
            "2/2 [==============================] - 0s 14ms/step - loss: 9.7476 - mse: 104.1394\n",
            "Epoch 50/100\n",
            "2/2 [==============================] - 0s 11ms/step - loss: 14.1174 - mse: 277.6602\n",
            "Epoch 51/100\n",
            "2/2 [==============================] - 0s 8ms/step - loss: 11.7177 - mse: 160.2076\n",
            "Epoch 52/100\n",
            "2/2 [==============================] - 0s 9ms/step - loss: 31.2507 - mse: 1695.4408\n",
            "Epoch 53/100\n",
            "2/2 [==============================] - 0s 7ms/step - loss: 14.6660 - mse: 318.0627\n",
            "Epoch 54/100\n",
            "2/2 [==============================] - 0s 9ms/step - loss: 24.5097 - mse: 903.0468\n",
            "Epoch 55/100\n",
            "2/2 [==============================] - 0s 10ms/step - loss: 23.7833 - mse: 849.8490\n",
            "Epoch 56/100\n",
            "2/2 [==============================] - 0s 8ms/step - loss: 11.0847 - mse: 171.0603\n",
            "Epoch 57/100\n",
            "2/2 [==============================] - 0s 10ms/step - loss: 13.0091 - mse: 209.2599\n",
            "Epoch 58/100\n",
            "2/2 [==============================] - 0s 10ms/step - loss: 9.7515 - mse: 105.0575\n",
            "Epoch 59/100\n",
            "2/2 [==============================] - 0s 9ms/step - loss: 13.1795 - mse: 242.1853\n",
            "Epoch 60/100\n",
            "2/2 [==============================] - 0s 6ms/step - loss: 10.7984 - mse: 136.6883\n",
            "Epoch 61/100\n",
            "2/2 [==============================] - 0s 6ms/step - loss: 13.3638 - mse: 235.4736\n",
            "Epoch 62/100\n",
            "2/2 [==============================] - 0s 8ms/step - loss: 17.2843 - mse: 455.3152\n",
            "Epoch 63/100\n",
            "2/2 [==============================] - 0s 8ms/step - loss: 9.1148 - mse: 87.6441\n",
            "Epoch 64/100\n",
            "2/2 [==============================] - 0s 8ms/step - loss: 17.9089 - mse: 465.1911\n",
            "Epoch 65/100\n",
            "2/2 [==============================] - 0s 8ms/step - loss: 10.5965 - mse: 137.2609\n",
            "Epoch 66/100\n",
            "2/2 [==============================] - 0s 8ms/step - loss: 21.4174 - mse: 678.1373\n",
            "Epoch 67/100\n",
            "2/2 [==============================] - 0s 8ms/step - loss: 10.6030 - mse: 131.6824\n",
            "Epoch 68/100\n",
            "2/2 [==============================] - 0s 8ms/step - loss: 14.8141 - mse: 333.4249\n",
            "Epoch 69/100\n",
            "2/2 [==============================] - 0s 8ms/step - loss: 10.7437 - mse: 133.3835\n",
            "Epoch 70/100\n",
            "2/2 [==============================] - 0s 7ms/step - loss: 12.8413 - mse: 210.0872\n",
            "Epoch 71/100\n",
            "2/2 [==============================] - 0s 8ms/step - loss: 13.2621 - mse: 239.3867\n",
            "Epoch 72/100\n",
            "2/2 [==============================] - 0s 8ms/step - loss: 20.0748 - mse: 573.4125\n",
            "Epoch 73/100\n",
            "2/2 [==============================] - 0s 8ms/step - loss: 9.7256 - mse: 150.3427\n",
            "Epoch 74/100\n",
            "2/2 [==============================] - 0s 7ms/step - loss: 27.3626 - mse: 1191.3955\n",
            "Epoch 75/100\n",
            "2/2 [==============================] - 0s 8ms/step - loss: 9.9947 - mse: 145.9788\n",
            "Epoch 76/100\n",
            "2/2 [==============================] - 0s 7ms/step - loss: 12.9095 - mse: 207.3911\n",
            "Epoch 77/100\n",
            "2/2 [==============================] - 0s 7ms/step - loss: 17.8767 - mse: 497.9688\n",
            "Epoch 78/100\n",
            "2/2 [==============================] - 0s 8ms/step - loss: 8.9523 - mse: 87.5914\n",
            "Epoch 79/100\n",
            "2/2 [==============================] - 0s 8ms/step - loss: 28.7075 - mse: 1301.2057\n",
            "Epoch 80/100\n",
            "2/2 [==============================] - 0s 8ms/step - loss: 31.0420 - mse: 1529.9092\n",
            "Epoch 81/100\n",
            "2/2 [==============================] - 0s 8ms/step - loss: 13.4001 - mse: 251.2443\n",
            "Epoch 82/100\n",
            "2/2 [==============================] - 0s 8ms/step - loss: 14.5152 - mse: 290.6703\n",
            "Epoch 83/100\n",
            "2/2 [==============================] - 0s 10ms/step - loss: 18.5313 - mse: 453.2153\n",
            "Epoch 84/100\n",
            "2/2 [==============================] - 0s 9ms/step - loss: 8.8056 - mse: 127.8578\n",
            "Epoch 85/100\n",
            "2/2 [==============================] - 0s 8ms/step - loss: 18.4051 - mse: 530.4135\n",
            "Epoch 86/100\n",
            "2/2 [==============================] - 0s 8ms/step - loss: 22.5740 - mse: 728.6346\n",
            "Epoch 87/100\n",
            "2/2 [==============================] - 0s 8ms/step - loss: 11.3634 - mse: 153.7334\n",
            "Epoch 88/100\n",
            "2/2 [==============================] - 0s 8ms/step - loss: 26.6019 - mse: 1010.7725\n",
            "Epoch 89/100\n",
            "2/2 [==============================] - 0s 11ms/step - loss: 9.6492 - mse: 129.5471\n",
            "Epoch 90/100\n",
            "2/2 [==============================] - 0s 10ms/step - loss: 18.7486 - mse: 503.9533\n",
            "Epoch 91/100\n",
            "2/2 [==============================] - 0s 9ms/step - loss: 10.4854 - mse: 164.3627\n",
            "Epoch 92/100\n",
            "2/2 [==============================] - 0s 9ms/step - loss: 17.9765 - mse: 442.0283\n",
            "Epoch 93/100\n",
            "2/2 [==============================] - 0s 9ms/step - loss: 6.5772 - mse: 61.8616\n",
            "Epoch 94/100\n",
            "2/2 [==============================] - 0s 11ms/step - loss: 11.1346 - mse: 152.7820\n",
            "Epoch 95/100\n",
            "2/2 [==============================] - 0s 15ms/step - loss: 24.3288 - mse: 887.7827\n",
            "Epoch 96/100\n",
            "2/2 [==============================] - 0s 8ms/step - loss: 10.7386 - mse: 173.1517\n",
            "Epoch 97/100\n",
            "2/2 [==============================] - 0s 10ms/step - loss: 15.3320 - mse: 356.0208\n",
            "Epoch 98/100\n",
            "2/2 [==============================] - 0s 9ms/step - loss: 8.2552 - mse: 111.7771\n",
            "Epoch 99/100\n",
            "2/2 [==============================] - 0s 9ms/step - loss: 16.4937 - mse: 382.1203\n",
            "Epoch 100/100\n",
            "2/2 [==============================] - 0s 10ms/step - loss: 14.2845 - mse: 294.3695\n"
          ]
        },
        {
          "output_type": "execute_result",
          "data": {
            "text/plain": [
              "<keras.callbacks.History at 0x7da21f8b7b20>"
            ]
          },
          "metadata": {},
          "execution_count": 311
        }
      ]
    },
    {
      "cell_type": "code",
      "source": [
        "#make plot prediction model2\n",
        "ypred2=model2.predict(X_test)\n",
        "plot_predictions(prediction=ypred2)"
      ],
      "metadata": {
        "colab": {
          "base_uri": "https://localhost:8080/",
          "height": 480
        },
        "id": "1Ts_vb2UxPIE",
        "outputId": "bfeeba08-38ef-44e9-dc34-265adaa1ab89"
      },
      "execution_count": null,
      "outputs": [
        {
          "output_type": "stream",
          "name": "stdout",
          "text": [
            "1/1 [==============================] - 0s 65ms/step\n"
          ]
        },
        {
          "output_type": "display_data",
          "data": {
            "text/plain": [
              "<Figure size 1000x700 with 1 Axes>"
            ],
            "image/png": "[encoded data removed]"
          },
          "metadata": {}
        }
      ]
    },
    {
      "cell_type": "code",
      "source": [
        "mae_2=mae(y_test,ypred2)\n",
        "mse_2=mse(y_test,ypred2)\n",
        "mae_2,mse_2\n"
      ],
      "metadata": {
        "colab": {
          "base_uri": "https://localhost:8080/"
        },
        "id": "IAoa4MMx386f",
        "outputId": "6ec155e5-4abe-4d94-9ea8-912754c9afb2"
      },
      "execution_count": null,
      "outputs": [
        {
          "output_type": "execute_result",
          "data": {
            "text/plain": [
              "(<tf.Tensor: shape=(), dtype=float32, numpy=10.615133>,\n",
              " <tf.Tensor: shape=(), dtype=float32, numpy=120.43734>)"
            ]
          },
          "metadata": {},
          "execution_count": 313
        }
      ]
    },
    {
      "cell_type": "code",
      "source": [],
      "metadata": {
        "id": "-bKJQFTW5SyW"
      },
      "execution_count": null,
      "outputs": []
    },
    {
      "cell_type": "markdown",
      "source": [
        "# **Model3**"
      ],
      "metadata": {
        "id": "UBuzLT8D54ay"
      }
    },
    {
      "cell_type": "code",
      "source": [
        "#set the random seed\n",
        "tf.random.set_seed(42)\n",
        "\n",
        "#Create the model\n",
        "model3=tf.keras.Sequential([\n",
        "    tf.keras.layers.Dense(10,input_shape=[1]),\n",
        "    tf.keras.layers.Dense(1)\n",
        "])\n",
        "\n",
        "#Compile the model\n",
        "model3.compile(loss='mae',optimizer='sgd',metrics=['mse'])\n",
        "\n",
        "#fit the model\n",
        "model3.fit(X_train,y_train,epochs=500)\n",
        "\n"
      ],
      "metadata": {
        "colab": {
          "base_uri": "https://localhost:8080/"
        },
        "id": "BeIXc0xC550R",
        "outputId": "409d65ae-a1b2-411f-e011-b9018081e1a9"
      },
      "execution_count": null,
      "outputs": [
        {
          "output_type": "stream",
          "name": "stdout",
          "text": [
            "Epoch 1/500\n",
            "2/2 [==============================] - 0s 13ms/step - loss: 70.3769 - mse: 7920.1587\n",
            "Epoch 2/500\n",
            "2/2 [==============================] - 0s 9ms/step - loss: 28.0889 - mse: 1230.3840\n",
            "Epoch 3/500\n",
            "2/2 [==============================] - 0s 8ms/step - loss: 21.0943 - mse: 668.4766\n",
            "Epoch 4/500\n",
            "2/2 [==============================] - 0s 7ms/step - loss: 13.6614 - mse: 262.4521\n",
            "Epoch 5/500\n",
            "2/2 [==============================] - 0s 15ms/step - loss: 18.6112 - mse: 469.7658\n",
            "Epoch 6/500\n",
            "2/2 [==============================] - 0s 10ms/step - loss: 9.3767 - mse: 128.6435\n",
            "Epoch 7/500\n",
            "2/2 [==============================] - 0s 7ms/step - loss: 10.3982 - mse: 142.2721\n",
            "Epoch 8/500\n",
            "2/2 [==============================] - 0s 7ms/step - loss: 12.0883 - mse: 197.7135\n",
            "Epoch 9/500\n",
            "2/2 [==============================] - 0s 8ms/step - loss: 37.7633 - mse: 2196.6372\n",
            "Epoch 10/500\n",
            "2/2 [==============================] - 0s 7ms/step - loss: 25.3880 - mse: 904.4246\n",
            "Epoch 11/500\n",
            "2/2 [==============================] - 0s 10ms/step - loss: 10.2675 - mse: 147.7385\n",
            "Epoch 12/500\n",
            "2/2 [==============================] - 0s 7ms/step - loss: 25.3975 - mse: 898.4044\n",
            "Epoch 13/500\n",
            "2/2 [==============================] - 0s 7ms/step - loss: 16.9231 - mse: 395.8210\n",
            "Epoch 14/500\n",
            "2/2 [==============================] - 0s 7ms/step - loss: 25.7837 - mse: 1037.0348\n",
            "Epoch 15/500\n",
            "2/2 [==============================] - 0s 8ms/step - loss: 17.6327 - mse: 430.3883\n",
            "Epoch 16/500\n",
            "2/2 [==============================] - 0s 7ms/step - loss: 10.0753 - mse: 124.5732\n",
            "Epoch 17/500\n",
            "2/2 [==============================] - 0s 7ms/step - loss: 18.6372 - mse: 464.4185\n",
            "Epoch 18/500\n",
            "2/2 [==============================] - 0s 7ms/step - loss: 11.7765 - mse: 212.2239\n",
            "Epoch 19/500\n",
            "2/2 [==============================] - 0s 7ms/step - loss: 16.4494 - mse: 434.0152\n",
            "Epoch 20/500\n",
            "2/2 [==============================] - 0s 7ms/step - loss: 8.2569 - mse: 93.6249\n",
            "Epoch 21/500\n",
            "2/2 [==============================] - 0s 9ms/step - loss: 14.4443 - mse: 289.1956\n",
            "Epoch 22/500\n",
            "2/2 [==============================] - 0s 7ms/step - loss: 12.8582 - mse: 246.3590\n",
            "Epoch 23/500\n",
            "2/2 [==============================] - 0s 8ms/step - loss: 15.4981 - mse: 315.5179\n",
            "Epoch 24/500\n",
            "2/2 [==============================] - 0s 8ms/step - loss: 15.2877 - mse: 316.5893\n",
            "Epoch 25/500\n",
            "2/2 [==============================] - 0s 13ms/step - loss: 14.3593 - mse: 273.1425\n",
            "Epoch 26/500\n",
            "2/2 [==============================] - 0s 11ms/step - loss: 19.3726 - mse: 569.3958\n",
            "Epoch 27/500\n",
            "2/2 [==============================] - 0s 8ms/step - loss: 11.4530 - mse: 168.2673\n",
            "Epoch 28/500\n",
            "2/2 [==============================] - 0s 7ms/step - loss: 29.0101 - mse: 1367.7080\n",
            "Epoch 29/500\n",
            "2/2 [==============================] - 0s 7ms/step - loss: 9.2631 - mse: 94.9847\n",
            "Epoch 30/500\n",
            "2/2 [==============================] - 0s 8ms/step - loss: 29.7577 - mse: 1602.0217\n",
            "Epoch 31/500\n",
            "2/2 [==============================] - 0s 10ms/step - loss: 53.9877 - mse: 5221.1436\n",
            "Epoch 32/500\n",
            "2/2 [==============================] - 0s 9ms/step - loss: 9.5647 - mse: 101.2366\n",
            "Epoch 33/500\n",
            "2/2 [==============================] - 0s 9ms/step - loss: 12.1525 - mse: 179.8284\n",
            "Epoch 34/500\n",
            "2/2 [==============================] - 0s 8ms/step - loss: 23.7968 - mse: 857.6854\n",
            "Epoch 35/500\n",
            "2/2 [==============================] - 0s 11ms/step - loss: 12.6489 - mse: 242.2948\n",
            "Epoch 36/500\n",
            "2/2 [==============================] - 0s 10ms/step - loss: 21.5774 - mse: 663.9252\n",
            "Epoch 37/500\n",
            "2/2 [==============================] - 0s 7ms/step - loss: 11.3529 - mse: 149.4981\n",
            "Epoch 38/500\n",
            "2/2 [==============================] - 0s 9ms/step - loss: 13.4041 - mse: 265.9391\n",
            "Epoch 39/500\n",
            "2/2 [==============================] - 0s 8ms/step - loss: 10.7682 - mse: 137.6766\n",
            "Epoch 40/500\n",
            "2/2 [==============================] - 0s 10ms/step - loss: 16.4958 - mse: 395.1686\n",
            "Epoch 41/500\n",
            "2/2 [==============================] - 0s 7ms/step - loss: 10.9315 - mse: 180.3510\n",
            "Epoch 42/500\n",
            "2/2 [==============================] - 0s 8ms/step - loss: 9.2696 - mse: 115.8803\n",
            "Epoch 43/500\n",
            "2/2 [==============================] - 0s 7ms/step - loss: 9.5910 - mse: 111.9399\n",
            "Epoch 44/500\n",
            "2/2 [==============================] - 0s 9ms/step - loss: 27.8057 - mse: 1238.8568\n",
            "Epoch 45/500\n",
            "2/2 [==============================] - 0s 8ms/step - loss: 11.2469 - mse: 145.6674\n",
            "Epoch 46/500\n",
            "2/2 [==============================] - 0s 7ms/step - loss: 13.8007 - mse: 277.9126\n",
            "Epoch 47/500\n",
            "2/2 [==============================] - 0s 7ms/step - loss: 11.9516 - mse: 212.4836\n",
            "Epoch 48/500\n",
            "2/2 [==============================] - 0s 7ms/step - loss: 17.0027 - mse: 391.4320\n",
            "Epoch 49/500\n",
            "2/2 [==============================] - 0s 7ms/step - loss: 9.7568 - mse: 104.3054\n",
            "Epoch 50/500\n",
            "2/2 [==============================] - 0s 7ms/step - loss: 14.1250 - mse: 277.6926\n",
            "Epoch 51/500\n",
            "2/2 [==============================] - 0s 7ms/step - loss: 11.7273 - mse: 160.3508\n",
            "Epoch 52/500\n",
            "2/2 [==============================] - 0s 8ms/step - loss: 31.2318 - mse: 1693.4460\n",
            "Epoch 53/500\n",
            "2/2 [==============================] - 0s 8ms/step - loss: 14.6627 - mse: 317.8431\n",
            "Epoch 54/500\n",
            "2/2 [==============================] - 0s 8ms/step - loss: 24.4963 - mse: 902.0941\n",
            "Epoch 55/500\n",
            "2/2 [==============================] - 0s 8ms/step - loss: 23.7713 - mse: 848.9544\n",
            "Epoch 56/500\n",
            "2/2 [==============================] - 0s 7ms/step - loss: 11.0920 - mse: 171.3176\n",
            "Epoch 57/500\n",
            "2/2 [==============================] - 0s 7ms/step - loss: 13.0138 - mse: 209.2035\n",
            "Epoch 58/500\n",
            "2/2 [==============================] - 0s 7ms/step - loss: 9.7580 - mse: 105.1759\n",
            "Epoch 59/500\n",
            "2/2 [==============================] - 0s 9ms/step - loss: 13.1781 - mse: 241.8102\n",
            "Epoch 60/500\n",
            "2/2 [==============================] - 0s 6ms/step - loss: 10.8035 - mse: 136.6728\n",
            "Epoch 61/500\n",
            "2/2 [==============================] - 0s 8ms/step - loss: 13.3626 - mse: 235.0915\n",
            "Epoch 62/500\n",
            "2/2 [==============================] - 0s 7ms/step - loss: 17.2644 - mse: 454.2195\n",
            "Epoch 63/500\n",
            "2/2 [==============================] - 0s 8ms/step - loss: 9.1206 - mse: 87.8399\n",
            "Epoch 64/500\n",
            "2/2 [==============================] - 0s 8ms/step - loss: 17.8905 - mse: 464.0913\n",
            "Epoch 65/500\n",
            "2/2 [==============================] - 0s 10ms/step - loss: 10.6010 - mse: 137.0283\n",
            "Epoch 66/500\n",
            "2/2 [==============================] - 0s 8ms/step - loss: 21.3895 - mse: 676.0653\n",
            "Epoch 67/500\n",
            "2/2 [==============================] - 0s 8ms/step - loss: 10.6041 - mse: 131.5190\n",
            "Epoch 68/500\n",
            "2/2 [==============================] - 0s 9ms/step - loss: 14.7915 - mse: 332.4050\n",
            "Epoch 69/500\n",
            "2/2 [==============================] - 0s 9ms/step - loss: 10.7411 - mse: 133.1205\n",
            "Epoch 70/500\n",
            "2/2 [==============================] - 0s 9ms/step - loss: 12.8374 - mse: 209.7131\n",
            "Epoch 71/500\n",
            "2/2 [==============================] - 0s 11ms/step - loss: 13.2559 - mse: 238.6364\n",
            "Epoch 72/500\n",
            "2/2 [==============================] - 0s 9ms/step - loss: 19.8533 - mse: 559.9651\n",
            "Epoch 73/500\n",
            "2/2 [==============================] - 0s 10ms/step - loss: 11.2804 - mse: 190.6948\n",
            "Epoch 74/500\n",
            "2/2 [==============================] - 0s 9ms/step - loss: 22.1402 - mse: 763.8180\n",
            "Epoch 75/500\n",
            "2/2 [==============================] - 0s 9ms/step - loss: 6.9622 - mse: 64.8574\n",
            "Epoch 76/500\n",
            "2/2 [==============================] - 0s 7ms/step - loss: 11.4309 - mse: 203.7282\n",
            "Epoch 77/500\n",
            "2/2 [==============================] - 0s 8ms/step - loss: 21.5777 - mse: 700.4525\n",
            "Epoch 78/500\n",
            "2/2 [==============================] - 0s 11ms/step - loss: 18.6174 - mse: 526.7699\n",
            "Epoch 79/500\n",
            "2/2 [==============================] - 0s 8ms/step - loss: 15.9460 - mse: 373.4660\n",
            "Epoch 80/500\n",
            "2/2 [==============================] - 0s 9ms/step - loss: 23.5669 - mse: 840.6709\n",
            "Epoch 81/500\n",
            "2/2 [==============================] - 0s 7ms/step - loss: 10.9851 - mse: 142.8893\n",
            "Epoch 82/500\n",
            "2/2 [==============================] - 0s 6ms/step - loss: 12.7416 - mse: 232.3181\n",
            "Epoch 83/500\n",
            "2/2 [==============================] - 0s 8ms/step - loss: 17.5163 - mse: 399.8093\n",
            "Epoch 84/500\n",
            "2/2 [==============================] - 0s 10ms/step - loss: 7.3149 - mse: 73.7231\n",
            "Epoch 85/500\n",
            "2/2 [==============================] - 0s 8ms/step - loss: 15.0486 - mse: 315.9909\n",
            "Epoch 86/500\n",
            "2/2 [==============================] - 0s 7ms/step - loss: 15.3578 - mse: 317.4311\n",
            "Epoch 87/500\n",
            "2/2 [==============================] - 0s 9ms/step - loss: 19.2373 - mse: 527.0757\n",
            "Epoch 88/500\n",
            "2/2 [==============================] - 0s 14ms/step - loss: 29.4996 - mse: 1257.4930\n",
            "Epoch 89/500\n",
            "2/2 [==============================] - 0s 10ms/step - loss: 10.1632 - mse: 124.7637\n",
            "Epoch 90/500\n",
            "2/2 [==============================] - 0s 7ms/step - loss: 21.2434 - mse: 646.4059\n",
            "Epoch 91/500\n",
            "2/2 [==============================] - 0s 8ms/step - loss: 10.5372 - mse: 163.7270\n",
            "Epoch 92/500\n",
            "2/2 [==============================] - 0s 9ms/step - loss: 18.1363 - mse: 450.2490\n",
            "Epoch 93/500\n",
            "2/2 [==============================] - 0s 8ms/step - loss: 6.5764 - mse: 61.2958\n",
            "Epoch 94/500\n",
            "2/2 [==============================] - 0s 7ms/step - loss: 11.1870 - mse: 155.4138\n",
            "Epoch 95/500\n",
            "2/2 [==============================] - 0s 7ms/step - loss: 24.5318 - mse: 903.8284\n",
            "Epoch 96/500\n",
            "2/2 [==============================] - 0s 7ms/step - loss: 10.7947 - mse: 172.5847\n",
            "Epoch 97/500\n",
            "2/2 [==============================] - 0s 7ms/step - loss: 15.4694 - mse: 362.8014\n",
            "Epoch 98/500\n",
            "2/2 [==============================] - 0s 7ms/step - loss: 9.0557 - mse: 144.6738\n",
            "Epoch 99/500\n",
            "2/2 [==============================] - 0s 7ms/step - loss: 10.8760 - mse: 138.5298\n",
            "Epoch 100/500\n",
            "2/2 [==============================] - 0s 8ms/step - loss: 27.0085 - mse: 1111.9010\n",
            "Epoch 101/500\n",
            "2/2 [==============================] - 0s 9ms/step - loss: 15.0159 - mse: 338.5558\n",
            "Epoch 102/500\n",
            "2/2 [==============================] - 0s 8ms/step - loss: 10.6282 - mse: 158.5531\n",
            "Epoch 103/500\n",
            "2/2 [==============================] - 0s 8ms/step - loss: 9.1384 - mse: 97.2762\n",
            "Epoch 104/500\n",
            "2/2 [==============================] - 0s 8ms/step - loss: 23.4219 - mse: 821.4005\n",
            "Epoch 105/500\n",
            "2/2 [==============================] - 0s 8ms/step - loss: 10.7285 - mse: 154.0141\n",
            "Epoch 106/500\n",
            "2/2 [==============================] - 0s 13ms/step - loss: 11.1890 - mse: 171.3157\n",
            "Epoch 107/500\n",
            "2/2 [==============================] - 0s 8ms/step - loss: 20.9590 - mse: 654.0469\n",
            "Epoch 108/500\n",
            "2/2 [==============================] - 0s 8ms/step - loss: 6.3472 - mse: 58.3208\n",
            "Epoch 109/500\n",
            "2/2 [==============================] - 0s 8ms/step - loss: 10.4944 - mse: 130.2289\n",
            "Epoch 110/500\n",
            "2/2 [==============================] - 0s 8ms/step - loss: 10.4565 - mse: 133.8648\n",
            "Epoch 111/500\n",
            "2/2 [==============================] - 0s 8ms/step - loss: 16.4971 - mse: 383.4347\n",
            "Epoch 112/500\n",
            "2/2 [==============================] - 0s 9ms/step - loss: 9.4635 - mse: 116.2031\n",
            "Epoch 113/500\n",
            "2/2 [==============================] - 0s 8ms/step - loss: 17.0555 - mse: 423.0653\n",
            "Epoch 114/500\n",
            "2/2 [==============================] - 0s 7ms/step - loss: 18.6108 - mse: 520.9688\n",
            "Epoch 115/500\n",
            "2/2 [==============================] - 0s 8ms/step - loss: 10.9672 - mse: 146.9223\n",
            "Epoch 116/500\n",
            "2/2 [==============================] - 0s 8ms/step - loss: 22.6241 - mse: 743.4294\n",
            "Epoch 117/500\n",
            "2/2 [==============================] - 0s 7ms/step - loss: 9.4235 - mse: 127.8056\n",
            "Epoch 118/500\n",
            "2/2 [==============================] - 0s 7ms/step - loss: 10.4587 - mse: 134.4573\n",
            "Epoch 119/500\n",
            "2/2 [==============================] - 0s 8ms/step - loss: 8.0367 - mse: 74.3223\n",
            "Epoch 120/500\n",
            "2/2 [==============================] - 0s 8ms/step - loss: 38.0905 - mse: 2266.9092\n",
            "Epoch 121/500\n",
            "2/2 [==============================] - 0s 8ms/step - loss: 11.3327 - mse: 190.7321\n",
            "Epoch 122/500\n",
            "2/2 [==============================] - 0s 6ms/step - loss: 25.4006 - mse: 957.1952\n",
            "Epoch 123/500\n",
            "2/2 [==============================] - 0s 7ms/step - loss: 29.3087 - mse: 1240.3926\n",
            "Epoch 124/500\n",
            "2/2 [==============================] - 0s 9ms/step - loss: 16.8084 - mse: 418.6300\n",
            "Epoch 125/500\n",
            "2/2 [==============================] - 0s 8ms/step - loss: 9.3954 - mse: 154.3645\n",
            "Epoch 126/500\n",
            "2/2 [==============================] - 0s 8ms/step - loss: 9.4917 - mse: 113.3541\n",
            "Epoch 127/500\n",
            "2/2 [==============================] - 0s 7ms/step - loss: 12.1129 - mse: 228.5348\n",
            "Epoch 128/500\n",
            "2/2 [==============================] - 0s 7ms/step - loss: 15.0937 - mse: 323.2957\n",
            "Epoch 129/500\n",
            "2/2 [==============================] - 0s 8ms/step - loss: 9.0834 - mse: 123.9748\n",
            "Epoch 130/500\n",
            "2/2 [==============================] - 0s 8ms/step - loss: 24.1779 - mse: 825.0143\n",
            "Epoch 131/500\n",
            "2/2 [==============================] - 0s 7ms/step - loss: 9.8311 - mse: 135.7713\n",
            "Epoch 132/500\n",
            "2/2 [==============================] - 0s 7ms/step - loss: 18.4047 - mse: 506.3224\n",
            "Epoch 133/500\n",
            "2/2 [==============================] - 0s 8ms/step - loss: 7.6389 - mse: 80.3678\n",
            "Epoch 134/500\n",
            "2/2 [==============================] - 0s 9ms/step - loss: 18.6568 - mse: 510.7625\n",
            "Epoch 135/500\n",
            "2/2 [==============================] - 0s 8ms/step - loss: 10.6015 - mse: 149.6547\n",
            "Epoch 136/500\n",
            "2/2 [==============================] - 0s 9ms/step - loss: 18.3201 - mse: 475.0069\n",
            "Epoch 137/500\n",
            "2/2 [==============================] - 0s 8ms/step - loss: 23.2235 - mse: 727.5913\n",
            "Epoch 138/500\n",
            "2/2 [==============================] - 0s 9ms/step - loss: 9.1896 - mse: 140.4409\n",
            "Epoch 139/500\n",
            "2/2 [==============================] - 0s 8ms/step - loss: 8.9613 - mse: 145.4665\n",
            "Epoch 140/500\n",
            "2/2 [==============================] - 0s 9ms/step - loss: 16.4834 - mse: 389.5336\n",
            "Epoch 141/500\n",
            "2/2 [==============================] - 0s 10ms/step - loss: 8.4664 - mse: 92.1423\n",
            "Epoch 142/500\n",
            "2/2 [==============================] - 0s 8ms/step - loss: 36.8820 - mse: 2396.1809\n",
            "Epoch 143/500\n",
            "2/2 [==============================] - 0s 8ms/step - loss: 25.5536 - mse: 924.7223\n",
            "Epoch 144/500\n",
            "2/2 [==============================] - 0s 11ms/step - loss: 9.5769 - mse: 144.6970\n",
            "Epoch 145/500\n",
            "2/2 [==============================] - 0s 14ms/step - loss: 26.6342 - mse: 958.7454\n",
            "Epoch 146/500\n",
            "2/2 [==============================] - 0s 10ms/step - loss: 8.7357 - mse: 109.8032\n",
            "Epoch 147/500\n",
            "2/2 [==============================] - 0s 10ms/step - loss: 15.6702 - mse: 312.5633\n",
            "Epoch 148/500\n",
            "2/2 [==============================] - 0s 8ms/step - loss: 18.3660 - mse: 467.5473\n",
            "Epoch 149/500\n",
            "2/2 [==============================] - 0s 8ms/step - loss: 8.1973 - mse: 107.6549\n",
            "Epoch 150/500\n",
            "2/2 [==============================] - 0s 8ms/step - loss: 7.5219 - mse: 67.4222\n",
            "Epoch 151/500\n",
            "2/2 [==============================] - 0s 8ms/step - loss: 18.2141 - mse: 478.8866\n",
            "Epoch 152/500\n",
            "2/2 [==============================] - 0s 12ms/step - loss: 10.2962 - mse: 130.0568\n",
            "Epoch 153/500\n",
            "2/2 [==============================] - 0s 10ms/step - loss: 29.4129 - mse: 1246.4602\n",
            "Epoch 154/500\n",
            "2/2 [==============================] - 0s 9ms/step - loss: 10.6253 - mse: 200.7688\n",
            "Epoch 155/500\n",
            "2/2 [==============================] - 0s 11ms/step - loss: 15.5163 - mse: 350.8636\n",
            "Epoch 156/500\n",
            "2/2 [==============================] - 0s 8ms/step - loss: 17.1407 - mse: 443.4587\n",
            "Epoch 157/500\n",
            "2/2 [==============================] - 0s 9ms/step - loss: 32.5124 - mse: 1709.9187\n",
            "Epoch 158/500\n",
            "2/2 [==============================] - 0s 7ms/step - loss: 10.6577 - mse: 149.3167\n",
            "Epoch 159/500\n",
            "2/2 [==============================] - 0s 8ms/step - loss: 8.9018 - mse: 98.1663\n",
            "Epoch 160/500\n",
            "2/2 [==============================] - 0s 9ms/step - loss: 21.8865 - mse: 692.5392\n",
            "Epoch 161/500\n",
            "2/2 [==============================] - 0s 8ms/step - loss: 11.1170 - mse: 176.9669\n",
            "Epoch 162/500\n",
            "2/2 [==============================] - 0s 8ms/step - loss: 21.4085 - mse: 659.5359\n",
            "Epoch 163/500\n",
            "2/2 [==============================] - 0s 9ms/step - loss: 18.8907 - mse: 513.7952\n",
            "Epoch 164/500\n",
            "2/2 [==============================] - 0s 11ms/step - loss: 12.7308 - mse: 251.6086\n",
            "Epoch 165/500\n",
            "2/2 [==============================] - 0s 9ms/step - loss: 12.7311 - mse: 235.3309\n",
            "Epoch 166/500\n",
            "2/2 [==============================] - 0s 9ms/step - loss: 18.9039 - mse: 551.9354\n",
            "Epoch 167/500\n",
            "2/2 [==============================] - 0s 12ms/step - loss: 26.8272 - mse: 1095.5963\n",
            "Epoch 168/500\n",
            "2/2 [==============================] - 0s 8ms/step - loss: 10.0052 - mse: 120.8190\n",
            "Epoch 169/500\n",
            "2/2 [==============================] - 0s 8ms/step - loss: 23.0657 - mse: 824.2120\n",
            "Epoch 170/500\n",
            "2/2 [==============================] - 0s 10ms/step - loss: 10.0948 - mse: 200.2105\n",
            "Epoch 171/500\n",
            "2/2 [==============================] - 0s 9ms/step - loss: 17.8462 - mse: 494.3354\n",
            "Epoch 172/500\n",
            "2/2 [==============================] - 0s 10ms/step - loss: 29.3280 - mse: 1356.2102\n",
            "Epoch 173/500\n",
            "2/2 [==============================] - 0s 9ms/step - loss: 16.9312 - mse: 451.8186\n",
            "Epoch 174/500\n",
            "2/2 [==============================] - 0s 9ms/step - loss: 11.1918 - mse: 203.7465\n",
            "Epoch 175/500\n",
            "2/2 [==============================] - 0s 9ms/step - loss: 27.4629 - mse: 1088.9143\n",
            "Epoch 176/500\n",
            "2/2 [==============================] - 0s 9ms/step - loss: 8.4473 - mse: 81.1864\n",
            "Epoch 177/500\n",
            "2/2 [==============================] - 0s 10ms/step - loss: 9.4064 - mse: 111.6589\n",
            "Epoch 178/500\n",
            "2/2 [==============================] - 0s 10ms/step - loss: 18.5233 - mse: 484.3630\n",
            "Epoch 179/500\n",
            "2/2 [==============================] - 0s 9ms/step - loss: 10.4427 - mse: 144.4575\n",
            "Epoch 180/500\n",
            "2/2 [==============================] - 0s 11ms/step - loss: 8.0075 - mse: 99.1610\n",
            "Epoch 181/500\n",
            "2/2 [==============================] - 0s 10ms/step - loss: 17.6982 - mse: 452.9894\n",
            "Epoch 182/500\n",
            "2/2 [==============================] - 0s 8ms/step - loss: 11.1866 - mse: 161.7034\n",
            "Epoch 183/500\n",
            "2/2 [==============================] - 0s 9ms/step - loss: 12.3591 - mse: 231.1187\n",
            "Epoch 184/500\n",
            "2/2 [==============================] - 0s 9ms/step - loss: 27.2391 - mse: 1101.6191\n",
            "Epoch 185/500\n",
            "2/2 [==============================] - 0s 10ms/step - loss: 7.5985 - mse: 99.5266\n",
            "Epoch 186/500\n",
            "2/2 [==============================] - 0s 9ms/step - loss: 16.0047 - mse: 369.5823\n",
            "Epoch 187/500\n",
            "2/2 [==============================] - 0s 9ms/step - loss: 8.6047 - mse: 86.2143\n",
            "Epoch 188/500\n",
            "2/2 [==============================] - 0s 9ms/step - loss: 28.6989 - mse: 1172.4731\n",
            "Epoch 189/500\n",
            "2/2 [==============================] - 0s 8ms/step - loss: 13.1934 - mse: 271.6889\n",
            "Epoch 190/500\n",
            "2/2 [==============================] - 0s 9ms/step - loss: 18.3394 - mse: 513.9681\n",
            "Epoch 191/500\n",
            "2/2 [==============================] - 0s 8ms/step - loss: 13.7732 - mse: 266.2505\n",
            "Epoch 192/500\n",
            "2/2 [==============================] - 0s 8ms/step - loss: 13.7418 - mse: 261.5125\n",
            "Epoch 193/500\n",
            "2/2 [==============================] - 0s 7ms/step - loss: 28.6100 - mse: 1136.7751\n",
            "Epoch 194/500\n",
            "2/2 [==============================] - 0s 8ms/step - loss: 7.0815 - mse: 79.5968\n",
            "Epoch 195/500\n",
            "2/2 [==============================] - 0s 10ms/step - loss: 7.0960 - mse: 75.3711\n",
            "Epoch 196/500\n",
            "2/2 [==============================] - 0s 10ms/step - loss: 22.0692 - mse: 712.4984\n",
            "Epoch 197/500\n",
            "2/2 [==============================] - 0s 14ms/step - loss: 20.7229 - mse: 635.9948\n",
            "Epoch 198/500\n",
            "2/2 [==============================] - 0s 12ms/step - loss: 12.4140 - mse: 234.5406\n",
            "Epoch 199/500\n",
            "2/2 [==============================] - 0s 9ms/step - loss: 17.8022 - mse: 455.1190\n",
            "Epoch 200/500\n",
            "2/2 [==============================] - 0s 9ms/step - loss: 13.6520 - mse: 277.9922\n",
            "Epoch 201/500\n",
            "2/2 [==============================] - 0s 9ms/step - loss: 5.5219 - mse: 42.4160\n",
            "Epoch 202/500\n",
            "2/2 [==============================] - 0s 9ms/step - loss: 13.6030 - mse: 290.5002\n",
            "Epoch 203/500\n",
            "2/2 [==============================] - 0s 8ms/step - loss: 9.4182 - mse: 141.6020\n",
            "Epoch 204/500\n",
            "2/2 [==============================] - 0s 7ms/step - loss: 20.7774 - mse: 644.1790\n",
            "Epoch 205/500\n",
            "2/2 [==============================] - 0s 10ms/step - loss: 9.5193 - mse: 128.2905\n",
            "Epoch 206/500\n",
            "2/2 [==============================] - 0s 8ms/step - loss: 11.1538 - mse: 170.2890\n",
            "Epoch 207/500\n",
            "2/2 [==============================] - 0s 10ms/step - loss: 17.6623 - mse: 471.3586\n",
            "Epoch 208/500\n",
            "2/2 [==============================] - 0s 8ms/step - loss: 14.3849 - mse: 298.3707\n",
            "Epoch 209/500\n",
            "2/2 [==============================] - 0s 11ms/step - loss: 16.6899 - mse: 412.0792\n",
            "Epoch 210/500\n",
            "2/2 [==============================] - 0s 9ms/step - loss: 18.2010 - mse: 482.9017\n",
            "Epoch 211/500\n",
            "2/2 [==============================] - 0s 9ms/step - loss: 9.9675 - mse: 146.3111\n",
            "Epoch 212/500\n",
            "2/2 [==============================] - 0s 9ms/step - loss: 18.6637 - mse: 525.2749\n",
            "Epoch 213/500\n",
            "2/2 [==============================] - 0s 8ms/step - loss: 14.9711 - mse: 305.5749\n",
            "Epoch 214/500\n",
            "2/2 [==============================] - 0s 8ms/step - loss: 14.5484 - mse: 291.2524\n",
            "Epoch 215/500\n",
            "2/2 [==============================] - 0s 7ms/step - loss: 23.2056 - mse: 793.4222\n",
            "Epoch 216/500\n",
            "2/2 [==============================] - 0s 7ms/step - loss: 13.5451 - mse: 284.3902\n",
            "Epoch 217/500\n",
            "2/2 [==============================] - 0s 8ms/step - loss: 10.0318 - mse: 141.8982\n",
            "Epoch 218/500\n",
            "2/2 [==============================] - 0s 8ms/step - loss: 12.4634 - mse: 204.5699\n",
            "Epoch 219/500\n",
            "2/2 [==============================] - 0s 8ms/step - loss: 5.3362 - mse: 41.0906\n",
            "Epoch 220/500\n",
            "2/2 [==============================] - 0s 8ms/step - loss: 12.4283 - mse: 243.7923\n",
            "Epoch 221/500\n",
            "2/2 [==============================] - 0s 10ms/step - loss: 22.4175 - mse: 731.7755\n",
            "Epoch 222/500\n",
            "2/2 [==============================] - 0s 7ms/step - loss: 21.5257 - mse: 724.2880\n",
            "Epoch 223/500\n",
            "2/2 [==============================] - 0s 7ms/step - loss: 11.6550 - mse: 197.4518\n",
            "Epoch 224/500\n",
            "2/2 [==============================] - 0s 7ms/step - loss: 13.5689 - mse: 261.4982\n",
            "Epoch 225/500\n",
            "2/2 [==============================] - 0s 8ms/step - loss: 15.7045 - mse: 319.9984\n",
            "Epoch 226/500\n",
            "2/2 [==============================] - 0s 8ms/step - loss: 14.9506 - mse: 317.6111\n",
            "Epoch 227/500\n",
            "2/2 [==============================] - 0s 8ms/step - loss: 15.2809 - mse: 324.6834\n",
            "Epoch 228/500\n",
            "2/2 [==============================] - 0s 8ms/step - loss: 17.4446 - mse: 457.3044\n",
            "Epoch 229/500\n",
            "2/2 [==============================] - 0s 10ms/step - loss: 7.2335 - mse: 93.4530\n",
            "Epoch 230/500\n",
            "2/2 [==============================] - 0s 7ms/step - loss: 7.4749 - mse: 69.4186\n",
            "Epoch 231/500\n",
            "2/2 [==============================] - 0s 8ms/step - loss: 24.7826 - mse: 907.4910\n",
            "Epoch 232/500\n",
            "2/2 [==============================] - 0s 11ms/step - loss: 8.7993 - mse: 97.3301\n",
            "Epoch 233/500\n",
            "2/2 [==============================] - 0s 7ms/step - loss: 24.7354 - mse: 888.8975\n",
            "Epoch 234/500\n",
            "2/2 [==============================] - 0s 11ms/step - loss: 8.1636 - mse: 94.9037\n",
            "Epoch 235/500\n",
            "2/2 [==============================] - 0s 9ms/step - loss: 12.7247 - mse: 233.1687\n",
            "Epoch 236/500\n",
            "2/2 [==============================] - 0s 8ms/step - loss: 7.7307 - mse: 76.7041\n",
            "Epoch 237/500\n",
            "2/2 [==============================] - 0s 9ms/step - loss: 10.0390 - mse: 134.6706\n",
            "Epoch 238/500\n",
            "2/2 [==============================] - 0s 8ms/step - loss: 8.5652 - mse: 93.4997\n",
            "Epoch 239/500\n",
            "2/2 [==============================] - 0s 8ms/step - loss: 18.7022 - mse: 522.2427\n",
            "Epoch 240/500\n",
            "2/2 [==============================] - 0s 8ms/step - loss: 9.5407 - mse: 117.5219\n",
            "Epoch 241/500\n",
            "2/2 [==============================] - 0s 8ms/step - loss: 14.7044 - mse: 327.3270\n",
            "Epoch 242/500\n",
            "2/2 [==============================] - 0s 9ms/step - loss: 8.5543 - mse: 100.1129\n",
            "Epoch 243/500\n",
            "2/2 [==============================] - 0s 7ms/step - loss: 17.7760 - mse: 484.9893\n",
            "Epoch 244/500\n",
            "2/2 [==============================] - 0s 10ms/step - loss: 13.8017 - mse: 269.8624\n",
            "Epoch 245/500\n",
            "2/2 [==============================] - 0s 7ms/step - loss: 14.4660 - mse: 279.5938\n",
            "Epoch 246/500\n",
            "2/2 [==============================] - 0s 13ms/step - loss: 18.1172 - mse: 527.1467\n",
            "Epoch 247/500\n",
            "2/2 [==============================] - 0s 7ms/step - loss: 37.2256 - mse: 2166.9102\n",
            "Epoch 248/500\n",
            "2/2 [==============================] - 0s 7ms/step - loss: 6.7874 - mse: 77.0937\n",
            "Epoch 249/500\n",
            "2/2 [==============================] - 0s 7ms/step - loss: 8.0161 - mse: 81.9175\n",
            "Epoch 250/500\n",
            "2/2 [==============================] - 0s 8ms/step - loss: 24.9457 - mse: 954.9212\n",
            "Epoch 251/500\n",
            "2/2 [==============================] - 0s 11ms/step - loss: 10.4418 - mse: 214.6072\n",
            "Epoch 252/500\n",
            "2/2 [==============================] - 0s 9ms/step - loss: 30.8339 - mse: 1323.8800\n",
            "Epoch 253/500\n",
            "2/2 [==============================] - 0s 7ms/step - loss: 8.1542 - mse: 153.3304\n",
            "Epoch 254/500\n",
            "2/2 [==============================] - 0s 11ms/step - loss: 16.3069 - mse: 410.1517\n",
            "Epoch 255/500\n",
            "2/2 [==============================] - 0s 7ms/step - loss: 22.0546 - mse: 737.3986\n",
            "Epoch 256/500\n",
            "2/2 [==============================] - 0s 8ms/step - loss: 26.8000 - mse: 1018.8774\n",
            "Epoch 257/500\n",
            "2/2 [==============================] - 0s 11ms/step - loss: 11.8792 - mse: 216.7851\n",
            "Epoch 258/500\n",
            "2/2 [==============================] - 0s 10ms/step - loss: 8.5150 - mse: 93.3157\n",
            "Epoch 259/500\n",
            "2/2 [==============================] - 0s 8ms/step - loss: 22.7947 - mse: 776.0769\n",
            "Epoch 260/500\n",
            "2/2 [==============================] - 0s 8ms/step - loss: 31.2444 - mse: 1489.7919\n",
            "Epoch 261/500\n",
            "2/2 [==============================] - 0s 7ms/step - loss: 11.0945 - mse: 175.3555\n",
            "Epoch 262/500\n",
            "2/2 [==============================] - 0s 7ms/step - loss: 9.9632 - mse: 137.7563\n",
            "Epoch 263/500\n",
            "2/2 [==============================] - 0s 10ms/step - loss: 8.9167 - mse: 102.8461\n",
            "Epoch 264/500\n",
            "2/2 [==============================] - 0s 12ms/step - loss: 21.1923 - mse: 630.5023\n",
            "Epoch 265/500\n",
            "2/2 [==============================] - 0s 12ms/step - loss: 11.5630 - mse: 199.9462\n",
            "Epoch 266/500\n",
            "2/2 [==============================] - 0s 9ms/step - loss: 13.4187 - mse: 257.9185\n",
            "Epoch 267/500\n",
            "2/2 [==============================] - 0s 8ms/step - loss: 11.1584 - mse: 230.3735\n",
            "Epoch 268/500\n",
            "2/2 [==============================] - 0s 11ms/step - loss: 19.3163 - mse: 557.0684\n",
            "Epoch 269/500\n",
            "2/2 [==============================] - 0s 10ms/step - loss: 40.2208 - mse: 2504.4475\n",
            "Epoch 270/500\n",
            "2/2 [==============================] - 0s 8ms/step - loss: 12.6835 - mse: 248.6618\n",
            "Epoch 271/500\n",
            "2/2 [==============================] - 0s 8ms/step - loss: 14.8209 - mse: 280.9635\n",
            "Epoch 272/500\n",
            "2/2 [==============================] - 0s 8ms/step - loss: 28.6042 - mse: 1122.6854\n",
            "Epoch 273/500\n",
            "2/2 [==============================] - 0s 8ms/step - loss: 7.2979 - mse: 84.6080\n",
            "Epoch 274/500\n",
            "2/2 [==============================] - 0s 9ms/step - loss: 6.3842 - mse: 46.7724\n",
            "Epoch 275/500\n",
            "2/2 [==============================] - 0s 11ms/step - loss: 36.4035 - mse: 2025.8376\n",
            "Epoch 276/500\n",
            "2/2 [==============================] - 0s 9ms/step - loss: 8.2722 - mse: 112.0717\n",
            "Epoch 277/500\n",
            "2/2 [==============================] - 0s 8ms/step - loss: 27.3015 - mse: 1017.7360\n",
            "Epoch 278/500\n",
            "2/2 [==============================] - 0s 8ms/step - loss: 10.7786 - mse: 210.1380\n",
            "Epoch 279/500\n",
            "2/2 [==============================] - 0s 8ms/step - loss: 16.1900 - mse: 396.1054\n",
            "Epoch 280/500\n",
            "2/2 [==============================] - 0s 8ms/step - loss: 21.3980 - mse: 689.8065\n",
            "Epoch 281/500\n",
            "2/2 [==============================] - 0s 9ms/step - loss: 23.4037 - mse: 836.0861\n",
            "Epoch 282/500\n",
            "2/2 [==============================] - 0s 9ms/step - loss: 8.1797 - mse: 95.2045\n",
            "Epoch 283/500\n",
            "2/2 [==============================] - 0s 8ms/step - loss: 8.4085 - mse: 95.9939\n",
            "Epoch 284/500\n",
            "2/2 [==============================] - 0s 7ms/step - loss: 26.1258 - mse: 1036.3341\n",
            "Epoch 285/500\n",
            "2/2 [==============================] - 0s 7ms/step - loss: 14.7702 - mse: 345.8741\n",
            "Epoch 286/500\n",
            "2/2 [==============================] - 0s 7ms/step - loss: 8.6841 - mse: 151.8284\n",
            "Epoch 287/500\n",
            "2/2 [==============================] - 0s 8ms/step - loss: 22.5043 - mse: 741.2653\n",
            "Epoch 288/500\n",
            "2/2 [==============================] - 0s 8ms/step - loss: 22.8350 - mse: 779.2038\n",
            "Epoch 289/500\n",
            "2/2 [==============================] - 0s 8ms/step - loss: 12.2072 - mse: 242.1129\n",
            "Epoch 290/500\n",
            "2/2 [==============================] - 0s 8ms/step - loss: 16.7658 - mse: 379.7559\n",
            "Epoch 291/500\n",
            "2/2 [==============================] - 0s 7ms/step - loss: 17.1022 - mse: 430.4407\n",
            "Epoch 292/500\n",
            "2/2 [==============================] - 0s 7ms/step - loss: 10.2623 - mse: 247.3266\n",
            "Epoch 293/500\n",
            "2/2 [==============================] - 0s 7ms/step - loss: 15.0257 - mse: 305.3607\n",
            "Epoch 294/500\n",
            "2/2 [==============================] - 0s 7ms/step - loss: 22.1958 - mse: 750.4117\n",
            "Epoch 295/500\n",
            "2/2 [==============================] - 0s 7ms/step - loss: 19.0976 - mse: 522.6727\n",
            "Epoch 296/500\n",
            "2/2 [==============================] - 0s 7ms/step - loss: 6.6878 - mse: 60.4262\n",
            "Epoch 297/500\n",
            "2/2 [==============================] - 0s 13ms/step - loss: 9.7420 - mse: 201.7274\n",
            "Epoch 298/500\n",
            "2/2 [==============================] - 0s 12ms/step - loss: 23.8978 - mse: 830.6180\n",
            "Epoch 299/500\n",
            "2/2 [==============================] - 0s 8ms/step - loss: 18.6785 - mse: 520.8386\n",
            "Epoch 300/500\n",
            "2/2 [==============================] - 0s 7ms/step - loss: 8.2810 - mse: 100.6135\n",
            "Epoch 301/500\n",
            "2/2 [==============================] - 0s 11ms/step - loss: 18.6399 - mse: 483.3094\n",
            "Epoch 302/500\n",
            "2/2 [==============================] - 0s 7ms/step - loss: 7.1521 - mse: 75.5390\n",
            "Epoch 303/500\n",
            "2/2 [==============================] - 0s 7ms/step - loss: 16.9597 - mse: 421.6483\n",
            "Epoch 304/500\n",
            "2/2 [==============================] - 0s 7ms/step - loss: 11.8687 - mse: 207.7947\n",
            "Epoch 305/500\n",
            "2/2 [==============================] - 0s 6ms/step - loss: 9.0055 - mse: 121.5456\n",
            "Epoch 306/500\n",
            "2/2 [==============================] - 0s 7ms/step - loss: 21.5211 - mse: 651.3989\n",
            "Epoch 307/500\n",
            "2/2 [==============================] - 0s 11ms/step - loss: 8.3180 - mse: 143.4529\n",
            "Epoch 308/500\n",
            "2/2 [==============================] - 0s 13ms/step - loss: 21.0300 - mse: 676.2297\n",
            "Epoch 309/500\n",
            "2/2 [==============================] - 0s 9ms/step - loss: 19.0479 - mse: 520.7002\n",
            "Epoch 310/500\n",
            "2/2 [==============================] - 0s 9ms/step - loss: 5.9731 - mse: 75.8287\n",
            "Epoch 311/500\n",
            "2/2 [==============================] - 0s 7ms/step - loss: 8.8448 - mse: 159.2738\n",
            "Epoch 312/500\n",
            "2/2 [==============================] - 0s 7ms/step - loss: 29.9393 - mse: 1238.1262\n",
            "Epoch 313/500\n",
            "2/2 [==============================] - 0s 6ms/step - loss: 7.7521 - mse: 105.7854\n",
            "Epoch 314/500\n",
            "2/2 [==============================] - 0s 7ms/step - loss: 9.9338 - mse: 241.3706\n",
            "Epoch 315/500\n",
            "2/2 [==============================] - 0s 7ms/step - loss: 23.7521 - mse: 819.1877\n",
            "Epoch 316/500\n",
            "2/2 [==============================] - 0s 7ms/step - loss: 13.8635 - mse: 301.8238\n",
            "Epoch 317/500\n",
            "2/2 [==============================] - 0s 8ms/step - loss: 21.3465 - mse: 621.1006\n",
            "Epoch 318/500\n",
            "2/2 [==============================] - 0s 6ms/step - loss: 8.0668 - mse: 84.6378\n",
            "Epoch 319/500\n",
            "2/2 [==============================] - 0s 7ms/step - loss: 18.1796 - mse: 489.9174\n",
            "Epoch 320/500\n",
            "2/2 [==============================] - 0s 7ms/step - loss: 10.7075 - mse: 194.9520\n",
            "Epoch 321/500\n",
            "2/2 [==============================] - 0s 7ms/step - loss: 7.0940 - mse: 108.8279\n",
            "Epoch 322/500\n",
            "2/2 [==============================] - 0s 7ms/step - loss: 8.6901 - mse: 171.0262\n",
            "Epoch 323/500\n",
            "2/2 [==============================] - 0s 6ms/step - loss: 18.3435 - mse: 519.9155\n",
            "Epoch 324/500\n",
            "2/2 [==============================] - 0s 6ms/step - loss: 6.3529 - mse: 53.4715\n",
            "Epoch 325/500\n",
            "2/2 [==============================] - 0s 7ms/step - loss: 14.6266 - mse: 320.2000\n",
            "Epoch 326/500\n",
            "2/2 [==============================] - 0s 9ms/step - loss: 7.0300 - mse: 76.1445\n",
            "Epoch 327/500\n",
            "2/2 [==============================] - 0s 7ms/step - loss: 17.5993 - mse: 445.6135\n",
            "Epoch 328/500\n",
            "2/2 [==============================] - 0s 8ms/step - loss: 14.3894 - mse: 291.3571\n",
            "Epoch 329/500\n",
            "2/2 [==============================] - 0s 8ms/step - loss: 17.7098 - mse: 480.5079\n",
            "Epoch 330/500\n",
            "2/2 [==============================] - 0s 7ms/step - loss: 4.9711 - mse: 36.1837\n",
            "Epoch 331/500\n",
            "2/2 [==============================] - 0s 8ms/step - loss: 27.7884 - mse: 1222.0559\n",
            "Epoch 332/500\n",
            "2/2 [==============================] - 0s 8ms/step - loss: 16.5909 - mse: 394.8117\n",
            "Epoch 333/500\n",
            "2/2 [==============================] - 0s 7ms/step - loss: 10.0381 - mse: 162.1646\n",
            "Epoch 334/500\n",
            "2/2 [==============================] - 0s 8ms/step - loss: 6.5425 - mse: 94.4344\n",
            "Epoch 335/500\n",
            "2/2 [==============================] - 0s 7ms/step - loss: 6.2649 - mse: 54.9476\n",
            "Epoch 336/500\n",
            "2/2 [==============================] - 0s 7ms/step - loss: 34.2657 - mse: 1907.1316\n",
            "Epoch 337/500\n",
            "2/2 [==============================] - 0s 7ms/step - loss: 26.7285 - mse: 1043.1376\n",
            "Epoch 338/500\n",
            "2/2 [==============================] - 0s 7ms/step - loss: 13.8676 - mse: 292.4789\n",
            "Epoch 339/500\n",
            "2/2 [==============================] - 0s 7ms/step - loss: 11.1595 - mse: 194.7198\n",
            "Epoch 340/500\n",
            "2/2 [==============================] - 0s 7ms/step - loss: 5.2523 - mse: 42.6712\n",
            "Epoch 341/500\n",
            "2/2 [==============================] - 0s 7ms/step - loss: 30.0080 - mse: 1277.1534\n",
            "Epoch 342/500\n",
            "2/2 [==============================] - 0s 20ms/step - loss: 11.4122 - mse: 176.2081\n",
            "Epoch 343/500\n",
            "2/2 [==============================] - 0s 7ms/step - loss: 8.5923 - mse: 133.1805\n",
            "Epoch 344/500\n",
            "2/2 [==============================] - 0s 7ms/step - loss: 5.6207 - mse: 44.1146\n",
            "Epoch 345/500\n",
            "2/2 [==============================] - 0s 11ms/step - loss: 37.6656 - mse: 2316.3494\n",
            "Epoch 346/500\n",
            "2/2 [==============================] - 0s 9ms/step - loss: 16.9876 - mse: 415.4810\n",
            "Epoch 347/500\n",
            "2/2 [==============================] - 0s 11ms/step - loss: 12.9748 - mse: 284.4873\n",
            "Epoch 348/500\n",
            "2/2 [==============================] - 0s 8ms/step - loss: 7.7330 - mse: 136.4266\n",
            "Epoch 349/500\n",
            "2/2 [==============================] - 0s 8ms/step - loss: 14.0840 - mse: 267.2387\n",
            "Epoch 350/500\n",
            "2/2 [==============================] - 0s 6ms/step - loss: 15.6128 - mse: 359.5771\n",
            "Epoch 351/500\n",
            "2/2 [==============================] - 0s 10ms/step - loss: 33.2981 - mse: 1553.8279\n",
            "Epoch 352/500\n",
            "2/2 [==============================] - 0s 11ms/step - loss: 14.7036 - mse: 298.7979\n",
            "Epoch 353/500\n",
            "2/2 [==============================] - 0s 10ms/step - loss: 16.4903 - mse: 407.5440\n",
            "Epoch 354/500\n",
            "2/2 [==============================] - 0s 9ms/step - loss: 9.9744 - mse: 224.3180\n",
            "Epoch 355/500\n",
            "2/2 [==============================] - 0s 8ms/step - loss: 26.4521 - mse: 1002.7412\n",
            "Epoch 356/500\n",
            "2/2 [==============================] - 0s 12ms/step - loss: 11.0062 - mse: 207.0343\n",
            "Epoch 357/500\n",
            "2/2 [==============================] - 0s 12ms/step - loss: 13.2739 - mse: 288.1106\n",
            "Epoch 358/500\n",
            "2/2 [==============================] - 0s 10ms/step - loss: 14.6882 - mse: 327.3170\n",
            "Epoch 359/500\n",
            "2/2 [==============================] - 0s 8ms/step - loss: 12.3154 - mse: 314.1123\n",
            "Epoch 360/500\n",
            "2/2 [==============================] - 0s 7ms/step - loss: 20.3120 - mse: 620.1446\n",
            "Epoch 361/500\n",
            "2/2 [==============================] - 0s 8ms/step - loss: 10.9545 - mse: 219.8230\n",
            "Epoch 362/500\n",
            "2/2 [==============================] - 0s 8ms/step - loss: 6.8191 - mse: 77.1618\n",
            "Epoch 363/500\n",
            "2/2 [==============================] - 0s 8ms/step - loss: 23.9037 - mse: 831.4348\n",
            "Epoch 364/500\n",
            "2/2 [==============================] - 0s 8ms/step - loss: 29.6356 - mse: 1274.8783\n",
            "Epoch 365/500\n",
            "2/2 [==============================] - 0s 7ms/step - loss: 8.3177 - mse: 107.6249\n",
            "Epoch 366/500\n",
            "2/2 [==============================] - 0s 8ms/step - loss: 6.1004 - mse: 48.9414\n",
            "Epoch 367/500\n",
            "2/2 [==============================] - 0s 10ms/step - loss: 34.7552 - mse: 1833.2527\n",
            "Epoch 368/500\n",
            "2/2 [==============================] - 0s 10ms/step - loss: 7.3828 - mse: 100.8989\n",
            "Epoch 369/500\n",
            "2/2 [==============================] - 0s 12ms/step - loss: 9.1869 - mse: 128.4664\n",
            "Epoch 370/500\n",
            "2/2 [==============================] - 0s 7ms/step - loss: 10.8792 - mse: 205.7847\n",
            "Epoch 371/500\n",
            "2/2 [==============================] - 0s 7ms/step - loss: 8.9449 - mse: 140.5462\n",
            "Epoch 372/500\n",
            "2/2 [==============================] - 0s 11ms/step - loss: 7.7101 - mse: 141.9018\n",
            "Epoch 373/500\n",
            "2/2 [==============================] - 0s 10ms/step - loss: 25.0920 - mse: 921.4866\n",
            "Epoch 374/500\n",
            "2/2 [==============================] - 0s 8ms/step - loss: 13.1471 - mse: 280.5846\n",
            "Epoch 375/500\n",
            "2/2 [==============================] - 0s 8ms/step - loss: 11.8849 - mse: 214.0166\n",
            "Epoch 376/500\n",
            "2/2 [==============================] - 0s 8ms/step - loss: 14.1601 - mse: 286.7260\n",
            "Epoch 377/500\n",
            "2/2 [==============================] - 0s 10ms/step - loss: 15.7438 - mse: 319.6760\n",
            "Epoch 378/500\n",
            "2/2 [==============================] - 0s 8ms/step - loss: 17.0824 - mse: 466.6509\n",
            "Epoch 379/500\n",
            "2/2 [==============================] - 0s 9ms/step - loss: 19.3152 - mse: 533.1992\n",
            "Epoch 380/500\n",
            "2/2 [==============================] - 0s 7ms/step - loss: 15.6688 - mse: 384.2527\n",
            "Epoch 381/500\n",
            "2/2 [==============================] - 0s 7ms/step - loss: 11.4891 - mse: 217.2899\n",
            "Epoch 382/500\n",
            "2/2 [==============================] - 0s 7ms/step - loss: 16.3617 - mse: 358.1985\n",
            "Epoch 383/500\n",
            "2/2 [==============================] - 0s 11ms/step - loss: 22.1321 - mse: 754.8893\n",
            "Epoch 384/500\n",
            "2/2 [==============================] - 0s 8ms/step - loss: 7.7196 - mse: 82.4231\n",
            "Epoch 385/500\n",
            "2/2 [==============================] - 0s 8ms/step - loss: 10.6367 - mse: 272.0986\n",
            "Epoch 386/500\n",
            "2/2 [==============================] - 0s 10ms/step - loss: 19.1393 - mse: 572.5374\n",
            "Epoch 387/500\n",
            "2/2 [==============================] - 0s 7ms/step - loss: 26.3869 - mse: 1015.6553\n",
            "Epoch 388/500\n",
            "2/2 [==============================] - 0s 10ms/step - loss: 10.0551 - mse: 173.2612\n",
            "Epoch 389/500\n",
            "2/2 [==============================] - 0s 6ms/step - loss: 5.1686 - mse: 40.7800\n",
            "Epoch 390/500\n",
            "2/2 [==============================] - 0s 10ms/step - loss: 18.7315 - mse: 508.4399\n",
            "Epoch 391/500\n",
            "2/2 [==============================] - 0s 8ms/step - loss: 9.3601 - mse: 259.9886\n",
            "Epoch 392/500\n",
            "2/2 [==============================] - 0s 8ms/step - loss: 14.4288 - mse: 328.0956\n",
            "Epoch 393/500\n",
            "2/2 [==============================] - 0s 14ms/step - loss: 15.4379 - mse: 340.8994\n",
            "Epoch 394/500\n",
            "2/2 [==============================] - 0s 9ms/step - loss: 14.7656 - mse: 321.7016\n",
            "Epoch 395/500\n",
            "2/2 [==============================] - 0s 8ms/step - loss: 25.0127 - mse: 885.0625\n",
            "Epoch 396/500\n",
            "2/2 [==============================] - 0s 7ms/step - loss: 19.0470 - mse: 515.1290\n",
            "Epoch 397/500\n",
            "2/2 [==============================] - 0s 9ms/step - loss: 11.6076 - mse: 280.9936\n",
            "Epoch 398/500\n",
            "2/2 [==============================] - 0s 9ms/step - loss: 19.2781 - mse: 583.0295\n",
            "Epoch 399/500\n",
            "2/2 [==============================] - 0s 7ms/step - loss: 25.8132 - mse: 997.1808\n",
            "Epoch 400/500\n",
            "2/2 [==============================] - 0s 7ms/step - loss: 15.4887 - mse: 347.4621\n",
            "Epoch 401/500\n",
            "2/2 [==============================] - 0s 8ms/step - loss: 14.6888 - mse: 282.6251\n",
            "Epoch 402/500\n",
            "2/2 [==============================] - 0s 10ms/step - loss: 24.3238 - mse: 841.1185\n",
            "Epoch 403/500\n",
            "2/2 [==============================] - 0s 8ms/step - loss: 16.1782 - mse: 387.1912\n",
            "Epoch 404/500\n",
            "2/2 [==============================] - 0s 8ms/step - loss: 10.3762 - mse: 209.6137\n",
            "Epoch 405/500\n",
            "2/2 [==============================] - 0s 7ms/step - loss: 6.3872 - mse: 68.1230\n",
            "Epoch 406/500\n",
            "2/2 [==============================] - 0s 8ms/step - loss: 17.6348 - mse: 469.1335\n",
            "Epoch 407/500\n",
            "2/2 [==============================] - 0s 7ms/step - loss: 11.0601 - mse: 259.5831\n",
            "Epoch 408/500\n",
            "2/2 [==============================] - 0s 7ms/step - loss: 21.1426 - mse: 682.8053\n",
            "Epoch 409/500\n",
            "2/2 [==============================] - 0s 6ms/step - loss: 30.1039 - mse: 1398.0369\n",
            "Epoch 410/500\n",
            "2/2 [==============================] - 0s 10ms/step - loss: 9.8897 - mse: 240.2369\n",
            "Epoch 411/500\n",
            "2/2 [==============================] - 0s 7ms/step - loss: 14.7505 - mse: 282.3354\n",
            "Epoch 412/500\n",
            "2/2 [==============================] - 0s 7ms/step - loss: 21.5210 - mse: 709.3016\n",
            "Epoch 413/500\n",
            "2/2 [==============================] - 0s 8ms/step - loss: 13.2030 - mse: 269.4350\n",
            "Epoch 414/500\n",
            "2/2 [==============================] - 0s 10ms/step - loss: 8.2648 - mse: 183.8422\n",
            "Epoch 415/500\n",
            "2/2 [==============================] - 0s 12ms/step - loss: 11.6871 - mse: 242.9986\n",
            "Epoch 416/500\n",
            "2/2 [==============================] - 0s 7ms/step - loss: 25.5917 - mse: 911.5457\n",
            "Epoch 417/500\n",
            "2/2 [==============================] - 0s 7ms/step - loss: 15.8181 - mse: 381.2573\n",
            "Epoch 418/500\n",
            "2/2 [==============================] - 0s 8ms/step - loss: 12.5628 - mse: 232.0711\n",
            "Epoch 419/500\n",
            "2/2 [==============================] - 0s 10ms/step - loss: 15.7234 - mse: 359.9895\n",
            "Epoch 420/500\n",
            "2/2 [==============================] - 0s 9ms/step - loss: 24.4088 - mse: 828.0021\n",
            "Epoch 421/500\n",
            "2/2 [==============================] - 0s 6ms/step - loss: 18.3259 - mse: 489.4357\n",
            "Epoch 422/500\n",
            "2/2 [==============================] - 0s 10ms/step - loss: 8.6677 - mse: 203.9840\n",
            "Epoch 423/500\n",
            "2/2 [==============================] - 0s 10ms/step - loss: 24.6252 - mse: 859.4710\n",
            "Epoch 424/500\n",
            "2/2 [==============================] - 0s 10ms/step - loss: 16.9026 - mse: 440.0128\n",
            "Epoch 425/500\n",
            "2/2 [==============================] - 0s 10ms/step - loss: 7.3792 - mse: 78.7977\n",
            "Epoch 426/500\n",
            "2/2 [==============================] - 0s 9ms/step - loss: 21.0928 - mse: 615.8241\n",
            "Epoch 427/500\n",
            "2/2 [==============================] - 0s 9ms/step - loss: 6.5526 - mse: 82.8580\n",
            "Epoch 428/500\n",
            "2/2 [==============================] - 0s 11ms/step - loss: 13.5015 - mse: 300.5462\n",
            "Epoch 429/500\n",
            "2/2 [==============================] - 0s 7ms/step - loss: 11.2237 - mse: 202.6244\n",
            "Epoch 430/500\n",
            "2/2 [==============================] - 0s 7ms/step - loss: 12.1248 - mse: 274.3593\n",
            "Epoch 431/500\n",
            "2/2 [==============================] - 0s 8ms/step - loss: 9.1331 - mse: 164.5050\n",
            "Epoch 432/500\n",
            "2/2 [==============================] - 0s 8ms/step - loss: 15.6561 - mse: 371.1343\n",
            "Epoch 433/500\n",
            "2/2 [==============================] - 0s 7ms/step - loss: 11.9702 - mse: 298.8939\n",
            "Epoch 434/500\n",
            "2/2 [==============================] - 0s 11ms/step - loss: 30.4710 - mse: 1302.1936\n",
            "Epoch 435/500\n",
            "2/2 [==============================] - 0s 10ms/step - loss: 10.5460 - mse: 276.3033\n",
            "Epoch 436/500\n",
            "2/2 [==============================] - 0s 11ms/step - loss: 28.9684 - mse: 1222.6396\n",
            "Epoch 437/500\n",
            "2/2 [==============================] - 0s 9ms/step - loss: 8.7115 - mse: 205.5698\n",
            "Epoch 438/500\n",
            "2/2 [==============================] - 0s 7ms/step - loss: 12.7641 - mse: 260.3196\n",
            "Epoch 439/500\n",
            "2/2 [==============================] - 0s 7ms/step - loss: 33.7295 - mse: 1575.0217\n",
            "Epoch 440/500\n",
            "2/2 [==============================] - 0s 10ms/step - loss: 15.1885 - mse: 298.4049\n",
            "Epoch 441/500\n",
            "2/2 [==============================] - 0s 8ms/step - loss: 17.5511 - mse: 493.8366\n",
            "Epoch 442/500\n",
            "2/2 [==============================] - 0s 7ms/step - loss: 22.4470 - mse: 758.7596\n",
            "Epoch 443/500\n",
            "2/2 [==============================] - 0s 6ms/step - loss: 23.2461 - mse: 760.6207\n",
            "Epoch 444/500\n",
            "2/2 [==============================] - 0s 7ms/step - loss: 10.7318 - mse: 197.1436\n",
            "Epoch 445/500\n",
            "2/2 [==============================] - 0s 11ms/step - loss: 15.0040 - mse: 321.3973\n",
            "Epoch 446/500\n",
            "2/2 [==============================] - 0s 11ms/step - loss: 18.1236 - mse: 522.6320\n",
            "Epoch 447/500\n",
            "2/2 [==============================] - 0s 7ms/step - loss: 5.3339 - mse: 51.5726\n",
            "Epoch 448/500\n",
            "2/2 [==============================] - 0s 8ms/step - loss: 10.1735 - mse: 249.2148\n",
            "Epoch 449/500\n",
            "2/2 [==============================] - 0s 9ms/step - loss: 14.1014 - mse: 279.8400\n",
            "Epoch 450/500\n",
            "2/2 [==============================] - 0s 8ms/step - loss: 16.8738 - mse: 430.8698\n",
            "Epoch 451/500\n",
            "2/2 [==============================] - 0s 9ms/step - loss: 14.3379 - mse: 307.7585\n",
            "Epoch 452/500\n",
            "2/2 [==============================] - 0s 9ms/step - loss: 30.7011 - mse: 1336.2773\n",
            "Epoch 453/500\n",
            "2/2 [==============================] - 0s 8ms/step - loss: 8.4168 - mse: 200.4727\n",
            "Epoch 454/500\n",
            "2/2 [==============================] - 0s 8ms/step - loss: 27.6166 - mse: 1065.7830\n",
            "Epoch 455/500\n",
            "2/2 [==============================] - 0s 7ms/step - loss: 10.0301 - mse: 191.3972\n",
            "Epoch 456/500\n",
            "2/2 [==============================] - 0s 9ms/step - loss: 14.5757 - mse: 288.2884\n",
            "Epoch 457/500\n",
            "2/2 [==============================] - 0s 8ms/step - loss: 17.7291 - mse: 478.8720\n",
            "Epoch 458/500\n",
            "2/2 [==============================] - 0s 10ms/step - loss: 14.0360 - mse: 270.0309\n",
            "Epoch 459/500\n",
            "2/2 [==============================] - 0s 7ms/step - loss: 25.9308 - mse: 970.5479\n",
            "Epoch 460/500\n",
            "2/2 [==============================] - 0s 8ms/step - loss: 14.9652 - mse: 333.5139\n",
            "Epoch 461/500\n",
            "2/2 [==============================] - 0s 12ms/step - loss: 11.9639 - mse: 264.4626\n",
            "Epoch 462/500\n",
            "2/2 [==============================] - 0s 7ms/step - loss: 13.2847 - mse: 244.2186\n",
            "Epoch 463/500\n",
            "2/2 [==============================] - 0s 7ms/step - loss: 29.4791 - mse: 1214.0833\n",
            "Epoch 464/500\n",
            "2/2 [==============================] - 0s 7ms/step - loss: 3.2447 - mse: 14.3431\n",
            "Epoch 465/500\n",
            "2/2 [==============================] - 0s 7ms/step - loss: 7.6155 - mse: 153.2801\n",
            "Epoch 466/500\n",
            "2/2 [==============================] - 0s 9ms/step - loss: 16.5361 - mse: 443.5388\n",
            "Epoch 467/500\n",
            "2/2 [==============================] - 0s 6ms/step - loss: 17.5151 - mse: 482.3534\n",
            "Epoch 468/500\n",
            "2/2 [==============================] - 0s 10ms/step - loss: 12.9319 - mse: 246.1367\n",
            "Epoch 469/500\n",
            "2/2 [==============================] - 0s 7ms/step - loss: 29.2294 - mse: 1190.0735\n",
            "Epoch 470/500\n",
            "2/2 [==============================] - 0s 7ms/step - loss: 7.2680 - mse: 95.3293\n",
            "Epoch 471/500\n",
            "2/2 [==============================] - 0s 8ms/step - loss: 26.1768 - mse: 1006.9357\n",
            "Epoch 472/500\n",
            "2/2 [==============================] - 0s 7ms/step - loss: 12.4615 - mse: 240.5839\n",
            "Epoch 473/500\n",
            "2/2 [==============================] - 0s 9ms/step - loss: 14.8053 - mse: 357.0914\n",
            "Epoch 474/500\n",
            "2/2 [==============================] - 0s 7ms/step - loss: 18.7717 - mse: 547.4377\n",
            "Epoch 475/500\n",
            "2/2 [==============================] - 0s 6ms/step - loss: 12.1197 - mse: 236.4430\n",
            "Epoch 476/500\n",
            "2/2 [==============================] - 0s 7ms/step - loss: 13.7394 - mse: 262.8475\n",
            "Epoch 477/500\n",
            "2/2 [==============================] - 0s 6ms/step - loss: 30.3915 - mse: 1287.1698\n",
            "Epoch 478/500\n",
            "2/2 [==============================] - 0s 9ms/step - loss: 7.5112 - mse: 158.6092\n",
            "Epoch 479/500\n",
            "2/2 [==============================] - 0s 9ms/step - loss: 11.3601 - mse: 265.1591\n",
            "Epoch 480/500\n",
            "2/2 [==============================] - 0s 12ms/step - loss: 18.0296 - mse: 494.2564\n",
            "Epoch 481/500\n",
            "2/2 [==============================] - 0s 13ms/step - loss: 15.9074 - mse: 376.0424\n",
            "Epoch 482/500\n",
            "2/2 [==============================] - 0s 10ms/step - loss: 21.5142 - mse: 709.4036\n",
            "Epoch 483/500\n",
            "2/2 [==============================] - 0s 7ms/step - loss: 24.9334 - mse: 916.5248\n",
            "Epoch 484/500\n",
            "2/2 [==============================] - 0s 10ms/step - loss: 23.5001 - mse: 776.9865\n",
            "Epoch 485/500\n",
            "2/2 [==============================] - 0s 10ms/step - loss: 5.6909 - mse: 53.7785\n",
            "Epoch 486/500\n",
            "2/2 [==============================] - 0s 10ms/step - loss: 19.4534 - mse: 534.3630\n",
            "Epoch 487/500\n",
            "2/2 [==============================] - 0s 11ms/step - loss: 13.9754 - mse: 280.9519\n",
            "Epoch 488/500\n",
            "2/2 [==============================] - 0s 7ms/step - loss: 30.4831 - mse: 1324.5425\n",
            "Epoch 489/500\n",
            "2/2 [==============================] - 0s 6ms/step - loss: 11.7411 - mse: 238.4934\n",
            "Epoch 490/500\n",
            "2/2 [==============================] - 0s 7ms/step - loss: 12.4553 - mse: 244.2075\n",
            "Epoch 491/500\n",
            "2/2 [==============================] - 0s 12ms/step - loss: 23.6354 - mse: 839.1086\n",
            "Epoch 492/500\n",
            "2/2 [==============================] - 0s 7ms/step - loss: 20.4915 - mse: 589.7028\n",
            "Epoch 493/500\n",
            "2/2 [==============================] - 0s 7ms/step - loss: 4.9832 - mse: 48.1242\n",
            "Epoch 494/500\n",
            "2/2 [==============================] - 0s 14ms/step - loss: 12.7575 - mse: 246.5312\n",
            "Epoch 495/500\n",
            "2/2 [==============================] - 0s 14ms/step - loss: 13.3960 - mse: 239.8354\n",
            "Epoch 496/500\n",
            "2/2 [==============================] - 0s 11ms/step - loss: 12.6857 - mse: 241.5914\n",
            "Epoch 497/500\n",
            "2/2 [==============================] - 0s 8ms/step - loss: 17.6421 - mse: 516.4664\n",
            "Epoch 498/500\n",
            "2/2 [==============================] - 0s 8ms/step - loss: 23.5121 - mse: 812.6647\n",
            "Epoch 499/500\n",
            "2/2 [==============================] - 0s 8ms/step - loss: 9.3331 - mse: 135.1156\n",
            "Epoch 500/500\n",
            "2/2 [==============================] - 0s 8ms/step - loss: 14.6367 - mse: 295.8139\n"
          ]
        },
        {
          "output_type": "execute_result",
          "data": {
            "text/plain": [
              "<keras.callbacks.History at 0x7da21f5ff1f0>"
            ]
          },
          "metadata": {},
          "execution_count": 314
        }
      ]
    },
    {
      "cell_type": "code",
      "source": [
        "#make plot prediction model2\n",
        "ypred3=model3.predict(X_test)\n",
        "plot_predictions(prediction=ypred2)"
      ],
      "metadata": {
        "colab": {
          "base_uri": "https://localhost:8080/",
          "height": 480
        },
        "id": "lYgRpTm4598Y",
        "outputId": "f5b9d6b1-15ee-44b4-ae00-8310ceb0cb17"
      },
      "execution_count": null,
      "outputs": [
        {
          "output_type": "stream",
          "name": "stdout",
          "text": [
            "1/1 [==============================] - 0s 98ms/step\n"
          ]
        },
        {
          "output_type": "display_data",
          "data": {
            "text/plain": [
              "<Figure size 1000x700 with 1 Axes>"
            ],
            "image/png": "[encoded data removed]"
          },
          "metadata": {}
        }
      ]
    },
    {
      "cell_type": "code",
      "source": [
        "mae_3=mae(y_test,ypred3)\n",
        "mse_3=mse(y_test,ypred3)\n",
        "mae_3,mse_3\n"
      ],
      "metadata": {
        "colab": {
          "base_uri": "https://localhost:8080/"
        },
        "id": "ZIDPpUtI7kIZ",
        "outputId": "4dd8412d-27c8-4029-995c-8023f9a2e080"
      },
      "execution_count": null,
      "outputs": [
        {
          "output_type": "execute_result",
          "data": {
            "text/plain": [
              "(<tf.Tensor: shape=(), dtype=float32, numpy=68.72901>,\n",
              " <tf.Tensor: shape=(), dtype=float32, numpy=4810.1924>)"
            ]
          },
          "metadata": {},
          "execution_count": 316
        }
      ]
    },
    {
      "cell_type": "code",
      "source": [],
      "metadata": {
        "id": "_KXkP9IJ7230"
      },
      "execution_count": null,
      "outputs": []
    },
    {
      "cell_type": "markdown",
      "source": [
        "# **Comparing the models**"
      ],
      "metadata": {
        "id": "LJGRGXJV855U"
      }
    },
    {
      "cell_type": "code",
      "source": [
        "#Let's compare models result using pandas Dataframe\n",
        "import pandas as pd\n",
        "model_results = [[\"model1\", mae_1.numpy(), mse_1.numpy()],\n",
        "                 [\"model2\", mae_2.numpy(), mse_2.numpy()],\n",
        "                 [\"model3\", mae_3.numpy(), mse_3.numpy()]]"
      ],
      "metadata": {
        "id": "HcBKiGIy875N"
      },
      "execution_count": null,
      "outputs": []
    },
    {
      "cell_type": "code",
      "source": [
        "import pandas as pd\n",
        "all_results = pd.DataFrame(model_results, columns=[\"model\", \"mae\", \"mse\"])\n",
        "all_results"
      ],
      "metadata": {
        "colab": {
          "base_uri": "https://localhost:8080/",
          "height": 143
        },
        "id": "bUpjyymA-RUo",
        "outputId": "27a7e558-fefc-41e7-c14b-59d8801bcd70"
      },
      "execution_count": null,
      "outputs": [
        {
          "output_type": "execute_result",
          "data": {
            "text/plain": [
              "    model        mae          mse\n",
              "0  model1  30.595028   946.450317\n",
              "1  model2  10.615133   120.437340\n",
              "2  model3  68.729012  4810.192383"
            ],
            "text/html": [
              "\n",
              "  <div id=\"df-2610e878-493e-47c4-9fb4-6f365a8b01e2\" class=\"colab-df-container\">\n",
              "    <div>\n",
              "<style scoped>\n",
              "    .dataframe tbody tr th:only-of-type {\n",
              "        vertical-align: middle;\n",
              "    }\n",
              "\n",
              "    .dataframe tbody tr th {\n",
              "        vertical-align: top;\n",
              "    }\n",
              "\n",
              "    .dataframe thead th {\n",
              "        text-align: right;\n",
              "    }\n",
              "</style>\n",
              "<table border=\"1\" class=\"dataframe\">\n",
              "  <thead>\n",
              "    <tr style=\"text-align: right;\">\n",
              "      <th></th>\n",
              "      <th>model</th>\n",
              "      <th>mae</th>\n",
              "      <th>mse</th>\n",
              "    </tr>\n",
              "  </thead>\n",
              "  <tbody>\n",
              "    <tr>\n",
              "      <th>0</th>\n",
              "      <td>model1</td>\n",
              "      <td>30.595028</td>\n",
              "      <td>946.450317</td>\n",
              "    </tr>\n",
              "    <tr>\n",
              "      <th>1</th>\n",
              "      <td>model2</td>\n",
              "      <td>10.615133</td>\n",
              "      <td>120.437340</td>\n",
              "    </tr>\n",
              "    <tr>\n",
              "      <th>2</th>\n",
              "      <td>model3</td>\n",
              "      <td>68.729012</td>\n",
              "      <td>4810.192383</td>\n",
              "    </tr>\n",
              "  </tbody>\n",
              "</table>\n",
              "</div>\n",
              "    <div class=\"colab-df-buttons\">\n",
              "\n",
              "  <div class=\"colab-df-container\">\n",
              "    <button class=\"colab-df-convert\" onclick=\"convertToInteractive('df-2610e878-493e-47c4-9fb4-6f365a8b01e2')\"\n",
              "            title=\"Convert this dataframe to an interactive table.\"\n",
              "            style=\"display:none;\">\n",
              "\n",
              "  <svg xmlns=\"http://www.w3.org/2000/svg\" height=\"24px\" viewBox=\"0 -960 960 960\">\n",
              "    <path d=\"M120-120v-720h720v720H120Zm60-500h600v-160H180v160Zm220 220h160v-160H400v160Zm0 220h160v-160H400v160ZM180-400h160v-160H180v160Zm440 0h160v-160H620v160ZM180-180h160v-160H180v160Zm440 0h160v-160H620v160Z\"/>\n",
              "  </svg>\n",
              "    </button>\n",
              "\n",
              "  <style>\n",
              "    .colab-df-container {\n",
              "      display:flex;\n",
              "      gap: 12px;\n",
              "    }\n",
              "\n",
              "    .colab-df-convert {\n",
              "      background-color: #E8F0FE;\n",
              "      border: none;\n",
              "      border-radius: 50%;\n",
              "      cursor: pointer;\n",
              "      display: none;\n",
              "      fill: #1967D2;\n",
              "      height: 32px;\n",
              "      padding: 0 0 0 0;\n",
              "      width: 32px;\n",
              "    }\n",
              "\n",
              "    .colab-df-convert:hover {\n",
              "      background-color: #E2EBFA;\n",
              "      box-shadow: 0px 1px 2px rgba(60, 64, 67, 0.3), 0px 1px 3px 1px rgba(60, 64, 67, 0.15);\n",
              "      fill: #174EA6;\n",
              "    }\n",
              "\n",
              "    .colab-df-buttons div {\n",
              "      margin-bottom: 4px;\n",
              "    }\n",
              "\n",
              "    [theme=dark] .colab-df-convert {\n",
              "      background-color: #3B4455;\n",
              "      fill: #D2E3FC;\n",
              "    }\n",
              "\n",
              "    [theme=dark] .colab-df-convert:hover {\n",
              "      background-color: #434B5C;\n",
              "      box-shadow: 0px 1px 3px 1px rgba(0, 0, 0, 0.15);\n",
              "      filter: drop-shadow(0px 1px 2px rgba(0, 0, 0, 0.3));\n",
              "      fill: #FFFFFF;\n",
              "    }\n",
              "  </style>\n",
              "\n",
              "    <script>\n",
              "      const buttonEl =\n",
              "        document.querySelector('#df-2610e878-493e-47c4-9fb4-6f365a8b01e2 button.colab-df-convert');\n",
              "      buttonEl.style.display =\n",
              "        google.colab.kernel.accessAllowed ? 'block' : 'none';\n",
              "\n",
              "      async function convertToInteractive(key) {\n",
              "        const element = document.querySelector('#df-2610e878-493e-47c4-9fb4-6f365a8b01e2');\n",
              "        const dataTable =\n",
              "          await google.colab.kernel.invokeFunction('convertToInteractive',\n",
              "                                                    [key], {});\n",
              "        if (!dataTable) return;\n",
              "\n",
              "        const docLinkHtml = 'Like what you see? Visit the ' +\n",
              "          '<a target=\"_blank\" href=https://colab.research.google.com/notebooks/data_table.ipynb>data table notebook</a>'\n",
              "          + ' to learn more about interactive tables.';\n",
              "        element.innerHTML = '';\n",
              "        dataTable['output_type'] = 'display_data';\n",
              "        await google.colab.output.renderOutput(dataTable, element);\n",
              "        const docLink = document.createElement('div');\n",
              "        docLink.innerHTML = docLinkHtml;\n",
              "        element.appendChild(docLink);\n",
              "      }\n",
              "    </script>\n",
              "  </div>\n",
              "\n",
              "\n",
              "<div id=\"df-f5277769-1b0a-4665-b9fa-ce7ff3d97c82\">\n",
              "  <button class=\"colab-df-quickchart\" onclick=\"quickchart('df-f5277769-1b0a-4665-b9fa-ce7ff3d97c82')\"\n",
              "            title=\"Suggest charts\"\n",
              "            style=\"display:none;\">\n",
              "\n",
              "<svg xmlns=\"http://www.w3.org/2000/svg\" height=\"24px\"viewBox=\"0 0 24 24\"\n",
              "     width=\"24px\">\n",
              "    <g>\n",
              "        <path d=\"M19 3H5c-1.1 0-2 .9-2 2v14c0 1.1.9 2 2 2h14c1.1 0 2-.9 2-2V5c0-1.1-.9-2-2-2zM9 17H7v-7h2v7zm4 0h-2V7h2v10zm4 0h-2v-4h2v4z\"/>\n",
              "    </g>\n",
              "</svg>\n",
              "  </button>\n",
              "\n",
              "<style>\n",
              "  .colab-df-quickchart {\n",
              "      --bg-color: #E8F0FE;\n",
              "      --fill-color: #1967D2;\n",
              "      --hover-bg-color: #E2EBFA;\n",
              "      --hover-fill-color: #174EA6;\n",
              "      --disabled-fill-color: #AAA;\n",
              "      --disabled-bg-color: #DDD;\n",
              "  }\n",
              "\n",
              "  [theme=dark] .colab-df-quickchart {\n",
              "      --bg-color: #3B4455;\n",
              "      --fill-color: #D2E3FC;\n",
              "      --hover-bg-color: #434B5C;\n",
              "      --hover-fill-color: #FFFFFF;\n",
              "      --disabled-bg-color: #3B4455;\n",
              "      --disabled-fill-color: #666;\n",
              "  }\n",
              "\n",
              "  .colab-df-quickchart {\n",
              "    background-color: var(--bg-color);\n",
              "    border: none;\n",
              "    border-radius: 50%;\n",
              "    cursor: pointer;\n",
              "    display: none;\n",
              "    fill: var(--fill-color);\n",
              "    height: 32px;\n",
              "    padding: 0;\n",
              "    width: 32px;\n",
              "  }\n",
              "\n",
              "  .colab-df-quickchart:hover {\n",
              "    background-color: var(--hover-bg-color);\n",
              "    box-shadow: 0 1px 2px rgba(60, 64, 67, 0.3), 0 1px 3px 1px rgba(60, 64, 67, 0.15);\n",
              "    fill: var(--button-hover-fill-color);\n",
              "  }\n",
              "\n",
              "  .colab-df-quickchart-complete:disabled,\n",
              "  .colab-df-quickchart-complete:disabled:hover {\n",
              "    background-color: var(--disabled-bg-color);\n",
              "    fill: var(--disabled-fill-color);\n",
              "    box-shadow: none;\n",
              "  }\n",
              "\n",
              "  .colab-df-spinner {\n",
              "    border: 2px solid var(--fill-color);\n",
              "    border-color: transparent;\n",
              "    border-bottom-color: var(--fill-color);\n",
              "    animation:\n",
              "      spin 1s steps(1) infinite;\n",
              "  }\n",
              "\n",
              "  @keyframes spin {\n",
              "    0% {\n",
              "      border-color: transparent;\n",
              "      border-bottom-color: var(--fill-color);\n",
              "      border-left-color: var(--fill-color);\n",
              "    }\n",
              "    20% {\n",
              "      border-color: transparent;\n",
              "      border-left-color: var(--fill-color);\n",
              "      border-top-color: var(--fill-color);\n",
              "    }\n",
              "    30% {\n",
              "      border-color: transparent;\n",
              "      border-left-color: var(--fill-color);\n",
              "      border-top-color: var(--fill-color);\n",
              "      border-right-color: var(--fill-color);\n",
              "    }\n",
              "    40% {\n",
              "      border-color: transparent;\n",
              "      border-right-color: var(--fill-color);\n",
              "      border-top-color: var(--fill-color);\n",
              "    }\n",
              "    60% {\n",
              "      border-color: transparent;\n",
              "      border-right-color: var(--fill-color);\n",
              "    }\n",
              "    80% {\n",
              "      border-color: transparent;\n",
              "      border-right-color: var(--fill-color);\n",
              "      border-bottom-color: var(--fill-color);\n",
              "    }\n",
              "    90% {\n",
              "      border-color: transparent;\n",
              "      border-bottom-color: var(--fill-color);\n",
              "    }\n",
              "  }\n",
              "</style>\n",
              "\n",
              "  <script>\n",
              "    async function quickchart(key) {\n",
              "      const quickchartButtonEl =\n",
              "        document.querySelector('#' + key + ' button');\n",
              "      quickchartButtonEl.disabled = true;  // To prevent multiple clicks.\n",
              "      quickchartButtonEl.classList.add('colab-df-spinner');\n",
              "      try {\n",
              "        const charts = await google.colab.kernel.invokeFunction(\n",
              "            'suggestCharts', [key], {});\n",
              "      } catch (error) {\n",
              "        console.error('Error during call to suggestCharts:', error);\n",
              "      }\n",
              "      quickchartButtonEl.classList.remove('colab-df-spinner');\n",
              "      quickchartButtonEl.classList.add('colab-df-quickchart-complete');\n",
              "    }\n",
              "    (() => {\n",
              "      let quickchartButtonEl =\n",
              "        document.querySelector('#df-f5277769-1b0a-4665-b9fa-ce7ff3d97c82 button');\n",
              "      quickchartButtonEl.style.display =\n",
              "        google.colab.kernel.accessAllowed ? 'block' : 'none';\n",
              "    })();\n",
              "  </script>\n",
              "</div>\n",
              "\n",
              "  <div id=\"id_9d94c7dc-9d30-44b4-a2ab-a34a4772199c\">\n",
              "    <style>\n",
              "      .colab-df-generate {\n",
              "        background-color: #E8F0FE;\n",
              "        border: none;\n",
              "        border-radius: 50%;\n",
              "        cursor: pointer;\n",
              "        display: none;\n",
              "        fill: #1967D2;\n",
              "        height: 32px;\n",
              "        padding: 0 0 0 0;\n",
              "        width: 32px;\n",
              "      }\n",
              "\n",
              "      .colab-df-generate:hover {\n",
              "        background-color: #E2EBFA;\n",
              "        box-shadow: 0px 1px 2px rgba(60, 64, 67, 0.3), 0px 1px 3px 1px rgba(60, 64, 67, 0.15);\n",
              "        fill: #174EA6;\n",
              "      }\n",
              "\n",
              "      [theme=dark] .colab-df-generate {\n",
              "        background-color: #3B4455;\n",
              "        fill: #D2E3FC;\n",
              "      }\n",
              "\n",
              "      [theme=dark] .colab-df-generate:hover {\n",
              "        background-color: #434B5C;\n",
              "        box-shadow: 0px 1px 3px 1px rgba(0, 0, 0, 0.15);\n",
              "        filter: drop-shadow(0px 1px 2px rgba(0, 0, 0, 0.3));\n",
              "        fill: #FFFFFF;\n",
              "      }\n",
              "    </style>\n",
              "    <button class=\"colab-df-generate\" onclick=\"generateWithVariable('all_results')\"\n",
              "            title=\"Generate code using this dataframe.\"\n",
              "            style=\"display:none;\">\n",
              "\n",
              "  <svg xmlns=\"http://www.w3.org/2000/svg\" height=\"24px\"viewBox=\"0 0 24 24\"\n",
              "       width=\"24px\">\n",
              "    <path d=\"M7,19H8.4L18.45,9,17,7.55,7,17.6ZM5,21V16.75L18.45,3.32a2,2,0,0,1,2.83,0l1.4,1.43a1.91,1.91,0,0,1,.58,1.4,1.91,1.91,0,0,1-.58,1.4L9.25,21ZM18.45,9,17,7.55Zm-12,3A5.31,5.31,0,0,0,4.9,8.1,5.31,5.31,0,0,0,1,6.5,5.31,5.31,0,0,0,4.9,4.9,5.31,5.31,0,0,0,6.5,1,5.31,5.31,0,0,0,8.1,4.9,5.31,5.31,0,0,0,12,6.5,5.46,5.46,0,0,0,6.5,12Z\"/>\n",
              "  </svg>\n",
              "    </button>\n",
              "    <script>\n",
              "      (() => {\n",
              "      const buttonEl =\n",
              "        document.querySelector('#id_9d94c7dc-9d30-44b4-a2ab-a34a4772199c button.colab-df-generate');\n",
              "      buttonEl.style.display =\n",
              "        google.colab.kernel.accessAllowed ? 'block' : 'none';\n",
              "\n",
              "      buttonEl.onclick = () => {\n",
              "        google.colab.notebook.generateWithVariable('all_results');\n",
              "      }\n",
              "      })();\n",
              "    </script>\n",
              "  </div>\n",
              "\n",
              "    </div>\n",
              "  </div>\n"
            ]
          },
          "metadata": {},
          "execution_count": 318
        }
      ]
    },
    {
      "cell_type": "code",
      "source": [
        "model2.summary() #Best among all"
      ],
      "metadata": {
        "colab": {
          "base_uri": "https://localhost:8080/"
        },
        "id": "dCNQ749H-Tfu",
        "outputId": "263587ae-efdd-481f-c21f-0550acf9fe16"
      },
      "execution_count": null,
      "outputs": [
        {
          "output_type": "stream",
          "name": "stdout",
          "text": [
            "Model: \"sequential_36\"\n",
            "_________________________________________________________________\n",
            " Layer (type)                Output Shape              Param #   \n",
            "=================================================================\n",
            " dense_57 (Dense)            (None, 10)                20        \n",
            "                                                                 \n",
            " dense_58 (Dense)            (None, 1)                 11        \n",
            "                                                                 \n",
            "=================================================================\n",
            "Total params: 31\n",
            "Trainable params: 31\n",
            "Non-trainable params: 0\n",
            "_________________________________________________________________\n"
          ]
        }
      ]
    },
    {
      "cell_type": "code",
      "source": [],
      "metadata": {
        "id": "FKHKc2BhNfNm"
      },
      "execution_count": null,
      "outputs": []
    },
    {
      "cell_type": "markdown",
      "source": [
        "One of your goal should be to minimize the time between your experiments. The more experiments you do, the more things you will figure out which don't work and in turn, get closer to figuring out what does work.**Remeber the machine learning practioner's motto: \"Experiment, Experiment, Experiment**\n",
        "\n",
        "\n",
        "---\n",
        "\n",
        "\n",
        "# Tracking your experiments\n",
        "\n",
        "One really good habit to get into is tracking your modelling experiments to see which perform better than others.\n",
        "\n",
        "We've done a simple version of this above (keeping the results in different variables).\n",
        "\n",
        "📖 Resource: But as you build more models, you'll want to look into using tools such as:\n",
        "\n",
        "\n",
        "1.   TensorBoard - a component of the TensorFlow library to help track modelling experiments (we'll see this later).\n",
        "\n",
        "2.  Weights & Biases - a tool for tracking all kinds of machine learning experiments (the good news for Weights & Biases is it plugs into TensorBoard)."
      ],
      "metadata": {
        "id": "VF5s4uPbC3Xz"
      }
    },
    {
      "cell_type": "code",
      "source": [
        "#Saving the model\n",
        "model2.save(\"Best_model\")"
      ],
      "metadata": {
        "colab": {
          "base_uri": "https://localhost:8080/"
        },
        "id": "0KsIxzt8-yLh",
        "outputId": "12513fc8-4f8a-4b52-8447-28c09a0ff362"
      },
      "execution_count": null,
      "outputs": [
        {
          "output_type": "stream",
          "name": "stderr",
          "text": [
            "WARNING:absl:Found untraced functions such as _update_step_xla while saving (showing 1 of 1). These functions will not be directly callable after loading.\n"
          ]
        }
      ]
    },
    {
      "cell_type": "code",
      "source": [
        "#Saving model using the HDFC format\n",
        "model2.save(\"Best_model2.h5\")"
      ],
      "metadata": {
        "id": "2zozt1rHHZec"
      },
      "execution_count": null,
      "outputs": []
    },
    {
      "cell_type": "markdown",
      "source": [
        "# **Load the model**"
      ],
      "metadata": {
        "id": "ymyWqWmHNeJp"
      }
    },
    {
      "cell_type": "code",
      "source": [
        "SaveModel_format=tf.keras.models.load_model(\"/content/Best_model\")"
      ],
      "metadata": {
        "id": "a082HZvGJAKs"
      },
      "execution_count": null,
      "outputs": []
    },
    {
      "cell_type": "code",
      "source": [
        "SaveModel_format.predict(X_test)"
      ],
      "metadata": {
        "colab": {
          "base_uri": "https://localhost:8080/"
        },
        "id": "vVnLqX_dQZSA",
        "outputId": "a3722c54-76a8-46d1-a534-1a35a2ac3825"
      },
      "execution_count": null,
      "outputs": [
        {
          "output_type": "stream",
          "name": "stdout",
          "text": [
            "1/1 [==============================] - 0s 251ms/step\n"
          ]
        },
        {
          "output_type": "execute_result",
          "data": {
            "text/plain": [
              "array([[ 76.25186 ],\n",
              "       [ 81.22148 ],\n",
              "       [ 86.191086],\n",
              "       [ 91.16071 ],\n",
              "       [ 96.130325],\n",
              "       [101.099945],\n",
              "       [106.06956 ],\n",
              "       [111.03918 ],\n",
              "       [116.00879 ],\n",
              "       [120.9784  ]], dtype=float32)"
            ]
          },
          "metadata": {},
          "execution_count": 323
        }
      ]
    },
    {
      "cell_type": "code",
      "source": [
        "SaveModel_format.summary()"
      ],
      "metadata": {
        "colab": {
          "base_uri": "https://localhost:8080/"
        },
        "id": "XUPRNNhsQlFQ",
        "outputId": "b8eaf84c-4825-41c3-b416-153bceb8f3e8"
      },
      "execution_count": null,
      "outputs": [
        {
          "output_type": "stream",
          "name": "stdout",
          "text": [
            "Model: \"sequential_36\"\n",
            "_________________________________________________________________\n",
            " Layer (type)                Output Shape              Param #   \n",
            "=================================================================\n",
            " dense_57 (Dense)            (None, 10)                20        \n",
            "                                                                 \n",
            " dense_58 (Dense)            (None, 1)                 11        \n",
            "                                                                 \n",
            "=================================================================\n",
            "Total params: 31\n",
            "Trainable params: 31\n",
            "Non-trainable params: 0\n",
            "_________________________________________________________________\n"
          ]
        }
      ]
    },
    {
      "cell_type": "markdown",
      "source": [
        "# **A Larger Model**"
      ],
      "metadata": {
        "id": "UhIApHGoXncN"
      }
    },
    {
      "cell_type": "code",
      "source": [
        "# Import required libraries\n",
        "import tensorflow as tf\n",
        "import pandas as pd\n",
        "import matplotlib.pyplot as plt"
      ],
      "metadata": {
        "id": "9P9CKmQZVGIP"
      },
      "execution_count": null,
      "outputs": []
    },
    {
      "cell_type": "code",
      "source": [
        "# Read in the insurance dataset\n",
        "df = pd.read_csv(\"https://raw.githubusercontent.com/stedy/Machine-Learning-with-R-datasets/master/insurance.csv\")"
      ],
      "metadata": {
        "id": "bwEemnWmlJPk"
      },
      "execution_count": null,
      "outputs": []
    },
    {
      "cell_type": "code",
      "source": [
        "df.head()"
      ],
      "metadata": {
        "colab": {
          "base_uri": "https://localhost:8080/",
          "height": 206
        },
        "id": "JY_031brlVIn",
        "outputId": "dd199218-f88d-49fc-e633-b39fd4039195"
      },
      "execution_count": null,
      "outputs": [
        {
          "output_type": "execute_result",
          "data": {
            "text/plain": [
              "   age     sex     bmi  children smoker     region      charges\n",
              "0   19  female  27.900         0    yes  southwest  16884.92400\n",
              "1   18    male  33.770         1     no  southeast   1725.55230\n",
              "2   28    male  33.000         3     no  southeast   4449.46200\n",
              "3   33    male  22.705         0     no  northwest  21984.47061\n",
              "4   32    male  28.880         0     no  northwest   3866.85520"
            ],
            "text/html": [
              "\n",
              "  <div id=\"df-eb188d78-838f-4d12-b885-7251be6c17c7\" class=\"colab-df-container\">\n",
              "    <div>\n",
              "<style scoped>\n",
              "    .dataframe tbody tr th:only-of-type {\n",
              "        vertical-align: middle;\n",
              "    }\n",
              "\n",
              "    .dataframe tbody tr th {\n",
              "        vertical-align: top;\n",
              "    }\n",
              "\n",
              "    .dataframe thead th {\n",
              "        text-align: right;\n",
              "    }\n",
              "</style>\n",
              "<table border=\"1\" class=\"dataframe\">\n",
              "  <thead>\n",
              "    <tr style=\"text-align: right;\">\n",
              "      <th></th>\n",
              "      <th>age</th>\n",
              "      <th>sex</th>\n",
              "      <th>bmi</th>\n",
              "      <th>children</th>\n",
              "      <th>smoker</th>\n",
              "      <th>region</th>\n",
              "      <th>charges</th>\n",
              "    </tr>\n",
              "  </thead>\n",
              "  <tbody>\n",
              "    <tr>\n",
              "      <th>0</th>\n",
              "      <td>19</td>\n",
              "      <td>female</td>\n",
              "      <td>27.900</td>\n",
              "      <td>0</td>\n",
              "      <td>yes</td>\n",
              "      <td>southwest</td>\n",
              "      <td>16884.92400</td>\n",
              "    </tr>\n",
              "    <tr>\n",
              "      <th>1</th>\n",
              "      <td>18</td>\n",
              "      <td>male</td>\n",
              "      <td>33.770</td>\n",
              "      <td>1</td>\n",
              "      <td>no</td>\n",
              "      <td>southeast</td>\n",
              "      <td>1725.55230</td>\n",
              "    </tr>\n",
              "    <tr>\n",
              "      <th>2</th>\n",
              "      <td>28</td>\n",
              "      <td>male</td>\n",
              "      <td>33.000</td>\n",
              "      <td>3</td>\n",
              "      <td>no</td>\n",
              "      <td>southeast</td>\n",
              "      <td>4449.46200</td>\n",
              "    </tr>\n",
              "    <tr>\n",
              "      <th>3</th>\n",
              "      <td>33</td>\n",
              "      <td>male</td>\n",
              "      <td>22.705</td>\n",
              "      <td>0</td>\n",
              "      <td>no</td>\n",
              "      <td>northwest</td>\n",
              "      <td>21984.47061</td>\n",
              "    </tr>\n",
              "    <tr>\n",
              "      <th>4</th>\n",
              "      <td>32</td>\n",
              "      <td>male</td>\n",
              "      <td>28.880</td>\n",
              "      <td>0</td>\n",
              "      <td>no</td>\n",
              "      <td>northwest</td>\n",
              "      <td>3866.85520</td>\n",
              "    </tr>\n",
              "  </tbody>\n",
              "</table>\n",
              "</div>\n",
              "    <div class=\"colab-df-buttons\">\n",
              "\n",
              "  <div class=\"colab-df-container\">\n",
              "    <button class=\"colab-df-convert\" onclick=\"convertToInteractive('df-eb188d78-838f-4d12-b885-7251be6c17c7')\"\n",
              "            title=\"Convert this dataframe to an interactive table.\"\n",
              "            style=\"display:none;\">\n",
              "\n",
              "  <svg xmlns=\"http://www.w3.org/2000/svg\" height=\"24px\" viewBox=\"0 -960 960 960\">\n",
              "    <path d=\"M120-120v-720h720v720H120Zm60-500h600v-160H180v160Zm220 220h160v-160H400v160Zm0 220h160v-160H400v160ZM180-400h160v-160H180v160Zm440 0h160v-160H620v160ZM180-180h160v-160H180v160Zm440 0h160v-160H620v160Z\"/>\n",
              "  </svg>\n",
              "    </button>\n",
              "\n",
              "  <style>\n",
              "    .colab-df-container {\n",
              "      display:flex;\n",
              "      gap: 12px;\n",
              "    }\n",
              "\n",
              "    .colab-df-convert {\n",
              "      background-color: #E8F0FE;\n",
              "      border: none;\n",
              "      border-radius: 50%;\n",
              "      cursor: pointer;\n",
              "      display: none;\n",
              "      fill: #1967D2;\n",
              "      height: 32px;\n",
              "      padding: 0 0 0 0;\n",
              "      width: 32px;\n",
              "    }\n",
              "\n",
              "    .colab-df-convert:hover {\n",
              "      background-color: #E2EBFA;\n",
              "      box-shadow: 0px 1px 2px rgba(60, 64, 67, 0.3), 0px 1px 3px 1px rgba(60, 64, 67, 0.15);\n",
              "      fill: #174EA6;\n",
              "    }\n",
              "\n",
              "    .colab-df-buttons div {\n",
              "      margin-bottom: 4px;\n",
              "    }\n",
              "\n",
              "    [theme=dark] .colab-df-convert {\n",
              "      background-color: #3B4455;\n",
              "      fill: #D2E3FC;\n",
              "    }\n",
              "\n",
              "    [theme=dark] .colab-df-convert:hover {\n",
              "      background-color: #434B5C;\n",
              "      box-shadow: 0px 1px 3px 1px rgba(0, 0, 0, 0.15);\n",
              "      filter: drop-shadow(0px 1px 2px rgba(0, 0, 0, 0.3));\n",
              "      fill: #FFFFFF;\n",
              "    }\n",
              "  </style>\n",
              "\n",
              "    <script>\n",
              "      const buttonEl =\n",
              "        document.querySelector('#df-eb188d78-838f-4d12-b885-7251be6c17c7 button.colab-df-convert');\n",
              "      buttonEl.style.display =\n",
              "        google.colab.kernel.accessAllowed ? 'block' : 'none';\n",
              "\n",
              "      async function convertToInteractive(key) {\n",
              "        const element = document.querySelector('#df-eb188d78-838f-4d12-b885-7251be6c17c7');\n",
              "        const dataTable =\n",
              "          await google.colab.kernel.invokeFunction('convertToInteractive',\n",
              "                                                    [key], {});\n",
              "        if (!dataTable) return;\n",
              "\n",
              "        const docLinkHtml = 'Like what you see? Visit the ' +\n",
              "          '<a target=\"_blank\" href=https://colab.research.google.com/notebooks/data_table.ipynb>data table notebook</a>'\n",
              "          + ' to learn more about interactive tables.';\n",
              "        element.innerHTML = '';\n",
              "        dataTable['output_type'] = 'display_data';\n",
              "        await google.colab.output.renderOutput(dataTable, element);\n",
              "        const docLink = document.createElement('div');\n",
              "        docLink.innerHTML = docLinkHtml;\n",
              "        element.appendChild(docLink);\n",
              "      }\n",
              "    </script>\n",
              "  </div>\n",
              "\n",
              "\n",
              "<div id=\"df-83e93660-6631-46c6-8cc1-5c4b4f75d611\">\n",
              "  <button class=\"colab-df-quickchart\" onclick=\"quickchart('df-83e93660-6631-46c6-8cc1-5c4b4f75d611')\"\n",
              "            title=\"Suggest charts\"\n",
              "            style=\"display:none;\">\n",
              "\n",
              "<svg xmlns=\"http://www.w3.org/2000/svg\" height=\"24px\"viewBox=\"0 0 24 24\"\n",
              "     width=\"24px\">\n",
              "    <g>\n",
              "        <path d=\"M19 3H5c-1.1 0-2 .9-2 2v14c0 1.1.9 2 2 2h14c1.1 0 2-.9 2-2V5c0-1.1-.9-2-2-2zM9 17H7v-7h2v7zm4 0h-2V7h2v10zm4 0h-2v-4h2v4z\"/>\n",
              "    </g>\n",
              "</svg>\n",
              "  </button>\n",
              "\n",
              "<style>\n",
              "  .colab-df-quickchart {\n",
              "      --bg-color: #E8F0FE;\n",
              "      --fill-color: #1967D2;\n",
              "      --hover-bg-color: #E2EBFA;\n",
              "      --hover-fill-color: #174EA6;\n",
              "      --disabled-fill-color: #AAA;\n",
              "      --disabled-bg-color: #DDD;\n",
              "  }\n",
              "\n",
              "  [theme=dark] .colab-df-quickchart {\n",
              "      --bg-color: #3B4455;\n",
              "      --fill-color: #D2E3FC;\n",
              "      --hover-bg-color: #434B5C;\n",
              "      --hover-fill-color: #FFFFFF;\n",
              "      --disabled-bg-color: #3B4455;\n",
              "      --disabled-fill-color: #666;\n",
              "  }\n",
              "\n",
              "  .colab-df-quickchart {\n",
              "    background-color: var(--bg-color);\n",
              "    border: none;\n",
              "    border-radius: 50%;\n",
              "    cursor: pointer;\n",
              "    display: none;\n",
              "    fill: var(--fill-color);\n",
              "    height: 32px;\n",
              "    padding: 0;\n",
              "    width: 32px;\n",
              "  }\n",
              "\n",
              "  .colab-df-quickchart:hover {\n",
              "    background-color: var(--hover-bg-color);\n",
              "    box-shadow: 0 1px 2px rgba(60, 64, 67, 0.3), 0 1px 3px 1px rgba(60, 64, 67, 0.15);\n",
              "    fill: var(--button-hover-fill-color);\n",
              "  }\n",
              "\n",
              "  .colab-df-quickchart-complete:disabled,\n",
              "  .colab-df-quickchart-complete:disabled:hover {\n",
              "    background-color: var(--disabled-bg-color);\n",
              "    fill: var(--disabled-fill-color);\n",
              "    box-shadow: none;\n",
              "  }\n",
              "\n",
              "  .colab-df-spinner {\n",
              "    border: 2px solid var(--fill-color);\n",
              "    border-color: transparent;\n",
              "    border-bottom-color: var(--fill-color);\n",
              "    animation:\n",
              "      spin 1s steps(1) infinite;\n",
              "  }\n",
              "\n",
              "  @keyframes spin {\n",
              "    0% {\n",
              "      border-color: transparent;\n",
              "      border-bottom-color: var(--fill-color);\n",
              "      border-left-color: var(--fill-color);\n",
              "    }\n",
              "    20% {\n",
              "      border-color: transparent;\n",
              "      border-left-color: var(--fill-color);\n",
              "      border-top-color: var(--fill-color);\n",
              "    }\n",
              "    30% {\n",
              "      border-color: transparent;\n",
              "      border-left-color: var(--fill-color);\n",
              "      border-top-color: var(--fill-color);\n",
              "      border-right-color: var(--fill-color);\n",
              "    }\n",
              "    40% {\n",
              "      border-color: transparent;\n",
              "      border-right-color: var(--fill-color);\n",
              "      border-top-color: var(--fill-color);\n",
              "    }\n",
              "    60% {\n",
              "      border-color: transparent;\n",
              "      border-right-color: var(--fill-color);\n",
              "    }\n",
              "    80% {\n",
              "      border-color: transparent;\n",
              "      border-right-color: var(--fill-color);\n",
              "      border-bottom-color: var(--fill-color);\n",
              "    }\n",
              "    90% {\n",
              "      border-color: transparent;\n",
              "      border-bottom-color: var(--fill-color);\n",
              "    }\n",
              "  }\n",
              "</style>\n",
              "\n",
              "  <script>\n",
              "    async function quickchart(key) {\n",
              "      const quickchartButtonEl =\n",
              "        document.querySelector('#' + key + ' button');\n",
              "      quickchartButtonEl.disabled = true;  // To prevent multiple clicks.\n",
              "      quickchartButtonEl.classList.add('colab-df-spinner');\n",
              "      try {\n",
              "        const charts = await google.colab.kernel.invokeFunction(\n",
              "            'suggestCharts', [key], {});\n",
              "      } catch (error) {\n",
              "        console.error('Error during call to suggestCharts:', error);\n",
              "      }\n",
              "      quickchartButtonEl.classList.remove('colab-df-spinner');\n",
              "      quickchartButtonEl.classList.add('colab-df-quickchart-complete');\n",
              "    }\n",
              "    (() => {\n",
              "      let quickchartButtonEl =\n",
              "        document.querySelector('#df-83e93660-6631-46c6-8cc1-5c4b4f75d611 button');\n",
              "      quickchartButtonEl.style.display =\n",
              "        google.colab.kernel.accessAllowed ? 'block' : 'none';\n",
              "    })();\n",
              "  </script>\n",
              "</div>\n",
              "\n",
              "    </div>\n",
              "  </div>\n"
            ]
          },
          "metadata": {},
          "execution_count": 48
        }
      ]
    },
    {
      "cell_type": "code",
      "source": [
        "df.info()"
      ],
      "metadata": {
        "colab": {
          "base_uri": "https://localhost:8080/"
        },
        "id": "7FXziAZFlgaB",
        "outputId": "7dc68414-5c7b-4746-bed5-7f10ff380888"
      },
      "execution_count": null,
      "outputs": [
        {
          "output_type": "stream",
          "name": "stdout",
          "text": [
            "<class 'pandas.core.frame.DataFrame'>\n",
            "RangeIndex: 1338 entries, 0 to 1337\n",
            "Data columns (total 7 columns):\n",
            " #   Column    Non-Null Count  Dtype  \n",
            "---  ------    --------------  -----  \n",
            " 0   age       1338 non-null   int64  \n",
            " 1   sex       1338 non-null   object \n",
            " 2   bmi       1338 non-null   float64\n",
            " 3   children  1338 non-null   int64  \n",
            " 4   smoker    1338 non-null   object \n",
            " 5   region    1338 non-null   object \n",
            " 6   charges   1338 non-null   float64\n",
            "dtypes: float64(2), int64(2), object(3)\n",
            "memory usage: 73.3+ KB\n"
          ]
        }
      ]
    },
    {
      "cell_type": "code",
      "source": [
        "df.columns"
      ],
      "metadata": {
        "colab": {
          "base_uri": "https://localhost:8080/"
        },
        "id": "5NCWNjmQl2ny",
        "outputId": "29ccfb0c-c83e-4559-ad0c-8fa3559343aa"
      },
      "execution_count": null,
      "outputs": [
        {
          "output_type": "execute_result",
          "data": {
            "text/plain": [
              "Index(['age', 'sex', 'bmi', 'children', 'smoker', 'region', 'charges'], dtype='object')"
            ]
          },
          "metadata": {},
          "execution_count": 5
        }
      ]
    },
    {
      "cell_type": "code",
      "source": [],
      "metadata": {
        "id": "gZa_s7UrmXk3"
      },
      "execution_count": null,
      "outputs": []
    },
    {
      "cell_type": "code",
      "source": [],
      "metadata": {
        "id": "LUSOC7cUmuEH"
      },
      "execution_count": null,
      "outputs": []
    },
    {
      "cell_type": "code",
      "source": [
        "df=pd.get_dummies(df)"
      ],
      "metadata": {
        "id": "_o9qI3QqEKR2"
      },
      "execution_count": null,
      "outputs": []
    },
    {
      "cell_type": "code",
      "source": [
        "df.head()"
      ],
      "metadata": {
        "colab": {
          "base_uri": "https://localhost:8080/",
          "height": 226
        },
        "id": "yquoR-CrI9Tj",
        "outputId": "f03330d7-5314-4211-d985-f8ebb6953924"
      },
      "execution_count": null,
      "outputs": [
        {
          "output_type": "execute_result",
          "data": {
            "text/plain": [
              "   age     bmi  children      charges  sex_female  sex_male  smoker_no  \\\n",
              "0   19  27.900         0  16884.92400           1         0          0   \n",
              "1   18  33.770         1   1725.55230           0         1          1   \n",
              "2   28  33.000         3   4449.46200           0         1          1   \n",
              "3   33  22.705         0  21984.47061           0         1          1   \n",
              "4   32  28.880         0   3866.85520           0         1          1   \n",
              "\n",
              "   smoker_yes  region_northeast  region_northwest  region_southeast  \\\n",
              "0           1                 0                 0                 0   \n",
              "1           0                 0                 0                 1   \n",
              "2           0                 0                 0                 1   \n",
              "3           0                 0                 1                 0   \n",
              "4           0                 0                 1                 0   \n",
              "\n",
              "   region_southwest  \n",
              "0                 1  \n",
              "1                 0  \n",
              "2                 0  \n",
              "3                 0  \n",
              "4                 0  "
            ],
            "text/html": [
              "\n",
              "  <div id=\"df-1c20442a-d16b-4835-9487-06bbf5428ce1\" class=\"colab-df-container\">\n",
              "    <div>\n",
              "<style scoped>\n",
              "    .dataframe tbody tr th:only-of-type {\n",
              "        vertical-align: middle;\n",
              "    }\n",
              "\n",
              "    .dataframe tbody tr th {\n",
              "        vertical-align: top;\n",
              "    }\n",
              "\n",
              "    .dataframe thead th {\n",
              "        text-align: right;\n",
              "    }\n",
              "</style>\n",
              "<table border=\"1\" class=\"dataframe\">\n",
              "  <thead>\n",
              "    <tr style=\"text-align: right;\">\n",
              "      <th></th>\n",
              "      <th>age</th>\n",
              "      <th>bmi</th>\n",
              "      <th>children</th>\n",
              "      <th>charges</th>\n",
              "      <th>sex_female</th>\n",
              "      <th>sex_male</th>\n",
              "      <th>smoker_no</th>\n",
              "      <th>smoker_yes</th>\n",
              "      <th>region_northeast</th>\n",
              "      <th>region_northwest</th>\n",
              "      <th>region_southeast</th>\n",
              "      <th>region_southwest</th>\n",
              "    </tr>\n",
              "  </thead>\n",
              "  <tbody>\n",
              "    <tr>\n",
              "      <th>0</th>\n",
              "      <td>19</td>\n",
              "      <td>27.900</td>\n",
              "      <td>0</td>\n",
              "      <td>16884.92400</td>\n",
              "      <td>1</td>\n",
              "      <td>0</td>\n",
              "      <td>0</td>\n",
              "      <td>1</td>\n",
              "      <td>0</td>\n",
              "      <td>0</td>\n",
              "      <td>0</td>\n",
              "      <td>1</td>\n",
              "    </tr>\n",
              "    <tr>\n",
              "      <th>1</th>\n",
              "      <td>18</td>\n",
              "      <td>33.770</td>\n",
              "      <td>1</td>\n",
              "      <td>1725.55230</td>\n",
              "      <td>0</td>\n",
              "      <td>1</td>\n",
              "      <td>1</td>\n",
              "      <td>0</td>\n",
              "      <td>0</td>\n",
              "      <td>0</td>\n",
              "      <td>1</td>\n",
              "      <td>0</td>\n",
              "    </tr>\n",
              "    <tr>\n",
              "      <th>2</th>\n",
              "      <td>28</td>\n",
              "      <td>33.000</td>\n",
              "      <td>3</td>\n",
              "      <td>4449.46200</td>\n",
              "      <td>0</td>\n",
              "      <td>1</td>\n",
              "      <td>1</td>\n",
              "      <td>0</td>\n",
              "      <td>0</td>\n",
              "      <td>0</td>\n",
              "      <td>1</td>\n",
              "      <td>0</td>\n",
              "    </tr>\n",
              "    <tr>\n",
              "      <th>3</th>\n",
              "      <td>33</td>\n",
              "      <td>22.705</td>\n",
              "      <td>0</td>\n",
              "      <td>21984.47061</td>\n",
              "      <td>0</td>\n",
              "      <td>1</td>\n",
              "      <td>1</td>\n",
              "      <td>0</td>\n",
              "      <td>0</td>\n",
              "      <td>1</td>\n",
              "      <td>0</td>\n",
              "      <td>0</td>\n",
              "    </tr>\n",
              "    <tr>\n",
              "      <th>4</th>\n",
              "      <td>32</td>\n",
              "      <td>28.880</td>\n",
              "      <td>0</td>\n",
              "      <td>3866.85520</td>\n",
              "      <td>0</td>\n",
              "      <td>1</td>\n",
              "      <td>1</td>\n",
              "      <td>0</td>\n",
              "      <td>0</td>\n",
              "      <td>1</td>\n",
              "      <td>0</td>\n",
              "      <td>0</td>\n",
              "    </tr>\n",
              "  </tbody>\n",
              "</table>\n",
              "</div>\n",
              "    <div class=\"colab-df-buttons\">\n",
              "\n",
              "  <div class=\"colab-df-container\">\n",
              "    <button class=\"colab-df-convert\" onclick=\"convertToInteractive('df-1c20442a-d16b-4835-9487-06bbf5428ce1')\"\n",
              "            title=\"Convert this dataframe to an interactive table.\"\n",
              "            style=\"display:none;\">\n",
              "\n",
              "  <svg xmlns=\"http://www.w3.org/2000/svg\" height=\"24px\" viewBox=\"0 -960 960 960\">\n",
              "    <path d=\"M120-120v-720h720v720H120Zm60-500h600v-160H180v160Zm220 220h160v-160H400v160Zm0 220h160v-160H400v160ZM180-400h160v-160H180v160Zm440 0h160v-160H620v160ZM180-180h160v-160H180v160Zm440 0h160v-160H620v160Z\"/>\n",
              "  </svg>\n",
              "    </button>\n",
              "\n",
              "  <style>\n",
              "    .colab-df-container {\n",
              "      display:flex;\n",
              "      gap: 12px;\n",
              "    }\n",
              "\n",
              "    .colab-df-convert {\n",
              "      background-color: #E8F0FE;\n",
              "      border: none;\n",
              "      border-radius: 50%;\n",
              "      cursor: pointer;\n",
              "      display: none;\n",
              "      fill: #1967D2;\n",
              "      height: 32px;\n",
              "      padding: 0 0 0 0;\n",
              "      width: 32px;\n",
              "    }\n",
              "\n",
              "    .colab-df-convert:hover {\n",
              "      background-color: #E2EBFA;\n",
              "      box-shadow: 0px 1px 2px rgba(60, 64, 67, 0.3), 0px 1px 3px 1px rgba(60, 64, 67, 0.15);\n",
              "      fill: #174EA6;\n",
              "    }\n",
              "\n",
              "    .colab-df-buttons div {\n",
              "      margin-bottom: 4px;\n",
              "    }\n",
              "\n",
              "    [theme=dark] .colab-df-convert {\n",
              "      background-color: #3B4455;\n",
              "      fill: #D2E3FC;\n",
              "    }\n",
              "\n",
              "    [theme=dark] .colab-df-convert:hover {\n",
              "      background-color: #434B5C;\n",
              "      box-shadow: 0px 1px 3px 1px rgba(0, 0, 0, 0.15);\n",
              "      filter: drop-shadow(0px 1px 2px rgba(0, 0, 0, 0.3));\n",
              "      fill: #FFFFFF;\n",
              "    }\n",
              "  </style>\n",
              "\n",
              "    <script>\n",
              "      const buttonEl =\n",
              "        document.querySelector('#df-1c20442a-d16b-4835-9487-06bbf5428ce1 button.colab-df-convert');\n",
              "      buttonEl.style.display =\n",
              "        google.colab.kernel.accessAllowed ? 'block' : 'none';\n",
              "\n",
              "      async function convertToInteractive(key) {\n",
              "        const element = document.querySelector('#df-1c20442a-d16b-4835-9487-06bbf5428ce1');\n",
              "        const dataTable =\n",
              "          await google.colab.kernel.invokeFunction('convertToInteractive',\n",
              "                                                    [key], {});\n",
              "        if (!dataTable) return;\n",
              "\n",
              "        const docLinkHtml = 'Like what you see? Visit the ' +\n",
              "          '<a target=\"_blank\" href=https://colab.research.google.com/notebooks/data_table.ipynb>data table notebook</a>'\n",
              "          + ' to learn more about interactive tables.';\n",
              "        element.innerHTML = '';\n",
              "        dataTable['output_type'] = 'display_data';\n",
              "        await google.colab.output.renderOutput(dataTable, element);\n",
              "        const docLink = document.createElement('div');\n",
              "        docLink.innerHTML = docLinkHtml;\n",
              "        element.appendChild(docLink);\n",
              "      }\n",
              "    </script>\n",
              "  </div>\n",
              "\n",
              "\n",
              "<div id=\"df-a082bdc6-7a26-44d6-a650-98222b456aea\">\n",
              "  <button class=\"colab-df-quickchart\" onclick=\"quickchart('df-a082bdc6-7a26-44d6-a650-98222b456aea')\"\n",
              "            title=\"Suggest charts\"\n",
              "            style=\"display:none;\">\n",
              "\n",
              "<svg xmlns=\"http://www.w3.org/2000/svg\" height=\"24px\"viewBox=\"0 0 24 24\"\n",
              "     width=\"24px\">\n",
              "    <g>\n",
              "        <path d=\"M19 3H5c-1.1 0-2 .9-2 2v14c0 1.1.9 2 2 2h14c1.1 0 2-.9 2-2V5c0-1.1-.9-2-2-2zM9 17H7v-7h2v7zm4 0h-2V7h2v10zm4 0h-2v-4h2v4z\"/>\n",
              "    </g>\n",
              "</svg>\n",
              "  </button>\n",
              "\n",
              "<style>\n",
              "  .colab-df-quickchart {\n",
              "      --bg-color: #E8F0FE;\n",
              "      --fill-color: #1967D2;\n",
              "      --hover-bg-color: #E2EBFA;\n",
              "      --hover-fill-color: #174EA6;\n",
              "      --disabled-fill-color: #AAA;\n",
              "      --disabled-bg-color: #DDD;\n",
              "  }\n",
              "\n",
              "  [theme=dark] .colab-df-quickchart {\n",
              "      --bg-color: #3B4455;\n",
              "      --fill-color: #D2E3FC;\n",
              "      --hover-bg-color: #434B5C;\n",
              "      --hover-fill-color: #FFFFFF;\n",
              "      --disabled-bg-color: #3B4455;\n",
              "      --disabled-fill-color: #666;\n",
              "  }\n",
              "\n",
              "  .colab-df-quickchart {\n",
              "    background-color: var(--bg-color);\n",
              "    border: none;\n",
              "    border-radius: 50%;\n",
              "    cursor: pointer;\n",
              "    display: none;\n",
              "    fill: var(--fill-color);\n",
              "    height: 32px;\n",
              "    padding: 0;\n",
              "    width: 32px;\n",
              "  }\n",
              "\n",
              "  .colab-df-quickchart:hover {\n",
              "    background-color: var(--hover-bg-color);\n",
              "    box-shadow: 0 1px 2px rgba(60, 64, 67, 0.3), 0 1px 3px 1px rgba(60, 64, 67, 0.15);\n",
              "    fill: var(--button-hover-fill-color);\n",
              "  }\n",
              "\n",
              "  .colab-df-quickchart-complete:disabled,\n",
              "  .colab-df-quickchart-complete:disabled:hover {\n",
              "    background-color: var(--disabled-bg-color);\n",
              "    fill: var(--disabled-fill-color);\n",
              "    box-shadow: none;\n",
              "  }\n",
              "\n",
              "  .colab-df-spinner {\n",
              "    border: 2px solid var(--fill-color);\n",
              "    border-color: transparent;\n",
              "    border-bottom-color: var(--fill-color);\n",
              "    animation:\n",
              "      spin 1s steps(1) infinite;\n",
              "  }\n",
              "\n",
              "  @keyframes spin {\n",
              "    0% {\n",
              "      border-color: transparent;\n",
              "      border-bottom-color: var(--fill-color);\n",
              "      border-left-color: var(--fill-color);\n",
              "    }\n",
              "    20% {\n",
              "      border-color: transparent;\n",
              "      border-left-color: var(--fill-color);\n",
              "      border-top-color: var(--fill-color);\n",
              "    }\n",
              "    30% {\n",
              "      border-color: transparent;\n",
              "      border-left-color: var(--fill-color);\n",
              "      border-top-color: var(--fill-color);\n",
              "      border-right-color: var(--fill-color);\n",
              "    }\n",
              "    40% {\n",
              "      border-color: transparent;\n",
              "      border-right-color: var(--fill-color);\n",
              "      border-top-color: var(--fill-color);\n",
              "    }\n",
              "    60% {\n",
              "      border-color: transparent;\n",
              "      border-right-color: var(--fill-color);\n",
              "    }\n",
              "    80% {\n",
              "      border-color: transparent;\n",
              "      border-right-color: var(--fill-color);\n",
              "      border-bottom-color: var(--fill-color);\n",
              "    }\n",
              "    90% {\n",
              "      border-color: transparent;\n",
              "      border-bottom-color: var(--fill-color);\n",
              "    }\n",
              "  }\n",
              "</style>\n",
              "\n",
              "  <script>\n",
              "    async function quickchart(key) {\n",
              "      const quickchartButtonEl =\n",
              "        document.querySelector('#' + key + ' button');\n",
              "      quickchartButtonEl.disabled = true;  // To prevent multiple clicks.\n",
              "      quickchartButtonEl.classList.add('colab-df-spinner');\n",
              "      try {\n",
              "        const charts = await google.colab.kernel.invokeFunction(\n",
              "            'suggestCharts', [key], {});\n",
              "      } catch (error) {\n",
              "        console.error('Error during call to suggestCharts:', error);\n",
              "      }\n",
              "      quickchartButtonEl.classList.remove('colab-df-spinner');\n",
              "      quickchartButtonEl.classList.add('colab-df-quickchart-complete');\n",
              "    }\n",
              "    (() => {\n",
              "      let quickchartButtonEl =\n",
              "        document.querySelector('#df-a082bdc6-7a26-44d6-a650-98222b456aea button');\n",
              "      quickchartButtonEl.style.display =\n",
              "        google.colab.kernel.accessAllowed ? 'block' : 'none';\n",
              "    })();\n",
              "  </script>\n",
              "</div>\n",
              "\n",
              "    </div>\n",
              "  </div>\n"
            ]
          },
          "metadata": {},
          "execution_count": 7
        }
      ]
    },
    {
      "cell_type": "code",
      "source": [
        "X=df.drop(['charges'],axis=1)\n",
        "y=df[['charges']]"
      ],
      "metadata": {
        "id": "PA0-INsYJGuN"
      },
      "execution_count": null,
      "outputs": []
    },
    {
      "cell_type": "code",
      "source": [
        "from sklearn.model_selection import train_test_split\n",
        "X_train,X_test,y_train,y_test=train_test_split(X,y,random_state=233,test_size=0.2)"
      ],
      "metadata": {
        "id": "RLX3S1nbdZvr"
      },
      "execution_count": null,
      "outputs": []
    },
    {
      "cell_type": "code",
      "source": [
        "tf.random.set_seed(43)\n",
        "\n",
        "model=tf.keras.Sequential([\n",
        "    tf.keras.layers.Dense(10),\n",
        "    tf.keras.layers.Dense(10),\n",
        "    tf.keras.layers.Dense(1)\n",
        "])\n",
        "\n",
        "#Compile model\n",
        "model.compile(loss=tf.keras.losses.mae,optimizer=tf.keras.optimizers.Adam(learning_rate=0.01),metrics=['mae'])\n",
        "\n",
        "#fit the model\n",
        "history=model.fit(X_train,y_train,epochs=200,verbose=0)"
      ],
      "metadata": {
        "id": "AdfJDlOmJXYn"
      },
      "execution_count": null,
      "outputs": []
    },
    {
      "cell_type": "code",
      "source": [
        "y_pred=model.predict(X_test)"
      ],
      "metadata": {
        "colab": {
          "base_uri": "https://localhost:8080/"
        },
        "id": "VzvaFPKZK9I7",
        "outputId": "8283cadf-93a9-4304-9398-dd7ae0019f8c"
      },
      "execution_count": null,
      "outputs": [
        {
          "output_type": "stream",
          "name": "stdout",
          "text": [
            "9/9 [==============================] - 0s 2ms/step\n"
          ]
        }
      ]
    },
    {
      "cell_type": "code",
      "source": [],
      "metadata": {
        "id": "cMbfKjYkzDC0"
      },
      "execution_count": null,
      "outputs": []
    },
    {
      "cell_type": "code",
      "source": [
        "model.evaluate(X_test,y_test)"
      ],
      "metadata": {
        "colab": {
          "base_uri": "https://localhost:8080/"
        },
        "id": "FeQeGePvTko5",
        "outputId": "025f1502-208b-4674-92a4-b5c406e32ad0"
      },
      "execution_count": null,
      "outputs": [
        {
          "output_type": "stream",
          "name": "stdout",
          "text": [
            "9/9 [==============================] - 0s 2ms/step - loss: 3776.6941 - mae: 3776.6941\n"
          ]
        },
        {
          "output_type": "execute_result",
          "data": {
            "text/plain": [
              "[3776.694091796875, 3776.694091796875]"
            ]
          },
          "metadata": {},
          "execution_count": 27
        }
      ]
    },
    {
      "cell_type": "code",
      "source": [
        "#plot the History\n",
        "pd.DataFrame(history.history).plot()\n",
        "plt.ylabel('loss')\n",
        "plt.xlabel('epochs')"
      ],
      "metadata": {
        "colab": {
          "base_uri": "https://localhost:8080/",
          "height": 466
        },
        "id": "CNpYbndVW5zq",
        "outputId": "27a761cb-551e-46c0-ed4f-a3b63dd77637"
      },
      "execution_count": null,
      "outputs": [
        {
          "output_type": "execute_result",
          "data": {
            "text/plain": [
              "Text(0.5, 0, 'epochs')"
            ]
          },
          "metadata": {},
          "execution_count": 29
        },
        {
          "output_type": "display_data",
          "data": {
            "text/plain": [
              "<Figure size 640x480 with 1 Axes>"
            ],
            "image/png": "[encoded data removed]"
          },
          "metadata": {}
        }
      ]
    },
    {
      "cell_type": "code",
      "source": [],
      "metadata": {
        "id": "iDraH_OyYeoa"
      },
      "execution_count": null,
      "outputs": []
    },
    {
      "cell_type": "markdown",
      "source": [
        "# **Scalling**"
      ],
      "metadata": {
        "id": "KhC2dXhGtyTI"
      }
    },
    {
      "cell_type": "code",
      "source": [
        "df.columns"
      ],
      "metadata": {
        "colab": {
          "base_uri": "https://localhost:8080/"
        },
        "id": "jhfkk5ofxjKz",
        "outputId": "6b96612b-8669-461b-d160-37b0f87b7350"
      },
      "execution_count": null,
      "outputs": [
        {
          "output_type": "execute_result",
          "data": {
            "text/plain": [
              "Index(['age', 'bmi', 'children', 'charges', 'sex_female', 'sex_male',\n",
              "       'smoker_no', 'smoker_yes', 'region_northeast', 'region_northwest',\n",
              "       'region_southeast', 'region_southwest'],\n",
              "      dtype='object')"
            ]
          },
          "metadata": {},
          "execution_count": 40
        }
      ]
    },
    {
      "cell_type": "code",
      "source": [
        "from sklearn.compose import make_column_transformer\n",
        "from sklearn.preprocessing import MinMaxScaler,OneHotEncoder\n",
        "ct=make_column_transformer(\n",
        "    (MinMaxScaler(),[\"age\",\"bmi\",\"children\"]),\n",
        "    (OneHotEncoder(),[\"sex\",\"smoker\",\"region\"])\n",
        ")"
      ],
      "metadata": {
        "id": "nyJKoVfwt0pC"
      },
      "execution_count": null,
      "outputs": []
    },
    {
      "cell_type": "code",
      "source": [
        "X=df.drop(['charges'],axis=1)\n",
        "y=df[['charges']]\n",
        "from sklearn.model_selection import train_test_split\n",
        "X_train,X_test,y_train,y_test=train_test_split(X,y,random_state=233,test_size=0.2)"
      ],
      "metadata": {
        "id": "QJxhbwhcuB7b"
      },
      "execution_count": null,
      "outputs": []
    },
    {
      "cell_type": "code",
      "source": [
        "X_train_norm=ct.fit_transform(X_train)\n",
        "X_test_norm=ct.transform(X_test)"
      ],
      "metadata": {
        "id": "dA9TmjL4w3dN"
      },
      "execution_count": null,
      "outputs": []
    },
    {
      "cell_type": "code",
      "source": [
        "tf.random.set_seed(43)\n",
        "\n",
        "model=tf.keras.Sequential([\n",
        "    tf.keras.layers.Dense(10),\n",
        "    tf.keras.layers.Dense(10),\n",
        "    tf.keras.layers.Dense(1)\n",
        "])\n",
        "\n",
        "#Compile model\n",
        "model.compile(loss=tf.keras.losses.mae,optimizer=tf.keras.optimizers.Adam(learning_rate=0.01),metrics=['mae'])\n",
        "\n",
        "#fit the model\n",
        "history=model.fit(X_train_norm,y_train,epochs=200,verbose=0)"
      ],
      "metadata": {
        "id": "KHD06lskxfsF"
      },
      "execution_count": null,
      "outputs": []
    },
    {
      "cell_type": "code",
      "source": [
        "#Evaluate the model\n",
        "model.evaluate(X_test_norm,y_test)"
      ],
      "metadata": {
        "colab": {
          "base_uri": "https://localhost:8080/"
        },
        "id": "B5Tjy7bczGiA",
        "outputId": "d85fdaf8-17d8-4054-8c00-950df6312df8"
      },
      "execution_count": null,
      "outputs": [
        {
          "output_type": "stream",
          "name": "stdout",
          "text": [
            "9/9 [==============================] - 0s 5ms/step - loss: 3707.6870 - mae: 3707.6870\n"
          ]
        },
        {
          "output_type": "execute_result",
          "data": {
            "text/plain": [
              "[3707.68701171875, 3707.68701171875]"
            ]
          },
          "metadata": {},
          "execution_count": 54
        }
      ]
    },
    {
      "cell_type": "code",
      "source": [],
      "metadata": {
        "id": "dH4d9fn5zUZA"
      },
      "execution_count": null,
      "outputs": []
    }
  ]
}