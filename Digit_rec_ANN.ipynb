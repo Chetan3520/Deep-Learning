{
  "nbformat": 4,
  "nbformat_minor": 0,
  "metadata": {
    "colab": {
      "provenance": []
    },
    "kernelspec": {
      "name": "python3",
      "display_name": "Python 3"
    },
    "language_info": {
      "name": "python"
    }
  },
  "cells": [
    {
      "cell_type": "code",
      "execution_count": 1,
      "metadata": {
        "id": "5A4u2jIPRDcn"
      },
      "outputs": [],
      "source": [
        "import tensorflow\n",
        "import pandas as pd\n",
        "from tensorflow import keras\n",
        "from tensorflow.keras import Sequential\n",
        "from tensorflow.keras.layers import Dense, Flatten\n",
        "import matplotlib.pyplot as plt\n",
        "import numpy as np\n"
      ]
    },
    {
      "cell_type": "code",
      "source": [
        "(X_train,y_train),(X_test,y_test)=keras.datasets.mnist.load_data()"
      ],
      "metadata": {
        "id": "Xx4Lc6xsq_4K",
        "colab": {
          "base_uri": "https://localhost:8080/"
        },
        "outputId": "f0e71566-d6f6-4bec-f6bf-7820a597262a"
      },
      "execution_count": 2,
      "outputs": [
        {
          "output_type": "stream",
          "name": "stdout",
          "text": [
            "Downloading data from https://storage.googleapis.com/tensorflow/tf-keras-datasets/mnist.npz\n",
            "11490434/11490434 [==============================] - 0s 0us/step\n"
          ]
        }
      ]
    },
    {
      "cell_type": "code",
      "source": [
        "X_train.shape"
      ],
      "metadata": {
        "colab": {
          "base_uri": "https://localhost:8080/"
        },
        "id": "qUUIJQBsroQ-",
        "outputId": "0237380b-9541-4cba-ea8d-20a3209dd193"
      },
      "execution_count": 3,
      "outputs": [
        {
          "output_type": "execute_result",
          "data": {
            "text/plain": [
              "(60000, 28, 28)"
            ]
          },
          "metadata": {},
          "execution_count": 3
        }
      ]
    },
    {
      "cell_type": "code",
      "source": [
        "plt.imshow(X_train[0])"
      ],
      "metadata": {
        "colab": {
          "base_uri": "https://localhost:8080/",
          "height": 447
        },
        "id": "7qGeMe6psFTh",
        "outputId": "7ca945c0-32ed-482a-b3c5-a239489a5e6c"
      },
      "execution_count": 4,
      "outputs": [
        {
          "output_type": "execute_result",
          "data": {
            "text/plain": [
              "<matplotlib.image.AxesImage at 0x7f3f293d12d0>"
            ]
          },
          "metadata": {},
          "execution_count": 4
        },
        {
          "output_type": "display_data",
          "data": {
            "text/plain": [
              "<Figure size 640x480 with 1 Axes>"
            ],
            "image/png": "[encoded data removed]"
          },
          "metadata": {}
        }
      ]
    },
    {
      "cell_type": "code",
      "source": [
        "plt.imshow(X_train[1])"
      ],
      "metadata": {
        "colab": {
          "base_uri": "https://localhost:8080/",
          "height": 447
        },
        "id": "8xd36fG2sF5H",
        "outputId": "356e2134-1afb-42aa-cf7b-e6c99e0238e3"
      },
      "execution_count": null,
      "outputs": [
        {
          "output_type": "execute_result",
          "data": {
            "text/plain": [
              "<matplotlib.image.AxesImage at 0x7a280de47b20>"
            ]
          },
          "metadata": {},
          "execution_count": 10
        },
        {
          "output_type": "display_data",
          "data": {
            "text/plain": [
              "<Figure size 640x480 with 1 Axes>"
            ],
            "image/png": "[encoded data removed]"
          },
          "metadata": {}
        }
      ]
    },
    {
      "cell_type": "code",
      "source": [
        "X_train[0]"
      ],
      "metadata": {
        "colab": {
          "base_uri": "https://localhost:8080/"
        },
        "id": "qJG-L1wpsm7q",
        "outputId": "ba876953-0d6b-4800-80fd-f26c3a545df8"
      },
      "execution_count": 5,
      "outputs": [
        {
          "output_type": "execute_result",
          "data": {
            "text/plain": [
              "array([[  0,   0,   0,   0,   0,   0,   0,   0,   0,   0,   0,   0,   0,\n",
              "          0,   0,   0,   0,   0,   0,   0,   0,   0,   0,   0,   0,   0,\n",
              "          0,   0],\n",
              "       [  0,   0,   0,   0,   0,   0,   0,   0,   0,   0,   0,   0,   0,\n",
              "          0,   0,   0,   0,   0,   0,   0,   0,   0,   0,   0,   0,   0,\n",
              "          0,   0],\n",
              "       [  0,   0,   0,   0,   0,   0,   0,   0,   0,   0,   0,   0,   0,\n",
              "          0,   0,   0,   0,   0,   0,   0,   0,   0,   0,   0,   0,   0,\n",
              "          0,   0],\n",
              "       [  0,   0,   0,   0,   0,   0,   0,   0,   0,   0,   0,   0,   0,\n",
              "          0,   0,   0,   0,   0,   0,   0,   0,   0,   0,   0,   0,   0,\n",
              "          0,   0],\n",
              "       [  0,   0,   0,   0,   0,   0,   0,   0,   0,   0,   0,   0,   0,\n",
              "          0,   0,   0,   0,   0,   0,   0,   0,   0,   0,   0,   0,   0,\n",
              "          0,   0],\n",
              "       [  0,   0,   0,   0,   0,   0,   0,   0,   0,   0,   0,   0,   3,\n",
              "         18,  18,  18, 126, 136, 175,  26, 166, 255, 247, 127,   0,   0,\n",
              "          0,   0],\n",
              "       [  0,   0,   0,   0,   0,   0,   0,   0,  30,  36,  94, 154, 170,\n",
              "        253, 253, 253, 253, 253, 225, 172, 253, 242, 195,  64,   0,   0,\n",
              "          0,   0],\n",
              "       [  0,   0,   0,   0,   0,   0,   0,  49, 238, 253, 253, 253, 253,\n",
              "        253, 253, 253, 253, 251,  93,  82,  82,  56,  39,   0,   0,   0,\n",
              "          0,   0],\n",
              "       [  0,   0,   0,   0,   0,   0,   0,  18, 219, 253, 253, 253, 253,\n",
              "        253, 198, 182, 247, 241,   0,   0,   0,   0,   0,   0,   0,   0,\n",
              "          0,   0],\n",
              "       [  0,   0,   0,   0,   0,   0,   0,   0,  80, 156, 107, 253, 253,\n",
              "        205,  11,   0,  43, 154,   0,   0,   0,   0,   0,   0,   0,   0,\n",
              "          0,   0],\n",
              "       [  0,   0,   0,   0,   0,   0,   0,   0,   0,  14,   1, 154, 253,\n",
              "         90,   0,   0,   0,   0,   0,   0,   0,   0,   0,   0,   0,   0,\n",
              "          0,   0],\n",
              "       [  0,   0,   0,   0,   0,   0,   0,   0,   0,   0,   0, 139, 253,\n",
              "        190,   2,   0,   0,   0,   0,   0,   0,   0,   0,   0,   0,   0,\n",
              "          0,   0],\n",
              "       [  0,   0,   0,   0,   0,   0,   0,   0,   0,   0,   0,  11, 190,\n",
              "        253,  70,   0,   0,   0,   0,   0,   0,   0,   0,   0,   0,   0,\n",
              "          0,   0],\n",
              "       [  0,   0,   0,   0,   0,   0,   0,   0,   0,   0,   0,   0,  35,\n",
              "        241, 225, 160, 108,   1,   0,   0,   0,   0,   0,   0,   0,   0,\n",
              "          0,   0],\n",
              "       [  0,   0,   0,   0,   0,   0,   0,   0,   0,   0,   0,   0,   0,\n",
              "         81, 240, 253, 253, 119,  25,   0,   0,   0,   0,   0,   0,   0,\n",
              "          0,   0],\n",
              "       [  0,   0,   0,   0,   0,   0,   0,   0,   0,   0,   0,   0,   0,\n",
              "          0,  45, 186, 253, 253, 150,  27,   0,   0,   0,   0,   0,   0,\n",
              "          0,   0],\n",
              "       [  0,   0,   0,   0,   0,   0,   0,   0,   0,   0,   0,   0,   0,\n",
              "          0,   0,  16,  93, 252, 253, 187,   0,   0,   0,   0,   0,   0,\n",
              "          0,   0],\n",
              "       [  0,   0,   0,   0,   0,   0,   0,   0,   0,   0,   0,   0,   0,\n",
              "          0,   0,   0,   0, 249, 253, 249,  64,   0,   0,   0,   0,   0,\n",
              "          0,   0],\n",
              "       [  0,   0,   0,   0,   0,   0,   0,   0,   0,   0,   0,   0,   0,\n",
              "          0,  46, 130, 183, 253, 253, 207,   2,   0,   0,   0,   0,   0,\n",
              "          0,   0],\n",
              "       [  0,   0,   0,   0,   0,   0,   0,   0,   0,   0,   0,   0,  39,\n",
              "        148, 229, 253, 253, 253, 250, 182,   0,   0,   0,   0,   0,   0,\n",
              "          0,   0],\n",
              "       [  0,   0,   0,   0,   0,   0,   0,   0,   0,   0,  24, 114, 221,\n",
              "        253, 253, 253, 253, 201,  78,   0,   0,   0,   0,   0,   0,   0,\n",
              "          0,   0],\n",
              "       [  0,   0,   0,   0,   0,   0,   0,   0,  23,  66, 213, 253, 253,\n",
              "        253, 253, 198,  81,   2,   0,   0,   0,   0,   0,   0,   0,   0,\n",
              "          0,   0],\n",
              "       [  0,   0,   0,   0,   0,   0,  18, 171, 219, 253, 253, 253, 253,\n",
              "        195,  80,   9,   0,   0,   0,   0,   0,   0,   0,   0,   0,   0,\n",
              "          0,   0],\n",
              "       [  0,   0,   0,   0,  55, 172, 226, 253, 253, 253, 253, 244, 133,\n",
              "         11,   0,   0,   0,   0,   0,   0,   0,   0,   0,   0,   0,   0,\n",
              "          0,   0],\n",
              "       [  0,   0,   0,   0, 136, 253, 253, 253, 212, 135, 132,  16,   0,\n",
              "          0,   0,   0,   0,   0,   0,   0,   0,   0,   0,   0,   0,   0,\n",
              "          0,   0],\n",
              "       [  0,   0,   0,   0,   0,   0,   0,   0,   0,   0,   0,   0,   0,\n",
              "          0,   0,   0,   0,   0,   0,   0,   0,   0,   0,   0,   0,   0,\n",
              "          0,   0],\n",
              "       [  0,   0,   0,   0,   0,   0,   0,   0,   0,   0,   0,   0,   0,\n",
              "          0,   0,   0,   0,   0,   0,   0,   0,   0,   0,   0,   0,   0,\n",
              "          0,   0],\n",
              "       [  0,   0,   0,   0,   0,   0,   0,   0,   0,   0,   0,   0,   0,\n",
              "          0,   0,   0,   0,   0,   0,   0,   0,   0,   0,   0,   0,   0,\n",
              "          0,   0]], dtype=uint8)"
            ]
          },
          "metadata": {},
          "execution_count": 5
        }
      ]
    },
    {
      "cell_type": "code",
      "source": [
        "X_train.max()"
      ],
      "metadata": {
        "colab": {
          "base_uri": "https://localhost:8080/"
        },
        "id": "N8PK8vDXstNN",
        "outputId": "d98f2808-85be-404c-9e3a-4b52c30ca203"
      },
      "execution_count": 6,
      "outputs": [
        {
          "output_type": "execute_result",
          "data": {
            "text/plain": [
              "255"
            ]
          },
          "metadata": {},
          "execution_count": 6
        }
      ]
    },
    {
      "cell_type": "code",
      "source": [
        "X_train\n",
        "X_train=X_train/255\n",
        "X_test=X_test/255"
      ],
      "metadata": {
        "id": "qWQ_ma0NrlQs"
      },
      "execution_count": 7,
      "outputs": []
    },
    {
      "cell_type": "code",
      "source": [
        "model=Sequential()\n",
        "model.add(Flatten(input_shape=(28,28)))\n",
        "model.add(Dense(128,activation='relu'))\n",
        "model.add(Dense(10,activation='softmax'))\n",
        "\n"
      ],
      "metadata": {
        "id": "Ea834TZfrfwR"
      },
      "execution_count": 8,
      "outputs": []
    },
    {
      "cell_type": "code",
      "source": [
        "model.summary()"
      ],
      "metadata": {
        "colab": {
          "base_uri": "https://localhost:8080/"
        },
        "id": "7p2QsKzdwlM5",
        "outputId": "b6dafa44-fa37-48d5-8abd-fb92c1dae228"
      },
      "execution_count": null,
      "outputs": [
        {
          "output_type": "stream",
          "name": "stdout",
          "text": [
            "Model: \"sequential_3\"\n",
            "_________________________________________________________________\n",
            " Layer (type)                Output Shape              Param #   \n",
            "=================================================================\n",
            " flatten_1 (Flatten)         (None, 784)               0         \n",
            "                                                                 \n",
            " dense (Dense)               (None, 128)               100480    \n",
            "                                                                 \n",
            " dense_1 (Dense)             (None, 10)                1290      \n",
            "                                                                 \n",
            "=================================================================\n",
            "Total params: 101770 (397.54 KB)\n",
            "Trainable params: 101770 (397.54 KB)\n",
            "Non-trainable params: 0 (0.00 Byte)\n",
            "_________________________________________________________________\n"
          ]
        }
      ]
    },
    {
      "cell_type": "code",
      "source": [
        "model.compile(loss='sparse_categorical_crossentropy',optimizer='Adam')"
      ],
      "metadata": {
        "id": "Y-mksQjBtvB6"
      },
      "execution_count": null,
      "outputs": []
    },
    {
      "cell_type": "code",
      "source": [
        "model.fit(X_train,y_train,epochs=100,validation_split=0.2)"
      ],
      "metadata": {
        "colab": {
          "base_uri": "https://localhost:8080/"
        },
        "id": "JJLmfoWSxQrz",
        "outputId": "5d1846f8-cfdd-4a3d-d781-5452d712ac12"
      },
      "execution_count": null,
      "outputs": [
        {
          "output_type": "stream",
          "name": "stdout",
          "text": [
            "Epoch 1/100\n",
            "1500/1500 [==============================] - 9s 6ms/step - loss: 3940.4009 - val_loss: 2409.4229\n",
            "Epoch 2/100\n",
            "1500/1500 [==============================] - 7s 5ms/step - loss: 1848.9449 - val_loss: 1333.5989\n",
            "Epoch 3/100\n",
            "1500/1500 [==============================] - 6s 4ms/step - loss: 1045.3475 - val_loss: 810.7817\n",
            "Epoch 4/100\n",
            "1500/1500 [==============================] - 7s 5ms/step - loss: 646.4633 - val_loss: 531.6876\n",
            "Epoch 5/100\n",
            "1500/1500 [==============================] - 6s 4ms/step - loss: 418.1694 - val_loss: 368.3628\n",
            "Epoch 6/100\n",
            "1500/1500 [==============================] - 7s 5ms/step - loss: 279.1924 - val_loss: 274.6284\n",
            "Epoch 7/100\n",
            "1500/1500 [==============================] - 6s 4ms/step - loss: 195.2345 - val_loss: 209.9147\n",
            "Epoch 8/100\n",
            "1500/1500 [==============================] - 7s 5ms/step - loss: 141.5898 - val_loss: 173.4820\n",
            "Epoch 9/100\n",
            "1500/1500 [==============================] - 7s 5ms/step - loss: 104.7149 - val_loss: 145.4415\n",
            "Epoch 10/100\n",
            "1500/1500 [==============================] - 7s 5ms/step - loss: 80.2835 - val_loss: 127.5192\n",
            "Epoch 11/100\n",
            "1500/1500 [==============================] - 7s 5ms/step - loss: 61.4022 - val_loss: 116.5785\n",
            "Epoch 12/100\n",
            "1500/1500 [==============================] - 8s 5ms/step - loss: 47.9861 - val_loss: 100.8146\n",
            "Epoch 13/100\n",
            "1500/1500 [==============================] - 8s 5ms/step - loss: 38.0007 - val_loss: 96.2714\n",
            "Epoch 14/100\n",
            "1500/1500 [==============================] - 8s 5ms/step - loss: 30.8320 - val_loss: 88.2129\n",
            "Epoch 15/100\n",
            "1500/1500 [==============================] - 9s 6ms/step - loss: 24.3098 - val_loss: 85.9661\n",
            "Epoch 16/100\n",
            "1500/1500 [==============================] - 8s 5ms/step - loss: 20.2468 - val_loss: 80.9405\n",
            "Epoch 17/100\n",
            "1500/1500 [==============================] - 8s 5ms/step - loss: 16.6127 - val_loss: 79.9151\n",
            "Epoch 18/100\n",
            "1500/1500 [==============================] - 8s 5ms/step - loss: 14.0794 - val_loss: 76.7766\n",
            "Epoch 19/100\n",
            "1500/1500 [==============================] - 7s 5ms/step - loss: 11.2892 - val_loss: 76.0618\n",
            "Epoch 20/100\n",
            "1500/1500 [==============================] - 8s 6ms/step - loss: 10.0168 - val_loss: 73.2000\n",
            "Epoch 21/100\n",
            "1500/1500 [==============================] - 7s 4ms/step - loss: 8.5078 - val_loss: 70.7653\n",
            "Epoch 22/100\n",
            "1500/1500 [==============================] - 8s 5ms/step - loss: 6.9784 - val_loss: 70.5321\n",
            "Epoch 23/100\n",
            "1500/1500 [==============================] - 7s 5ms/step - loss: 6.3293 - val_loss: 69.3372\n",
            "Epoch 24/100\n",
            "1500/1500 [==============================] - 8s 5ms/step - loss: 5.2787 - val_loss: 67.8609\n",
            "Epoch 25/100\n",
            "1500/1500 [==============================] - 7s 5ms/step - loss: 5.0315 - val_loss: 66.9569\n",
            "Epoch 26/100\n",
            "1500/1500 [==============================] - 6s 4ms/step - loss: 4.4382 - val_loss: 66.0082\n",
            "Epoch 27/100\n",
            "1500/1500 [==============================] - 8s 5ms/step - loss: 3.7049 - val_loss: 65.3762\n",
            "Epoch 28/100\n",
            "1500/1500 [==============================] - 6s 4ms/step - loss: 3.4854 - val_loss: 68.6459\n",
            "Epoch 29/100\n",
            "1500/1500 [==============================] - 9s 6ms/step - loss: 3.2887 - val_loss: 65.4294\n",
            "Epoch 30/100\n",
            "1500/1500 [==============================] - 6s 4ms/step - loss: 2.9068 - val_loss: 67.7373\n",
            "Epoch 31/100\n",
            "1500/1500 [==============================] - 8s 5ms/step - loss: 2.7598 - val_loss: 66.5868\n",
            "Epoch 32/100\n",
            "1500/1500 [==============================] - 7s 5ms/step - loss: 2.5995 - val_loss: 64.5673\n",
            "Epoch 33/100\n",
            "1500/1500 [==============================] - 7s 5ms/step - loss: 2.3355 - val_loss: 64.0557\n",
            "Epoch 34/100\n",
            "1500/1500 [==============================] - 8s 5ms/step - loss: 2.1080 - val_loss: 64.5773\n",
            "Epoch 35/100\n",
            "1500/1500 [==============================] - 7s 5ms/step - loss: 2.1430 - val_loss: 65.5840\n",
            "Epoch 36/100\n",
            "1500/1500 [==============================] - 8s 5ms/step - loss: 1.9443 - val_loss: 63.4622\n",
            "Epoch 37/100\n",
            "1500/1500 [==============================] - 7s 5ms/step - loss: 1.6305 - val_loss: 65.7716\n",
            "Epoch 38/100\n",
            "1500/1500 [==============================] - 7s 5ms/step - loss: 1.5969 - val_loss: 63.3152\n",
            "Epoch 39/100\n",
            "1500/1500 [==============================] - 7s 5ms/step - loss: 1.6708 - val_loss: 63.3636\n",
            "Epoch 40/100\n",
            "1500/1500 [==============================] - 8s 5ms/step - loss: 1.5399 - val_loss: 63.5894\n",
            "Epoch 41/100\n",
            "1500/1500 [==============================] - 9s 6ms/step - loss: 1.5063 - val_loss: 63.2730\n",
            "Epoch 42/100\n",
            "1500/1500 [==============================] - 6s 4ms/step - loss: 1.4827 - val_loss: 63.9284\n",
            "Epoch 43/100\n",
            "1500/1500 [==============================] - 8s 5ms/step - loss: 1.1959 - val_loss: 63.4450\n",
            "Epoch 44/100\n",
            "1500/1500 [==============================] - 6s 4ms/step - loss: 1.3053 - val_loss: 65.8091\n",
            "Epoch 45/100\n",
            "1500/1500 [==============================] - 8s 5ms/step - loss: 1.2433 - val_loss: 65.1080\n",
            "Epoch 46/100\n",
            "1500/1500 [==============================] - 6s 4ms/step - loss: 1.0454 - val_loss: 65.2145\n",
            "Epoch 47/100\n",
            "1500/1500 [==============================] - 7s 5ms/step - loss: 1.1277 - val_loss: 65.7177\n",
            "Epoch 48/100\n",
            "1500/1500 [==============================] - 8s 5ms/step - loss: 1.3182 - val_loss: 67.2595\n",
            "Epoch 49/100\n",
            "1500/1500 [==============================] - 6s 4ms/step - loss: 1.1620 - val_loss: 66.1375\n",
            "Epoch 50/100\n",
            "1500/1500 [==============================] - 7s 5ms/step - loss: 1.2436 - val_loss: 66.7906\n",
            "Epoch 51/100\n",
            "1500/1500 [==============================] - 6s 4ms/step - loss: 0.8551 - val_loss: 66.5990\n",
            "Epoch 52/100\n",
            "1500/1500 [==============================] - 8s 5ms/step - loss: 1.1592 - val_loss: 67.7999\n",
            "Epoch 53/100\n",
            "1500/1500 [==============================] - 7s 5ms/step - loss: 0.8642 - val_loss: 69.3026\n",
            "Epoch 54/100\n",
            "1500/1500 [==============================] - 8s 5ms/step - loss: 1.2032 - val_loss: 69.8442\n",
            "Epoch 55/100\n",
            "1500/1500 [==============================] - 8s 5ms/step - loss: 1.1748 - val_loss: 64.5175\n",
            "Epoch 56/100\n",
            "1500/1500 [==============================] - 7s 4ms/step - loss: 0.8802 - val_loss: 65.2978\n",
            "Epoch 57/100\n",
            "1500/1500 [==============================] - 8s 5ms/step - loss: 0.9395 - val_loss: 67.6493\n",
            "Epoch 58/100\n",
            "1500/1500 [==============================] - 7s 4ms/step - loss: 0.8909 - val_loss: 67.3811\n",
            "Epoch 59/100\n",
            "1500/1500 [==============================] - 8s 5ms/step - loss: 0.6449 - val_loss: 67.7153\n",
            "Epoch 60/100\n",
            "1500/1500 [==============================] - 7s 5ms/step - loss: 0.9014 - val_loss: 70.4571\n",
            "Epoch 61/100\n",
            "1500/1500 [==============================] - 8s 5ms/step - loss: 0.9038 - val_loss: 67.3972\n",
            "Epoch 62/100\n",
            "1500/1500 [==============================] - 8s 5ms/step - loss: 0.8750 - val_loss: 65.0123\n",
            "Epoch 63/100\n",
            "1500/1500 [==============================] - 7s 5ms/step - loss: 0.6561 - val_loss: 67.0825\n",
            "Epoch 64/100\n",
            "1500/1500 [==============================] - 8s 5ms/step - loss: 0.8042 - val_loss: 66.8567\n",
            "Epoch 65/100\n",
            "1500/1500 [==============================] - 7s 4ms/step - loss: 0.8137 - val_loss: 67.6004\n",
            "Epoch 66/100\n",
            "1500/1500 [==============================] - 8s 5ms/step - loss: 0.7014 - val_loss: 67.1411\n",
            "Epoch 67/100\n",
            "1500/1500 [==============================] - 6s 4ms/step - loss: 0.7068 - val_loss: 65.1231\n",
            "Epoch 68/100\n",
            "1500/1500 [==============================] - 7s 5ms/step - loss: 0.7880 - val_loss: 66.8349\n",
            "Epoch 69/100\n",
            "1500/1500 [==============================] - 6s 4ms/step - loss: 0.6630 - val_loss: 66.9886\n",
            "Epoch 70/100\n",
            "1500/1500 [==============================] - 8s 5ms/step - loss: 0.6728 - val_loss: 67.9886\n",
            "Epoch 71/100\n",
            "1500/1500 [==============================] - 8s 5ms/step - loss: 0.6098 - val_loss: 71.8635\n",
            "Epoch 72/100\n",
            "1500/1500 [==============================] - 7s 5ms/step - loss: 0.6875 - val_loss: 69.1309\n",
            "Epoch 73/100\n",
            "1500/1500 [==============================] - 7s 5ms/step - loss: 0.6361 - val_loss: 69.1339\n",
            "Epoch 74/100\n",
            "1500/1500 [==============================] - 7s 5ms/step - loss: 0.6731 - val_loss: 69.2295\n",
            "Epoch 75/100\n",
            "1500/1500 [==============================] - 7s 5ms/step - loss: 0.5339 - val_loss: 67.7363\n",
            "Epoch 76/100\n",
            "1500/1500 [==============================] - 7s 4ms/step - loss: 0.8625 - val_loss: 69.0155\n",
            "Epoch 77/100\n",
            "1500/1500 [==============================] - 8s 5ms/step - loss: 0.5887 - val_loss: 67.8977\n",
            "Epoch 78/100\n",
            "1500/1500 [==============================] - 7s 5ms/step - loss: 0.7402 - val_loss: 70.6134\n",
            "Epoch 79/100\n",
            "1500/1500 [==============================] - 8s 5ms/step - loss: 0.5643 - val_loss: 69.1236\n",
            "Epoch 80/100\n",
            "1500/1500 [==============================] - 8s 5ms/step - loss: 0.8622 - val_loss: 72.4384\n",
            "Epoch 81/100\n",
            "1500/1500 [==============================] - 7s 5ms/step - loss: 0.4511 - val_loss: 69.7109\n",
            "Epoch 82/100\n",
            "1500/1500 [==============================] - 8s 5ms/step - loss: 0.5198 - val_loss: 69.3326\n",
            "Epoch 83/100\n",
            "1500/1500 [==============================] - 6s 4ms/step - loss: 0.6120 - val_loss: 71.9157\n",
            "Epoch 84/100\n",
            "1500/1500 [==============================] - 8s 5ms/step - loss: 0.6091 - val_loss: 71.4758\n",
            "Epoch 85/100\n",
            "1500/1500 [==============================] - 6s 4ms/step - loss: 0.4844 - val_loss: 70.6970\n",
            "Epoch 86/100\n",
            "1500/1500 [==============================] - 7s 5ms/step - loss: 0.6254 - val_loss: 71.0790\n",
            "Epoch 87/100\n",
            "1500/1500 [==============================] - 8s 5ms/step - loss: 0.5324 - val_loss: 69.3872\n",
            "Epoch 88/100\n",
            "1500/1500 [==============================] - 7s 5ms/step - loss: 0.5500 - val_loss: 69.4185\n",
            "Epoch 89/100\n",
            "1500/1500 [==============================] - 8s 5ms/step - loss: 0.4194 - val_loss: 69.2800\n",
            "Epoch 90/100\n",
            "1500/1500 [==============================] - 7s 5ms/step - loss: 0.6286 - val_loss: 69.1394\n",
            "Epoch 91/100\n",
            "1500/1500 [==============================] - 7s 5ms/step - loss: 0.4330 - val_loss: 70.3045\n",
            "Epoch 92/100\n",
            "1500/1500 [==============================] - 6s 4ms/step - loss: 0.6744 - val_loss: 71.2477\n",
            "Epoch 93/100\n",
            "1500/1500 [==============================] - 8s 5ms/step - loss: 0.5251 - val_loss: 70.6187\n",
            "Epoch 94/100\n",
            "1500/1500 [==============================] - 6s 4ms/step - loss: 0.4695 - val_loss: 71.5390\n",
            "Epoch 95/100\n",
            "1500/1500 [==============================] - 8s 5ms/step - loss: 0.4735 - val_loss: 69.0527\n",
            "Epoch 96/100\n",
            "1500/1500 [==============================] - 7s 4ms/step - loss: 0.4649 - val_loss: 71.3586\n",
            "Epoch 97/100\n",
            "1500/1500 [==============================] - 7s 5ms/step - loss: 0.3690 - val_loss: 71.6294\n",
            "Epoch 98/100\n",
            "1500/1500 [==============================] - 9s 6ms/step - loss: 0.4920 - val_loss: 71.4305\n",
            "Epoch 99/100\n",
            "1500/1500 [==============================] - 6s 4ms/step - loss: 0.4426 - val_loss: 72.3662\n",
            "Epoch 100/100\n",
            "1500/1500 [==============================] - 7s 5ms/step - loss: 0.4181 - val_loss: 70.6709\n"
          ]
        },
        {
          "output_type": "execute_result",
          "data": {
            "text/plain": [
              "<keras.src.callbacks.History at 0x7a280b32ded0>"
            ]
          },
          "metadata": {},
          "execution_count": 34
        }
      ]
    },
    {
      "cell_type": "code",
      "source": [],
      "metadata": {
        "id": "QKQNViJk3vA4"
      },
      "execution_count": null,
      "outputs": []
    },
    {
      "cell_type": "code",
      "source": [
        "y_pred=model.predict(X_test)\n",
        "y_pred=y_pred.argmax(axis=1)\n"
      ],
      "metadata": {
        "colab": {
          "base_uri": "https://localhost:8080/"
        },
        "id": "m3sDbvjAyGOO",
        "outputId": "fb409433-ef0a-42dd-d770-0bd274dae747"
      },
      "execution_count": null,
      "outputs": [
        {
          "output_type": "stream",
          "name": "stdout",
          "text": [
            "313/313 [==============================] - 1s 2ms/step\n"
          ]
        }
      ]
    },
    {
      "cell_type": "code",
      "source": [
        "from sklearn.metrics import accuracy_score\n"
      ],
      "metadata": {
        "id": "e_RT8YuXzN6_"
      },
      "execution_count": null,
      "outputs": []
    },
    {
      "cell_type": "code",
      "source": [
        "accuracy_score(y_test,y_pred)"
      ],
      "metadata": {
        "colab": {
          "base_uri": "https://localhost:8080/"
        },
        "id": "mGkPi6m62b1N",
        "outputId": "b1740994-2f82-47fa-b550-712af545284b"
      },
      "execution_count": null,
      "outputs": [
        {
          "output_type": "execute_result",
          "data": {
            "text/plain": [
              "0.9582"
            ]
          },
          "metadata": {},
          "execution_count": 37
        }
      ]
    },
    {
      "cell_type": "code",
      "source": [],
      "metadata": {
        "id": "CpbEXkrS4CwG"
      },
      "execution_count": null,
      "outputs": []
    }
  ]
}